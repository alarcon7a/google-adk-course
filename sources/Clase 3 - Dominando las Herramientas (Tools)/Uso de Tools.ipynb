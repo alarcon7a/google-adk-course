{
  "cells": [
    {
      "cell_type": "markdown",
      "metadata": {
        "id": "header_main"
      },
      "source": [
        "# 🛠️ Google ADK Avanzado: Dominando las Herramientas (Tools)\n",
        "## Tutorial Práctico para Google Colab\n",
        "\n",
        "---\n",
        "\n",
        "## 📋 Índice\n",
        "1. **Configuración Inicial****\n",
        "2. **¿Qué son las Herramientas en ADK?**\n",
        "3. **Herramientas Preconstruidas**\n",
        "4. **Creando Herramientas Personalizadas**\n",
        "5. **Buenas practicas**\n",
        "6. **Casos de Uso Avanzados**\n"
      ]
    },
    {
      "cell_type": "markdown",
      "metadata": {
        "id": "config_section"
      },
      "source": [
        "## 1. Configuración Inicial\n",
        "\n",
        "### Instalación del ADK"
      ]
    },
    {
      "cell_type": "code",
      "execution_count": null,
      "metadata": {
        "id": "install_adk"
      },
      "outputs": [],
      "source": [
        "# Instalar Google ADK\n",
        "!pip install -q google-adk==1.4.2"
      ]
    },
    {
      "cell_type": "code",
      "execution_count": 1,
      "metadata": {},
      "outputs": [],
      "source": [
        "# Importaciones necesarias\n",
        "import os\n",
        "from google.adk.agents import LlmAgent\n",
        "from google.adk.tools import google_search\n",
        "from google.genai import types\n",
        "from google.adk.runners import Runner\n",
        "from google.adk.sessions import InMemorySessionService\n",
        "from getpass import getpass"
      ]
    },
    {
      "cell_type": "markdown",
      "metadata": {},
      "source": [
        "#### Opcion 1: Ingresalas directamente"
      ]
    },
    {
      "cell_type": "code",
      "execution_count": null,
      "metadata": {},
      "outputs": [],
      "source": [
        "# Solicitar API Key de forma segura\n",
        "if 'GOOGLE_API_KEY' not in os.environ:\n",
        "    print(\"🔑 Por favor, ingresa tu Google API Key:\")\n",
        "    api_key = getpass(\"API Key: \")\n",
        "    os.environ['GOOGLE_API_KEY'] = api_key\n",
        "    os.environ['GOOGLE_GENAI_USE_VERTEXAI'] = 'FALSE'\n",
        "    print(\"\\n✅ API Key configurada correctamente\")\n",
        "else:\n",
        "    print(\"✅ API Key ya configurada\")\n",
        "\n",
        "# Verificar que las variables estén configuradas\n",
        "print(f\"\\n📋 Variables de entorno configuradas:\")\n",
        "print(f\"   - GOOGLE_API_KEY: {'✓' if os.environ.get('GOOGLE_API_KEY') else '✗'}\")\n",
        "print(f\"   - GOOGLE_GENAI_USE_VERTEXAI: {os.environ.get('GOOGLE_GENAI_USE_VERTEXAI', 'No configurado')}\")\n",
        "\n",
        "print(\"✅ ADK instalado y configurado correctamente!\")"
      ]
    },
    {
      "cell_type": "markdown",
      "metadata": {},
      "source": [
        "#### Opcion 2: Cargar por Dotenv"
      ]
    },
    {
      "cell_type": "code",
      "execution_count": 2,
      "metadata": {},
      "outputs": [
        {
          "data": {
            "text/plain": [
              "True"
            ]
          },
          "execution_count": 2,
          "metadata": {},
          "output_type": "execute_result"
        }
      ],
      "source": [
        "from dotenv import load_dotenv\n",
        "# Cargar variables de entorno desde .env si existe\n",
        "load_dotenv(override=True)"
      ]
    },
    {
      "cell_type": "markdown",
      "metadata": {
        "id": "concepts_section"
      },
      "source": [
        "## 2. ¿Qué son las Herramientas en ADK?\n",
        "\n",
        "Las **herramientas (tools)** son capacidades o funciones que un agente puede invocar para:\n",
        "- 🔍 Buscar información\n",
        "- 🧮 Realizar cálculos\n",
        "- 🌐 Interactuar con APIs\n",
        "- 📊 Procesar datos\n",
        "- ⚙️ Ejecutar acciones específicas\n",
        "\n",
        "### Conceptos Clave"
      ]
    },
    {
      "cell_type": "code",
      "execution_count": 3,
      "metadata": {
        "id": "concepts_viz"
      },
      "outputs": [
        {
          "name": "stdout",
          "output_type": "stream",
          "text": [
            "\n",
            "🤖 AGENTE LLM\n",
            "    ↓\n",
            "📦 CAJA DE HERRAMIENTAS\n",
            "    ├── 🔍 Búsqueda Google\n",
            "    ├── 🧮 Calculadora\n",
            "    ├── 📊 Base de Datos\n",
            "    └── 🌐 APIs Externas\n",
            "    ↓\n",
            "🌍 ACCIÓN EN EL MUNDO REAL\n",
            "\n"
          ]
        }
      ],
      "source": [
        "# Visualizar el concepto de herramientas\n",
        "print(\"\"\"\n",
        "🤖 AGENTE LLM\n",
        "    ↓\n",
        "📦 CAJA DE HERRAMIENTAS\n",
        "    ├── 🔍 Búsqueda Google\n",
        "    ├── 🧮 Calculadora\n",
        "    ├── 📊 Base de Datos\n",
        "    └── 🌐 APIs Externas\n",
        "    ↓\n",
        "🌍 ACCIÓN EN EL MUNDO REAL\n",
        "\"\"\")"
      ]
    },
    {
      "cell_type": "markdown",
      "metadata": {
        "id": "prebuilt_section"
      },
      "source": [
        "## 3. Herramientas Preconstruidas\n",
        "\n",
        "### Ejemplo: GoogleSearchTool"
      ]
    },
    {
      "cell_type": "markdown",
      "metadata": {},
      "source": [
        "##### Nuestra funcion de inferencia"
      ]
    },
    {
      "cell_type": "code",
      "execution_count": 4,
      "metadata": {},
      "outputs": [],
      "source": [
        "async def call_agent_async(query: str, runner, user_id, session_id):\n",
        "    \"\"\"Envía una consulta al agente e imprime la respuesta final.\"\"\"\n",
        "    print(f\"\\n>>> Consulta del usuario: {query}\")\n",
        "\n",
        "    # Prepara el mensaje del usuario en el formato de ADK\n",
        "    content = types.Content(role='user', parts=[types.Part(text=query)])\n",
        "\n",
        "    final_response_text = \"El agente no produjo una respuesta final.\" # Valor por defecto\n",
        "\n",
        "    # Concepto clave: run_async ejecuta la lógica del agente y genera eventos.\n",
        "    # Iteramos a través de los eventos para encontrar la respuesta final.\n",
        "    async for event in runner.run_async(user_id=user_id, session_id=session_id, new_message=content):\n",
        "        # Puedes descomentar la línea de abajo para ver *todos* los eventos durante la ejecución\n",
        "        # print(f\"  [Evento] Autor: {event.author}, Tipo: {type(event).__name__}, Final: {event.is_final_response()}, Contenido: {event.content}\")\n",
        "\n",
        "        # Concepto clave: is_final_response() marca el mensaje que concluye el turno.\n",
        "        if event.is_final_response():\n",
        "            if event.content and event.content.parts:\n",
        "                # Se asume que la respuesta de texto está en la primera parte\n",
        "                final_response_text = event.content.parts[0].text\n",
        "            elif event.actions and event.actions.escalate: # Maneja posibles errores/escalamientos\n",
        "                final_response_text = f\"El agente escaló: {event.error_message or 'Sin mensaje específico.'}\"\n",
        "            # Agrega más validaciones aquí si es necesario (por ejemplo, códigos de error específicos)\n",
        "            break # Deja de procesar eventos una vez encontrada la respuesta final\n",
        "\n",
        "    print(f\"<<< Respuesta del agente: {final_response_text}\")\n"
      ]
    },
    {
      "cell_type": "code",
      "execution_count": 5,
      "metadata": {
        "id": "google_search_agent"
      },
      "outputs": [
        {
          "name": "stdout",
          "output_type": "stream",
          "text": [
            "✅ Agente investigador creado con GoogleSearchTool\n"
          ]
        }
      ],
      "source": [
        "# Crear un agente con la herramienta de búsqueda de Google\n",
        "agente_search = LlmAgent(\n",
        "    name=\"InvestigadorGoogle\",\n",
        "    model=\"gemini-2.5-flash\",\n",
        "    description=\"Un agente que usa búsqueda de Google para responder preguntas actuales\",\n",
        "    tools=[google_search],  # Herramienta preconstruida\n",
        "    instruction=(\n",
        "        \"Eres un investigador experto. \"\n",
        "        \"Usa la búsqueda de Google para encontrar información actualizada. \"\n",
        "        \"Cita tus fuentes cuando sea posible.\"\n",
        "    )\n",
        ")\n",
        "\n",
        "print(\"✅ Agente investigador creado con GoogleSearchTool\")"
      ]
    },
    {
      "cell_type": "markdown",
      "metadata": {
        "id": "test_search_section"
      },
      "source": [
        "#### Probar el agente investigador"
      ]
    },
    {
      "cell_type": "code",
      "execution_count": 6,
      "metadata": {},
      "outputs": [],
      "source": [
        "# Concepto clave: SessionService almacena el historial y estado de la conversación.\n",
        "# InMemorySessionService es un almacenamiento simple y no persistente para este tutorial.\n",
        "session_service = InMemorySessionService()\n",
        "\n",
        "# Definir constantes para identificar el contexto de la interacción\n",
        "APP_NAME = \"agente_search_tool\"\n",
        "USER_ID = \"user_1\"\n",
        "SESSION_ID = \"session_001\" # Usando un ID fijo por simplicidad\n",
        "\n",
        "# Crear la sesión específica donde ocurrirá la conversación\n",
        "session = await session_service.create_session(\n",
        "    app_name=APP_NAME,\n",
        "    user_id=USER_ID,\n",
        "    session_id=SESSION_ID\n",
        ")\n",
        "# Runner: Este es el componente principal que gestiona la interacción con el agente.\n",
        "runner = Runner(agent=agente_search,\n",
        "                app_name=APP_NAME,\n",
        "                session_service=session_service)\n",
        "\n"
      ]
    },
    {
      "cell_type": "code",
      "execution_count": 7,
      "metadata": {
        "id": "test_search_agent"
      },
      "outputs": [
        {
          "name": "stdout",
          "output_type": "stream",
          "text": [
            "\n",
            ">>> Consulta del usuario: Como se llama el nuevo papa, para 2025\n",
            "<<< Respuesta del agente: El nuevo Papa para 2025 se llama León XIV, cuyo nombre secular es Robert Francis Prevost. Fue elegido el 8 de mayo de 2025, sucediendo al Papa Francisco, quien falleció el 21 de abril de 2025.\n",
            "\n",
            "Robert Francis Prevost nació el 14 de septiembre de 1955 en Chicago, Illinois, Estados Unidos. Es el Papa número 267 de la Iglesia Católica y el primer pontífice estadounidense, además de tener nacionalidad peruana. Antes de su elección, se desempeñó como Prefecto del Dicasterio para los Obispos y presidente de la Pontificia Comisión para América Latina (2023-2025). Su elección se produjo tras un cónclave que duró dos días y en el que participaron 133 cardenales electores.\n"
          ]
        }
      ],
      "source": [
        "await call_agent_async(\"Como se llama el nuevo papa, para 2025\",\n",
        "                        runner=runner,\n",
        "                        user_id=USER_ID,\n",
        "                        session_id=SESSION_ID)"
      ]
    },
    {
      "cell_type": "markdown",
      "metadata": {},
      "source": [
        "### Ejemplo: BuiltInCodeExecutor para ejecución de codigo"
      ]
    },
    {
      "cell_type": "code",
      "execution_count": 8,
      "metadata": {},
      "outputs": [],
      "source": [
        "from google.adk.code_executors import BuiltInCodeExecutor\n",
        "\n",
        "AGENT_NAME = \"calculator_agent\"\n",
        "APP_NAME = \"calculator\"\n",
        "USER_ID = \"user1234\"\n",
        "SESSION_ID = \"session_code_exec_async\"\n",
        "GEMINI_MODEL = \"gemini-2.0-flash\"\n",
        "\n",
        "code_agent = LlmAgent(\n",
        "    name=AGENT_NAME,\n",
        "    model=GEMINI_MODEL,\n",
        "    code_executor=BuiltInCodeExecutor(),  # habilita ejecución de código\n",
        "    instruction=\"\"\"Eres un agente calculadora.\n",
        "    Cuando se te proporcione una expresión matemática, escribe y ejecuta código Python para calcular el resultado.\n",
        "    Devuelve únicamente el resultado numérico final como texto plano, sin formato markdown ni bloques de código.\n",
        "    \"\"\",\n",
        "    description=\"Ejecuta código Python para realizar cálculos.\",\n",
        ")\n",
        "\n",
        "# Session and Runner\n",
        "session_service = InMemorySessionService()\n",
        "session = await session_service.create_session(\n",
        "    app_name=APP_NAME, user_id=USER_ID, session_id=SESSION_ID\n",
        ")\n",
        "runner = Runner(agent=code_agent, app_name=APP_NAME, session_service=session_service)"
      ]
    },
    {
      "cell_type": "code",
      "execution_count": 9,
      "metadata": {},
      "outputs": [],
      "source": [
        "# Función asincrónica para enviar una consulta al agente y procesar los eventos que devuelve\n",
        "async def call_agent_async_code(query, runner, user_id, session_id):\n",
        "    # Crear el mensaje con el texto del usuario en el formato requerido por ADK\n",
        "    content = types.Content(role=\"user\", parts=[types.Part(text=query)])\n",
        "    print(f\"\\n--- Ejecutando Consulta: {query} ---\")\n",
        "\n",
        "    # Variable para almacenar la respuesta final del agente\n",
        "    final_response_text = \"No se capturó una respuesta final de texto.\"\n",
        "\n",
        "    # Inicia el ciclo asincrónico para procesar cada evento emitido por el agente\n",
        "    async for event in runner.run_async(\n",
        "        user_id=user_id, session_id=session_id, new_message=content\n",
        "    ):\n",
        "        print(f\"ID del Evento: {event.id}, Autor: {event.author}\")\n",
        "\n",
        "        # --- Verificar si el evento contiene partes específicas como código o resultados ---\n",
        "        has_specific_part = False\n",
        "        if event.content and event.content.parts:\n",
        "            for part in event.content.parts:  # Iterar por todas las partes del contenido\n",
        "                if part.executable_code:\n",
        "                    # Si hay código ejecutable generado por el agente, lo imprimimos\n",
        "                    print(\n",
        "                        f\"  Debug: Código generado por el agente:\\n```python\\n{part.executable_code.code}\\n```\"\n",
        "                    )\n",
        "                    has_specific_part = True\n",
        "                elif part.code_execution_result:\n",
        "                    # Si hay resultado de ejecución de código, mostrar el resultado\n",
        "                    print(\n",
        "                        f\"  Debug: Resultado de ejecución de código: {part.code_execution_result.outcome} - Salida:\\n{part.code_execution_result.output}\"\n",
        "                    )\n",
        "                    has_specific_part = True\n",
        "                elif part.text and not part.text.isspace():\n",
        "                    # Si hay texto plano, lo mostramos (no se considera parte \"específica\")\n",
        "                    print(f\"  Texto: '{part.text.strip()}'\")\n",
        "                    # No marcamos `has_specific_part = True` aquí para no interferir con la lógica de respuesta final\n",
        "\n",
        "        # --- Verificar si es una respuesta final (después de manejar partes específicas) ---\n",
        "        # Solo consideramos esta respuesta como final si no hubo partes específicas antes\n",
        "        if not has_specific_part and event.is_final_response():\n",
        "            if (\n",
        "                event.content\n",
        "                and event.content.parts\n",
        "                and event.content.parts[0].text\n",
        "            ):\n",
        "                final_response_text = event.content.parts[0].text.strip()\n",
        "                print(f\"==> Respuesta Final del Agente: {final_response_text}\")\n",
        "            else:\n",
        "                print(\"==> Respuesta Final del Agente: [Sin contenido de texto en el evento final]\")\n",
        "\n",
        "    # Mensaje final de cierre\n",
        "    print(\"-\" * 30)\n"
      ]
    },
    {
      "cell_type": "markdown",
      "metadata": {},
      "source": [
        "#### Test 1"
      ]
    },
    {
      "cell_type": "code",
      "execution_count": 10,
      "metadata": {},
      "outputs": [
        {
          "name": "stdout",
          "output_type": "stream",
          "text": [
            "\n",
            "--- Ejecutando Consulta: Calcula el valor de ((5 + 7 + 10) * 12) elevado a la 2 ---\n"
          ]
        },
        {
          "name": "stderr",
          "output_type": "stream",
          "text": [
            "Warning: there are non-text parts in the response: ['executable_code', 'code_execution_result'], returning concatenated text result from text parts. Check the full candidates.content.parts accessor to get the full model response.\n"
          ]
        },
        {
          "name": "stdout",
          "output_type": "stream",
          "text": [
            "ID del Evento: 0lMczDCk, Autor: calculator_agent\n",
            "  Debug: Código generado por el agente:\n",
            "```python\n",
            "result = ((5 + 7 + 10) * 12)**2\n",
            "print(result)\n",
            "\n",
            "```\n",
            "  Debug: Resultado de ejecución de código: OUTCOME_OK - Salida:\n",
            "69696\n",
            "\n",
            "  Texto: '69696'\n",
            "------------------------------\n"
          ]
        }
      ],
      "source": [
        "await call_agent_async_code(\"Calcula el valor de ((5 + 7 + 10) * 12) elevado a la 2\", runner, USER_ID, SESSION_ID)"
      ]
    },
    {
      "cell_type": "markdown",
      "metadata": {},
      "source": [
        "#### Test 2"
      ]
    },
    {
      "cell_type": "code",
      "execution_count": 11,
      "metadata": {},
      "outputs": [
        {
          "name": "stdout",
          "output_type": "stream",
          "text": [
            "\n",
            "--- Ejecutando Consulta: Cual es el factorial de 10? ---\n"
          ]
        },
        {
          "name": "stderr",
          "output_type": "stream",
          "text": [
            "Warning: there are non-text parts in the response: ['executable_code', 'code_execution_result'], returning concatenated text result from text parts. Check the full candidates.content.parts accessor to get the full model response.\n"
          ]
        },
        {
          "name": "stdout",
          "output_type": "stream",
          "text": [
            "ID del Evento: nRVyAYYt, Autor: calculator_agent\n",
            "  Debug: Código generado por el agente:\n",
            "```python\n",
            "import math\n",
            "print(math.factorial(10))\n",
            "\n",
            "```\n",
            "  Debug: Resultado de ejecución de código: OUTCOME_OK - Salida:\n",
            "3628800\n",
            "\n",
            "  Texto: '3628800'\n",
            "------------------------------\n"
          ]
        }
      ],
      "source": [
        "await call_agent_async_code(\"Cual es el factorial de 10?\", runner, USER_ID, SESSION_ID)"
      ]
    },
    {
      "cell_type": "markdown",
      "metadata": {
        "id": "custom_tools_section"
      },
      "source": [
        "## 4. Creando Herramientas Personalizadas\n",
        "\n",
        "### 🧮 Herramienta 1: Calculadora Simple"
      ]
    },
    {
      "cell_type": "code",
      "execution_count": 12,
      "metadata": {
        "id": "tool_sum"
      },
      "outputs": [],
      "source": [
        "def sumar_numeros(a: int, b: int) -> dict:\n",
        "    \"\"\"\n",
        "    Suma dos números enteros y devuelve el resultado de forma estructurada.\n",
        "\n",
        "    Usa esta herramienta cuando necesites realizar una suma de dos valores enteros.\n",
        "    \n",
        "    Args:\n",
        "        a (int): Primer número a sumar.\n",
        "        b (int): Segundo número a sumar.\n",
        "\n",
        "    Returns:\n",
        "        dict: Un diccionario con las siguientes claves:\n",
        "            - 'status' (str): \"success\" si la operación fue exitosa.\n",
        "            - 'result' (int): Resultado de la suma (a + b).\n",
        "            - 'operation' (str): Descripción de la operación realizada.\n",
        "    \"\"\"\n",
        "    try:\n",
        "        print(f\"🧮 Herramienta sumar_numeros llamada con a={a}, b={b}\")\n",
        "        resultado = a + b\n",
        "        return {\n",
        "            \"status\": \"success\",\n",
        "            \"result\": resultado,\n",
        "            \"operation\": f\"Suma de {a} + {b}\"\n",
        "        }\n",
        "    except Exception as e:\n",
        "        return {\n",
        "            \"status\": \"error\",\n",
        "            \"error_message\": f\"Ocurrió un error al sumar los números: {str(e)}\"\n",
        "        }\n"
      ]
    },
    {
      "cell_type": "markdown",
      "metadata": {
        "id": "tool_product_section"
      },
      "source": [
        "### 🛍️ Herramienta 2: Búsqueda de Productos"
      ]
    },
    {
      "cell_type": "code",
      "execution_count": 13,
      "metadata": {
        "id": "tool_product_search"
      },
      "outputs": [],
      "source": [
        "import json\n",
        "\n",
        "def buscar_producto_por_nombre(nombre_producto: str) -> dict:\n",
        "    \"\"\"\n",
        "    Busca un producto por su nombre en el catálogo y devuelve un diccionario con sus detalles.\n",
        "\n",
        "    Usa esta herramienta si el usuario solicita información de un producto específico.\n",
        "\n",
        "    Args:\n",
        "        nombre_producto (str): Nombre del producto a buscar (no sensible a mayúsculas).\n",
        "\n",
        "    Returns:\n",
        "        dict: Diccionario con los siguientes posibles campos:\n",
        "            - 'status' (str): \"success\" si se encontró el producto, \"error\" si no.\n",
        "            - 'product' (dict, opcional): Detalles del producto si fue encontrado.\n",
        "            - 'error_message' (str, opcional): Mensaje explicativo si no se encontró el producto.\n",
        "    \"\"\"\n",
        "    print(f\"🛍️ Buscando producto: '{nombre_producto}'\")\n",
        "\n",
        "    # Simulación de base de datos\n",
        "    productos_db = {\n",
        "        \"laptop gamer\": {\n",
        "            \"id\": \"LPG001\",\n",
        "            \"nombre\": \"Laptop Gamer Pro\",\n",
        "            \"precio\": 1500,\n",
        "            \"stock\": 10,\n",
        "            \"características\": [\"RTX 4070\", \"32GB RAM\", \"1TB SSD\"]\n",
        "        },\n",
        "        \"teclado mecánico\": {\n",
        "            \"id\": \"TEC005\",\n",
        "            \"nombre\": \"Teclado Mecánico RGB\",\n",
        "            \"precio\": 120,\n",
        "            \"stock\": 25,\n",
        "            \"características\": [\"Switches Cherry MX\", \"RGB\", \"TKL\"]\n",
        "        },\n",
        "        \"monitor 4k\": {\n",
        "            \"id\": \"MON003\",\n",
        "            \"nombre\": \"Monitor 4K HDR\",\n",
        "            \"precio\": 400,\n",
        "            \"stock\": 5,\n",
        "            \"características\": [\"27 pulgadas\", \"144Hz\", \"HDR10\"]\n",
        "        }\n",
        "    }\n",
        "\n",
        "    producto = productos_db.get(nombre_producto.lower())\n",
        "    \n",
        "    if producto:\n",
        "        return {\n",
        "            \"status\": \"success\",\n",
        "            \"product\": producto\n",
        "        }\n",
        "    else:\n",
        "        return {\n",
        "            \"status\": \"error\",\n",
        "            \"error_message\": f\"Producto '{nombre_producto}' no encontrado en el catálogo.\"\n",
        "        }\n"
      ]
    },
    {
      "cell_type": "markdown",
      "metadata": {
        "id": "tool_percentage_section"
      },
      "source": [
        "### 📈 Herramienta 3: Cálculo de Porcentaje"
      ]
    },
    {
      "cell_type": "code",
      "execution_count": 14,
      "metadata": {
        "id": "tool_percentage"
      },
      "outputs": [],
      "source": [
        "def calcular_porcentaje(valor: float, porcentaje: float) -> dict:\n",
        "    \"\"\"\n",
        "    Calcula el porcentaje de un valor base.\n",
        "\n",
        "    Usa esta herramienta para calcular descuentos, aumentos, comisiones, proporciones u otros valores relativos a un porcentaje.\n",
        "\n",
        "    Args:\n",
        "        valor (float): Valor base sobre el cual se desea calcular el porcentaje.\n",
        "        porcentaje (float): Porcentaje a aplicar (ej. 15 para 15%).\n",
        "\n",
        "    Returns:\n",
        "        dict: Diccionario con las siguientes claves:\n",
        "            - 'status' (str): \"success\" si el cálculo fue exitoso.\n",
        "            - 'result' (float): Valor calculado, redondeado a dos decimales.\n",
        "            - 'details' (str): Explicación del cálculo realizado.\n",
        "    \"\"\"\n",
        "    try:\n",
        "        print(f\"📈 Calculando {porcentaje}% de {valor}\")\n",
        "        resultado = round((valor * porcentaje) / 100, 2)\n",
        "        return {\n",
        "            \"status\": \"success\",\n",
        "            \"result\": resultado,\n",
        "            \"details\": f\"{porcentaje}% de {valor} es {resultado}\"\n",
        "        }\n",
        "    except Exception as e:\n",
        "        return {\n",
        "            \"status\": \"error\",\n",
        "            \"error_message\": f\"No se pudo calcular el porcentaje: {str(e)}\"\n",
        "        }\n"
      ]
    },
    {
      "cell_type": "markdown",
      "metadata": {
        "id": "calc_agent_section"
      },
      "source": [
        "### Crear un agente con herramientas personalizadas"
      ]
    },
    {
      "cell_type": "code",
      "execution_count": 15,
      "metadata": {
        "id": "calc_agent"
      },
      "outputs": [
        {
          "name": "stdout",
          "output_type": "stream",
          "text": [
            "✅ Agente calculador creado con herramientas personalizadas\n"
          ]
        }
      ],
      "source": [
        "# Crear agente con nuestras herramientas personalizadas\n",
        "agente_fuction_tool = LlmAgent(\n",
        "    name=\"AgenteFunction\",\n",
        "    model=\"gemini-2.0-flash\",\n",
        "    description=\"Un agente que util que usa las herramientas personalizadas para cálculos y búsquedas\",\n",
        "    tools=[sumar_numeros, calcular_porcentaje, buscar_producto_por_nombre],  # Nuestras herramientas\n",
        "    generate_content_config=types.GenerateContentConfig(\n",
        "        temperature=0.1,  # Baja temperatura para cálculos precisos\n",
        "        max_output_tokens=300\n",
        "    ),\n",
        "    instruction=(\n",
        "        \"Eres un asistente preciso. \"\n",
        "        \"Ayuda al usuario usando las herramientas disponibles. \"\n",
        "    )\n",
        ")\n",
        "\n",
        "print(\"✅ Agente calculador creado con herramientas personalizadas\")"
      ]
    },
    {
      "cell_type": "code",
      "execution_count": 16,
      "metadata": {},
      "outputs": [],
      "source": [
        "# Concepto clave: SessionService almacena el historial y estado de la conversación.\n",
        "# InMemorySessionService es un almacenamiento simple y no persistente para este tutorial.\n",
        "session_service = InMemorySessionService()\n",
        "\n",
        "# Definir constantes para identificar el contexto de la interacción\n",
        "APP_NAME = \"agente_function_tool\"\n",
        "USER_ID = \"user_1\"\n",
        "SESSION_ID = \"session_001\" # Usando un ID fijo por simplicidad\n",
        "\n",
        "# Crear la sesión específica donde ocurrirá la conversación\n",
        "session = await session_service.create_session(\n",
        "    app_name=APP_NAME,\n",
        "    user_id=USER_ID,\n",
        "    session_id=SESSION_ID\n",
        ")\n",
        "# Runner: Este es el componente principal que gestiona la interacción con el agente.\n",
        "runner = Runner(agent=agente_fuction_tool,\n",
        "                app_name=APP_NAME,\n",
        "                session_service=session_service)\n",
        "\n"
      ]
    },
    {
      "cell_type": "markdown",
      "metadata": {
        "id": "test_calc_section"
      },
      "source": [
        "### Probar el agente de funciones"
      ]
    },
    {
      "cell_type": "code",
      "execution_count": 17,
      "metadata": {},
      "outputs": [
        {
          "name": "stdout",
          "output_type": "stream",
          "text": [
            "\n",
            ">>> Consulta del usuario: ¿Cuánto es 15% de 1200?\n"
          ]
        },
        {
          "name": "stderr",
          "output_type": "stream",
          "text": [
            "Warning: there are non-text parts in the response: ['function_call'], returning concatenated text result from text parts. Check the full candidates.content.parts accessor to get the full model response.\n"
          ]
        },
        {
          "name": "stdout",
          "output_type": "stream",
          "text": [
            "📈 Calculando 15% de 1200\n",
            "<<< Respuesta del agente: El 15% de 1200 es 180.\n"
          ]
        }
      ],
      "source": [
        "await call_agent_async(\"¿Cuánto es 15% de 1200?\", runner=runner, user_id=USER_ID, session_id=SESSION_ID)"
      ]
    },
    {
      "cell_type": "code",
      "execution_count": 18,
      "metadata": {},
      "outputs": [
        {
          "name": "stdout",
          "output_type": "stream",
          "text": [
            "\n",
            ">>> Consulta del usuario: Cuales son las caracteristicas y el precio del teclado mecánico?\n"
          ]
        },
        {
          "name": "stderr",
          "output_type": "stream",
          "text": [
            "Warning: there are non-text parts in the response: ['function_call'], returning concatenated text result from text parts. Check the full candidates.content.parts accessor to get the full model response.\n"
          ]
        },
        {
          "name": "stdout",
          "output_type": "stream",
          "text": [
            "🛍️ Buscando producto: 'teclado mecánico'\n",
            "<<< Respuesta del agente: El teclado mecánico RGB tiene switches Cherry MX, iluminación RGB, es TKL y cuesta 120.\n"
          ]
        }
      ],
      "source": [
        "await call_agent_async(\"Cuales son las caracteristicas y el precio del teclado mecánico?\", runner=runner, user_id=USER_ID, session_id=SESSION_ID)"
      ]
    },
    {
      "cell_type": "code",
      "execution_count": 19,
      "metadata": {
        "id": "test_calc"
      },
      "outputs": [
        {
          "name": "stdout",
          "output_type": "stream",
          "text": [
            "\n",
            ">>> Consulta del usuario: Cuanto es 10 + 9991\n"
          ]
        },
        {
          "name": "stderr",
          "output_type": "stream",
          "text": [
            "Warning: there are non-text parts in the response: ['function_call'], returning concatenated text result from text parts. Check the full candidates.content.parts accessor to get the full model response.\n"
          ]
        },
        {
          "name": "stdout",
          "output_type": "stream",
          "text": [
            "🧮 Herramienta sumar_numeros llamada con a=10, b=9991\n",
            "<<< Respuesta del agente: 10 + 9991 es 10001.\n"
          ]
        }
      ],
      "source": [
        "await call_agent_async(\"Cuanto es 10 + 9991\", runner=runner, user_id=USER_ID, session_id=SESSION_ID)"
      ]
    },
    {
      "cell_type": "markdown",
      "metadata": {
        "id": "schema_section"
      },
      "source": [
        "## 5. Buenas practicas\n"
      ]
    },
    {
      "cell_type": "markdown",
      "metadata": {
        "id": "good_practices_section"
      },
      "source": [
        "### Importancia de los Type Hints y Docstrings"
      ]
    },
    {
      "cell_type": "code",
      "execution_count": 20,
      "metadata": {
        "id": "good_bad_examples"
      },
      "outputs": [
        {
          "name": "stdout",
          "output_type": "stream",
          "text": [
            "✅ Ejemplo de herramienta bien definida creada\n"
          ]
        }
      ],
      "source": [
        "# Ejemplo de herramienta MAL definida (NO HACER ESTO)\n",
        "\n",
        "def herramienta_mal_definida(x, y):  # ❌ No tiene type hints\n",
        "    \"\"\"Hace algo\"\"\"  # ❌ Descripción vaga, sin contexto útil para el agente\n",
        "    return x + y  # ❌ No se sabe qué tipo de valores espera ni qué hace realmente\n",
        "\n",
        "\n",
        "# Ejemplo de herramienta BIEN definida (HACER ESTO)\n",
        "\n",
        "from typing import Dict\n",
        "\n",
        "def convertir_temperatura(celsius: float) -> Dict[str, float]:\n",
        "    \"\"\"\n",
        "    Convierte una temperatura en grados Celsius a Fahrenheit y Kelvin.\n",
        "\n",
        "    Usa esta herramienta cuando el usuario necesite transformar una temperatura desde la escala Celsius\n",
        "    a otras escalas comunes como Fahrenheit o Kelvin.\n",
        "\n",
        "    Args:\n",
        "        celsius (float): Temperatura en grados Celsius.\n",
        "\n",
        "    Returns:\n",
        "        dict: Diccionario con las siguientes claves:\n",
        "            - 'celsius': Valor original en Celsius.\n",
        "            - 'fahrenheit': Valor convertido a Fahrenheit.\n",
        "            - 'kelvin': Valor convertido a Kelvin.\n",
        "    \"\"\"\n",
        "    fahrenheit = (celsius * 9/5) + 32\n",
        "    kelvin = celsius + 273.15\n",
        "\n",
        "    return {\n",
        "        \"status\": \"success\",\n",
        "        \"celsius\": celsius,\n",
        "        \"fahrenheit\": round(fahrenheit, 2),\n",
        "        \"kelvin\": round(kelvin, 2)\n",
        "    }\n",
        "\n",
        "print(\"✅ Ejemplo de herramienta bien definida creada\")\n"
      ]
    },
    {
      "cell_type": "markdown",
      "metadata": {
        "id": "advanced_section"
      },
      "source": [
        "## 6. Casos de Uso Avanzados {#casos-avanzados}\n",
        "\n",
        "### 🎯 Herramienta con Estado y Contexto"
      ]
    },
    {
      "cell_type": "code",
      "execution_count": 21,
      "metadata": {
        "id": "stateful_tool"
      },
      "outputs": [],
      "source": [
        "carrito_compras: list[dict] = []  # Estado simulado del carrito\n",
        "\n",
        "def agregar_al_carrito(producto: str, cantidad: int) -> dict:\n",
        "    \"\"\"\n",
        "    Agrega un producto válido al carrito de compras.\n",
        "\n",
        "    Usa esta herramienta cuando el usuario desee agregar un producto específico con cierta cantidad.\n",
        "\n",
        "    Args:\n",
        "        producto (str): Nombre del producto a agregar (no sensible a mayúsculas).\n",
        "        cantidad (int): Cantidad deseada del producto.\n",
        "\n",
        "    Returns:\n",
        "        dict: Diccionario con:\n",
        "            - 'status': \"success\" o \"error\"\n",
        "            - 'message': Confirmación o motivo del fallo\n",
        "            - 'current_cart_size': Número total de ítems en el carrito tras la acción (si fue exitosa)\n",
        "    \"\"\"\n",
        "    global carrito_compras\n",
        "\n",
        "    carrito_compras.append({\n",
        "        \"producto\": producto.lower(),\n",
        "        \"cantidad\": cantidad\n",
        "    })\n",
        "\n",
        "    total_items = sum(item[\"cantidad\"] for item in carrito_compras)\n",
        "\n",
        "    return {\n",
        "        \"status\": \"success\",\n",
        "        \"message\": f\"Agregado {cantidad}x '{producto}' al carrito.\",\n",
        "        \"current_cart_size\": total_items\n",
        "    }\n",
        "\n",
        "def ver_carrito() -> dict:\n",
        "    \"\"\"\n",
        "    Devuelve el contenido actual del carrito de compras.\n",
        "\n",
        "    Usa esta herramienta si el usuario solicita revisar qué productos ha agregado al carrito.\n",
        "\n",
        "    Returns:\n",
        "        dict: Diccionario con:\n",
        "            - 'status': \"success\" o \"empty\"\n",
        "            - 'items': Lista de productos en el carrito (si hay)\n",
        "            - 'total_items': Número total de unidades (si hay)\n",
        "            - 'message': Texto breve sobre el estado del carrito\n",
        "    \"\"\"\n",
        "    global carrito_compras\n",
        "\n",
        "    if not carrito_compras:\n",
        "        return {\n",
        "            \"status\": \"empty\",\n",
        "            \"items\": [],\n",
        "            \"total_items\": 0,\n",
        "            \"message\": \"El carrito está vacío.\"\n",
        "        }\n",
        "\n",
        "    total_items = sum(item[\"cantidad\"] for item in carrito_compras)\n",
        "\n",
        "    return {\n",
        "        \"status\": \"success\",\n",
        "        \"items\": carrito_compras,\n",
        "        \"total_items\": total_items,\n",
        "        \"message\": f\"Hay {len(carrito_compras)} productos en el carrito, totalizando {total_items} unidades.\"\n",
        "    }\n"
      ]
    },
    {
      "cell_type": "markdown",
      "metadata": {
        "id": "ecommerce_section"
      },
      "source": [
        "### Crear agente de comercio electrónico"
      ]
    },
    {
      "cell_type": "code",
      "execution_count": 22,
      "metadata": {
        "id": "ecommerce_agent"
      },
      "outputs": [
        {
          "name": "stdout",
          "output_type": "stream",
          "text": [
            "✅ Agente de e-commerce creado\n"
          ]
        }
      ],
      "source": [
        "# Agente especializado en e-commerce\n",
        "agente_ecommerce = LlmAgent(\n",
        "    name=\"AgenteEcommerce\",\n",
        "    model=\"gemini-2.5-flash\",\n",
        "    description=\"Asistente de compras online\",\n",
        "    tools=[\n",
        "        buscar_producto_por_nombre,\n",
        "        agregar_al_carrito,\n",
        "        ver_carrito,\n",
        "        calcular_porcentaje  # Para descuentos\n",
        "    ],\n",
        "    generate_content_config=types.GenerateContentConfig(\n",
        "        temperature=0.2,\n",
        "        max_output_tokens=400\n",
        "    ),\n",
        "    instruction=(\n",
        "        \"Eres un asistente de compras amigable y servicial. \"\n",
        "        \"Ayuda a los usuarios a encontrar productos, agregarlos al carrito \"\n",
        "        \"y calcular descuentos cuando sea necesario. \"\n",
        "        \"Sé proactivo sugiriendo productos relacionados.\"\n",
        "    )\n",
        ")\n",
        "\n",
        "print(\"✅ Agente de e-commerce creado\")"
      ]
    },
    {
      "cell_type": "markdown",
      "metadata": {
        "id": "flow_section"
      },
      "source": [
        "### Probar flujo de compra"
      ]
    },
    {
      "cell_type": "code",
      "execution_count": 23,
      "metadata": {},
      "outputs": [],
      "source": [
        "# Concepto clave: SessionService almacena el historial y estado de la conversación.\n",
        "# InMemorySessionService es un almacenamiento simple y no persistente para este tutorial.\n",
        "session_service = InMemorySessionService()\n",
        "\n",
        "# Definir constantes para identificar el contexto de la interacción\n",
        "APP_NAME = \"agente_ecommerce\"\n",
        "USER_ID = \"user_4\"\n",
        "SESSION_ID = \"004\" # Usando un ID fijo por simplicidad\n",
        "\n",
        "# Crear la sesión específica donde ocurrirá la conversación\n",
        "session = await session_service.create_session(\n",
        "    app_name=APP_NAME,\n",
        "    user_id=USER_ID,\n",
        "    session_id=SESSION_ID\n",
        ")\n",
        "# Runner: Este es el componente principal que gestiona la interacción con el agente.\n",
        "runner = Runner(agent=agente_ecommerce,\n",
        "                app_name=APP_NAME,\n",
        "                session_service=session_service)\n",
        "\n"
      ]
    },
    {
      "cell_type": "code",
      "execution_count": 24,
      "metadata": {
        "id": "test_flow"
      },
      "outputs": [
        {
          "name": "stdout",
          "output_type": "stream",
          "text": [
            "🛍️ Simulando flujo de compra:\n",
            "\n",
            "------------------------------------------------------------\n",
            "\n",
            "\n",
            ">>> Consulta del usuario: Muéstrame información sobre la laptop gamer\n"
          ]
        },
        {
          "name": "stderr",
          "output_type": "stream",
          "text": [
            "Warning: there are non-text parts in the response: ['function_call'], returning concatenated text result from text parts. Check the full candidates.content.parts accessor to get the full model response.\n"
          ]
        },
        {
          "name": "stdout",
          "output_type": "stream",
          "text": [
            "🛍️ Buscando producto: 'laptop gamer'\n",
            "<<< Respuesta del agente: ¡Claro! La Laptop Gamer Pro tiene las siguientes características:\n",
            "\n",
            "*   **Tarjeta gráfica:** RTX 4070\n",
            "*   **RAM:** 32GB\n",
            "*   **Almacenamiento:** 1TB SSD\n",
            "*   **Precio:** $1500\n",
            "*   **Stock disponible:** 10 unidades\n",
            "\n",
            "¿Te gustaría agregarla al carrito o te interesaría ver algún otro producto?\n",
            "------------------------------------------------------------\n",
            "\n",
            "\n",
            ">>> Consulta del usuario: Agrega 1 Laptop Gamer Pro al carrito\n"
          ]
        },
        {
          "name": "stderr",
          "output_type": "stream",
          "text": [
            "Warning: there are non-text parts in the response: ['function_call'], returning concatenated text result from text parts. Check the full candidates.content.parts accessor to get the full model response.\n"
          ]
        },
        {
          "name": "stdout",
          "output_type": "stream",
          "text": [
            "<<< Respuesta del agente: ¡Listo! Se ha agregado 1 Laptop Gamer Pro a tu carrito.\n",
            "\n",
            "¿Hay algo más en lo que pueda ayudarte? Quizás te interesen algunos accesorios para tu laptop gamer, como un mouse gaming o unos auriculares.\n",
            "------------------------------------------------------------\n",
            "\n",
            "\n",
            ">>> Consulta del usuario: También quiero 2 Teclado Mecánico Gamer\n"
          ]
        },
        {
          "name": "stderr",
          "output_type": "stream",
          "text": [
            "Warning: there are non-text parts in the response: ['function_call'], returning concatenated text result from text parts. Check the full candidates.content.parts accessor to get the full model response.\n",
            "Warning: there are non-text parts in the response: ['function_call'], returning concatenated text result from text parts. Check the full candidates.content.parts accessor to get the full model response.\n"
          ]
        },
        {
          "name": "stdout",
          "output_type": "stream",
          "text": [
            "<<< Respuesta del agente: ¡Listo! Se han agregado 2 Teclados Mecánicos Gamer a tu carrito.\n",
            "\n",
            "Ahora mismo tienes 1 Laptop Gamer Pro y 2 Teclados Mecánicos Gamer en tu carrito. ¿Hay algo más que desees agregar o te gustaría ver el resumen de tu carrito?\n",
            "------------------------------------------------------------\n",
            "\n",
            "\n",
            ">>> Consulta del usuario: ¿Qué hay en mi carrito?\n"
          ]
        },
        {
          "name": "stderr",
          "output_type": "stream",
          "text": [
            "Warning: there are non-text parts in the response: ['function_call'], returning concatenated text result from text parts. Check the full candidates.content.parts accessor to get the full model response.\n"
          ]
        },
        {
          "name": "stdout",
          "output_type": "stream",
          "text": [
            "<<< Respuesta del agente: Actualmente tienes los siguientes productos en tu carrito:\n",
            "\n",
            "*   1 Laptop Gamer Pro\n",
            "*   4 Teclados Mecánicos Gamer\n",
            "\n",
            "En total, hay 5 unidades en tu carrito.\n",
            "------------------------------------------------------------\n",
            "\n",
            "\n",
            ">>> Consulta del usuario: ¿Cuánto sería con un 10% de descuento sobre 1500?\n"
          ]
        },
        {
          "name": "stderr",
          "output_type": "stream",
          "text": [
            "Warning: there are non-text parts in the response: ['function_call'], returning concatenated text result from text parts. Check the full candidates.content.parts accessor to get the full model response.\n"
          ]
        },
        {
          "name": "stdout",
          "output_type": "stream",
          "text": [
            "📈 Calculando 10% de 1500\n",
            "<<< Respuesta del agente: El 10% de 1500 es 150.\n",
            "\n",
            "Por lo tanto, con un 10% de descuento, el total sería 1350.\n"
          ]
        }
      ],
      "source": [
        "# Simular un flujo de compra\n",
        "flujo_compra = [\n",
        "    \"Muéstrame información sobre la laptop gamer\",\n",
        "    \"Agrega 1 Laptop Gamer Pro al carrito\",\n",
        "    \"También quiero 2 Teclado Mecánico Gamer\",\n",
        "    \"¿Qué hay en mi carrito?\",\n",
        "    \"¿Cuánto sería con un 10% de descuento sobre 1500?\"\n",
        "]\n",
        "\n",
        "print(\"🛍️ Simulando flujo de compra:\\n\")\n",
        "\n",
        "for paso in flujo_compra:\n",
        "    print(\"-\" * 60 +\"\\n\")\n",
        "    await call_agent_async(paso, runner=runner, user_id=USER_ID, session_id=SESSION_ID)"
      ]
    },
    {
      "cell_type": "code",
      "execution_count": 25,
      "metadata": {},
      "outputs": [
        {
          "data": {
            "text/plain": [
              "[{'producto': 'laptop gamer pro', 'cantidad': 1},\n",
              " {'producto': 'teclado mecánico gamer', 'cantidad': 2},\n",
              " {'producto': 'teclado mecánico gamer', 'cantidad': 2}]"
            ]
          },
          "execution_count": 25,
          "metadata": {},
          "output_type": "execute_result"
        }
      ],
      "source": [
        "carrito_compras"
      ]
    },
    {
      "cell_type": "markdown",
      "metadata": {
        "id": "exercise_section"
      },
      "source": [
        "## 🎯 Ejercicio Final: Crea tu Propia Herramienta"
      ]
    },
    {
      "cell_type": "code",
      "execution_count": null,
      "metadata": {
        "id": "exercise"
      },
      "outputs": [],
      "source": [
        "# EJERCICIO: Completa esta herramienta\n",
        "def analizar_sentimiento(texto: str) -> Dict[str, any]:\n",
        "    \"\"\"\n",
        "    TODO: Completa esta herramienta que analiza el sentimiento de un texto.\n",
        "    \n",
        "    Args:\n",
        "        texto: Texto a analizar\n",
        "        \n",
        "    Returns:\n",
        "        Diccionario con:\n",
        "        - sentimiento: \"positivo\", \"negativo\" o \"neutral\"\n",
        "        - confianza: float entre 0 y 1\n",
        "        - palabras_clave: lista de palabras que indican el sentimiento\n",
        "    \"\"\"\n",
        "    # TU CÓDIGO AQUÍ\n",
        "    # Pista: Puedes usar listas de palabras positivas/negativas\n",
        "    # o implementar una lógica simple basada en palabras clave\n",
        "    \n",
        "    pass"
      ]
    },
    {
      "cell_type": "markdown",
      "metadata": {
        "id": "resources_section"
      },
      "source": [
        "### 📚 Recursos Adicionales"
      ]
    },
    {
      "cell_type": "code",
      "execution_count": null,
      "metadata": {
        "id": "resources"
      },
      "outputs": [],
      "source": [
        "recursos = {\n",
        "    \"Documentación ADK\": \"https://github.com/google/genkit\",\n",
        "    \"Gemini API\": \"https://ai.google.dev\",\n",
        "    \"Mejores Prácticas\": \"https://cloud.google.com/apis/design\",\n",
        "    \"Comunidad\": \"https://groups.google.com/g/google-ai-developer-community\"\n",
        "}\n",
        "\n",
        "print(\"📚 RECURSOS PARA PROFUNDIZAR:\")\n",
        "for nombre, url in recursos.items():\n",
        "    print(f\"  • {nombre}: {url}\")"
      ]
    },
    {
      "cell_type": "markdown",
      "metadata": {
        "id": "conclusion_section"
      },
      "source": [
        "## 🎉 ¡Felicitaciones!\n",
        "\n",
        "Has completado el tutorial de herramientas en Google ADK. Ahora tienes el conocimiento para:\n",
        "- ✅ Usar herramientas preconstruidas\n",
        "- ✅ Crear herramientas personalizadas con `@tool`\n",
        "- ✅ Integrar múltiples herramientas en un agente\n",
        "- ✅ Implementar validaciones y manejo de estado\n",
        "- ✅ Depurar y optimizar tus herramientas\n",
        "\n",
        "### 🚀 Próximos Pasos"
      ]
    },
    {
      "cell_type": "code",
      "execution_count": null,
      "metadata": {
        "id": "next_steps"
      },
      "outputs": [],
      "source": [
        "print(\"\"\"\n",
        "🎯 DESAFÍOS PARA PRACTICAR:\n",
        "\n",
        "1. Crea una herramienta que interactúe con una API real\n",
        "2. Implementa un sistema de herramientas para un chatbot de soporte\n",
        "3. Diseña herramientas que trabajen juntas para resolver problemas complejos\n",
        "4. Experimenta con herramientas que mantengan estado entre llamadas\n",
        "5. Crea un agente especializado para tu dominio de interés\n",
        "\n",
        "¡Comparte tus creaciones con la comunidad! 🌟\n",
        "\"\"\")"
      ]
    },
    {
      "cell_type": "markdown",
      "metadata": {
        "id": "footer"
      },
      "source": [
        "---\n",
        "\n",
        "**Creado con ❤️ para la comunidad de desarrolladores ADK**"
      ]
    }
  ],
  "metadata": {
    "colab": {
      "provenance": [],
      "toc_visible": true
    },
    "kernelspec": {
      "display_name": "workspace",
      "language": "python",
      "name": "python3"
    },
    "language_info": {
      "codemirror_mode": {
        "name": "ipython",
        "version": 3
      },
      "file_extension": ".py",
      "mimetype": "text/x-python",
      "name": "python",
      "nbconvert_exporter": "python",
      "pygments_lexer": "ipython3",
      "version": "3.9.21"
    }
  },
  "nbformat": 4,
  "nbformat_minor": 0
}
