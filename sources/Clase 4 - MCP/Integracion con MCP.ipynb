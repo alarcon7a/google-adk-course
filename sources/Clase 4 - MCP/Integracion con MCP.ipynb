{
  "cells": [
    {
      "cell_type": "markdown",
      "metadata": {
        "id": "header_main"
      },
      "source": [
        "# 🌐 ADK + MCP: ¡Conecta tus Agentes al Universo de Herramientas!\n",
        "## Model Context Protocol - Clase 4\n",
        "\n",
        "---\n",
        "\n",
        "## 📋 Índice\n",
        "1. [Configuración Inicial](#configuración-inicial)\n",
        "2. [¿Qué es el Model Context Protocol (MCP)?](#qué-es-mcp)\n",
        "3. [Patrones de Integración ADK y MCP](#patrones-integración)\n",
        "4. [Ejemplo 1: ADK con Servidor MCP de Sistema de Archivos](#ejemplo-filesystem)\n",
        "5. [Ejemplo 2: ADK con Servidor MCP de terceros](#ejemplo-terceros)\n",
        "6. [Creando un Servidor MCP con ADK](#crear-servidor)\n",
        "7. [Consideraciones Clave](#consideraciones)\n",
        "8. [Ejercicios y Recursos](#ejercicios)"
      ]
    },
    {
      "cell_type": "markdown",
      "metadata": {
        "id": "intro_section"
      },
      "source": [
        "## 🎯 Introducción\n",
        "\n",
        "En esta clase aprenderemos a integrar el **Model Context Protocol (MCP)** con nuestros agentes ADK. MCP es un estándar abierto que permite a los LLMs comunicarse con aplicaciones externas de manera estandarizada.\n",
        "\n",
        "### Lo que aprenderás:\n",
        "- 🔌 Conectar agentes ADK a servidores MCP existentes\n",
        "- 🛠️ Usar herramientas MCP como si fueran herramientas ADK nativas\n",
        "- 🌐 Exponer herramientas ADK a través de servidores MCP\n",
        "- 🚀 Expandir las capacidades de tus agentes exponencialmente"
      ]
    },
    {
      "cell_type": "markdown",
      "metadata": {
        "id": "config_section"
      },
      "source": [
        "## 1. Configuración Inicial {#configuración-inicial}\n",
        "\n",
        "### Instalación de dependencias"
      ]
    },
    {
      "cell_type": "code",
      "execution_count": null,
      "metadata": {
        "id": "install_deps"
      },
      "outputs": [],
      "source": [
        "# Instalar Google ADK y MCP\n",
        "!pip install -qU google-adk==1.4.2 mcp==1.9.4 python-dotenv\n",
        "\n",
        "# Instalar Node.js en Colab (necesario para ejecutar servidores MCP)\n",
        "!apt-get update && apt-get install -y nodejs npm\n",
        "\n",
        "# Verificar instalaciones\n",
        "!node --version\n",
        "!npm --version\n",
        "!npx --version\n",
        "\n",
        "print(\"\\n✅ Dependencias instaladas correctamente!\")"
      ]
    },
    {
      "cell_type": "code",
      "execution_count": 3,
      "metadata": {
        "id": "imports_setup"
      },
      "outputs": [],
      "source": [
        "# Importaciones necesarias\n",
        "import os\n",
        "import json\n",
        "from typing import List, Dict, Optional\n",
        "from google.adk.agents import LlmAgent\n",
        "from google.adk.tools.mcp_tool.mcp_toolset import MCPToolset, StdioServerParameters\n",
        "from google.adk.runners import Runner\n",
        "from google.adk.sessions import InMemorySessionService\n",
        "from google.genai import types\n",
        "from getpass import getpass"
      ]
    },
    {
      "cell_type": "code",
      "execution_count": null,
      "metadata": {},
      "outputs": [],
      "source": [
        "# Solicitar API Key de forma segura\n",
        "if 'GOOGLE_API_KEY' not in os.environ:\n",
        "    print(\"🔑 Por favor, ingresa tu Google API Key:\")\n",
        "    api_key = getpass(\"API Key: \")\n",
        "    os.environ['GOOGLE_API_KEY'] = api_key\n",
        "    os.environ['GOOGLE_GENAI_USE_VERTEXAI'] = 'FALSE'\n",
        "    print(\"\\n✅ API Key configurada correctamente\")\n",
        "else:\n",
        "    print(\"✅ API Key ya configurada\")\n",
        "\n",
        "# Verificar que las variables estén configuradas\n",
        "print(f\"\\n📋 Variables de entorno configuradas:\")\n",
        "print(f\"   - GOOGLE_API_KEY: {'✓' if os.environ.get('GOOGLE_API_KEY') else '✗'}\")\n",
        "print(f\"   - GOOGLE_GENAI_USE_VERTEXAI: {os.environ.get('GOOGLE_GENAI_USE_VERTEXAI', 'No configurado')}\")\n",
        "\n",
        "print(\"✅ ADK instalado y configurado correctamente!\")"
      ]
    },
    {
      "cell_type": "code",
      "execution_count": 4,
      "metadata": {},
      "outputs": [
        {
          "data": {
            "text/plain": [
              "True"
            ]
          },
          "execution_count": 4,
          "metadata": {},
          "output_type": "execute_result"
        }
      ],
      "source": [
        "from dotenv import load_dotenv\n",
        "# Cargar variables de entorno desde .env si existe\n",
        "load_dotenv(override=True)"
      ]
    },
    {
      "cell_type": "markdown",
      "metadata": {},
      "source": [
        "### Nuestra función de inferencia"
      ]
    },
    {
      "cell_type": "code",
      "execution_count": 5,
      "metadata": {},
      "outputs": [],
      "source": [
        "async def call_agent_async(query: str, runner, user_id, session_id):\n",
        "    \"\"\"Envía una consulta al agente e imprime la respuesta final.\"\"\"\n",
        "    print(f\"\\n>>> Consulta del usuario: {query}\")\n",
        "\n",
        "    # Prepara el mensaje del usuario en el formato de ADK\n",
        "    content = types.Content(role='user', parts=[types.Part(text=query)])\n",
        "\n",
        "    final_response_text = \"El agente no produjo una respuesta final.\" # Valor por defecto\n",
        "\n",
        "    # Concepto clave: run_async ejecuta la lógica del agente y genera eventos.\n",
        "    # Iteramos a través de los eventos para encontrar la respuesta final.\n",
        "    async for event in runner.run_async(user_id=user_id, session_id=session_id, new_message=content):\n",
        "        # Puedes descomentar la línea de abajo para ver *todos* los eventos durante la ejecución\n",
        "        # print(f\"  [Evento] Autor: {event.author}, Tipo: {type(event).__name__}, Final: {event.is_final_response()}, Contenido: {event.content}\")\n",
        "\n",
        "        # Concepto clave: is_final_response() marca el mensaje que concluye el turno.\n",
        "        if event.is_final_response():\n",
        "            if event.content and event.content.parts:\n",
        "                # Se asume que la respuesta de texto está en la primera parte\n",
        "                final_response_text = event.content.parts[0].text\n",
        "            elif event.actions and event.actions.escalate: # Maneja posibles errores/escalamientos\n",
        "                final_response_text = f\"El agente escaló: {event.error_message or 'Sin mensaje específico.'}\"\n",
        "            # Agrega más validaciones aquí si es necesario (por ejemplo, códigos de error específicos)\n",
        "            break # Deja de procesar eventos una vez encontrada la respuesta final\n",
        "\n",
        "    print(f\"<<< Respuesta del agente: {final_response_text}\")\n"
      ]
    },
    {
      "cell_type": "markdown",
      "metadata": {
        "id": "mcp_concept_section"
      },
      "source": [
        "## 2. ¿Qué es el Model Context Protocol (MCP)? {#qué-es-mcp}\n",
        "\n",
        "El **Model Context Protocol (MCP)** es un estándar abierto que estandariza cómo los LLMs se comunican con aplicaciones externas.\n",
        "\n",
        "### Conceptos Clave:\n",
        "\n",
        "- **🔌 Conexión Universal**: MCP actúa como un \"idioma común\" entre LLMs y servicios externos\n",
        "- **📡 Arquitectura Cliente-Servidor**:\n",
        "  - **Servidor MCP**: Expone recursos, prompts y herramientas\n",
        "  - **Cliente MCP**: Consume estas capacidades (como nuestros agentes ADK)\n",
        "- **🛠️ Herramientas Estandarizadas**: Las herramientas se describen con un esquema común"
      ]
    },
    {
      "cell_type": "code",
      "execution_count": 6,
      "metadata": {
        "id": "mcp_visualization"
      },
      "outputs": [
        {
          "name": "stdout",
          "output_type": "stream",
          "text": [
            "\n",
            "🤖 AGENTE ADK (Cliente MCP)\n",
            "        ↕️ [Protocolo MCP]\n",
            "📦 SERVIDORES MCP\n",
            "    ├── 📁 Sistema de Archivos\n",
            "    ├── 🗺️ Google Maps\n",
            "    ├── 💾 Bases de Datos\n",
            "    ├── 🌐 APIs Web\n",
            "    └── 🔧 Herramientas Personalizadas\n",
            "\n",
            "✨ Un protocolo, infinitas posibilidades!\n",
            "\n"
          ]
        }
      ],
      "source": [
        "# Visualización conceptual de MCP\n",
        "print(\"\"\"\n",
        "🤖 AGENTE ADK (Cliente MCP)\n",
        "        ↕️ [Protocolo MCP]\n",
        "📦 SERVIDORES MCP\n",
        "    ├── 📁 Sistema de Archivos\n",
        "    ├── 🗺️ Google Maps\n",
        "    ├── 💾 Bases de Datos\n",
        "    ├── 🌐 APIs Web\n",
        "    └── 🔧 Herramientas Personalizadas\n",
        "\n",
        "✨ Un protocolo, infinitas posibilidades!\n",
        "\"\"\")"
      ]
    },
    {
      "cell_type": "markdown",
      "metadata": {
        "id": "patterns_section"
      },
      "source": [
        "## 3. Patrones de Integración ADK y MCP {#patrones-integración}\n",
        "\n",
        "### Dos patrones principales:\n",
        "\n",
        "#### 1️⃣ **ADK como Cliente MCP** (más común)\n",
        "- Tu agente ADK usa herramientas de servidores MCP existentes\n",
        "- Usamos `MCPToolset` para conectar\n",
        "\n",
        "#### 2️⃣ **ADK como Proveedor MCP**\n",
        "- Exponemos herramientas ADK a través de un servidor MCP\n",
        "- Otros sistemas pueden usar nuestras herramientas"
      ]
    },
    {
      "cell_type": "markdown",
      "metadata": {
        "id": "filesystem_section"
      },
      "source": [
        "## 4. Ejemplo 1: ADK con Servidor MCP de Sistema de Archivos {#ejemplo-filesystem}\n",
        "\n",
        "### 📁 Conectaremos un agente ADK a un servidor MCP que proporciona operaciones de archivos"
      ]
    },
    {
      "cell_type": "code",
      "execution_count": 7,
      "metadata": {
        "id": "create_test_files"
      },
      "outputs": [
        {
          "name": "stdout",
          "output_type": "stream",
          "text": [
            "✅ Directorio de trabajo creado: /home/alarcon7a/GIT/google-adk-course/sources/Clase 4 - MCP/test_folder\n",
            "\n",
            "📁 Archivos creados:\n",
            "  - lista_compras.txt\n",
            "  - notas.md\n",
            "  - data.json\n",
            "  - readme.txt\n"
          ]
        }
      ],
      "source": [
        "# Crear carpeta y archivos de prueba\n",
        "import os\n",
        "\n",
        "# Crear directorio de trabajo\n",
        "WORK_DIR = \"/home/alarcon7a/GIT/google-adk-course/sources/Clase 4 - MCP/test_folder\"\n",
        "os.makedirs(WORK_DIR, exist_ok=True)\n",
        "\n",
        "# Crear archivos de ejemplo\n",
        "files_to_create = {\n",
        "    \"readme.txt\": \"Bienvenido al tutorial de MCP con ADK!\\nEste es un archivo de ejemplo.\",\n",
        "    \"data.json\": json.dumps({\"nombre\": \"ADK\", \"version\": \"1.0\", \"features\": [\"agents\", \"tools\", \"mcp\"]}, indent=2),\n",
        "    \"lista_compras.txt\": \"- Leche\\n- Pan\\n- Huevos\\n- Café\\n- Frutas\",\n",
        "    \"notas.md\": \"# Notas del Curso\\n\\n## MCP\\n- Model Context Protocol\\n- Integración con ADK\\n- Ejemplos prácticos\"\n",
        "}\n",
        "\n",
        "for filename, content in files_to_create.items():\n",
        "    with open(os.path.join(WORK_DIR, filename), \"w\") as f:\n",
        "        f.write(content)\n",
        "\n",
        "print(f\"✅ Directorio de trabajo creado: {WORK_DIR}\")\n",
        "print(\"\\n📁 Archivos creados:\")\n",
        "for filename in os.listdir(WORK_DIR):\n",
        "    print(f\"  - {filename}\")"
      ]
    },
    {
      "cell_type": "code",
      "execution_count": 11,
      "metadata": {},
      "outputs": [],
      "source": [
        "from google.adk.tools.mcp_tool.mcp_toolset import StdioConnectionParams"
      ]
    },
    {
      "cell_type": "code",
      "execution_count": 15,
      "metadata": {
        "id": "filesystem_agent"
      },
      "outputs": [
        {
          "name": "stdout",
          "output_type": "stream",
          "text": [
            "✅ Agente de sistema de archivos creado con MCPToolset\n",
            "\n",
            "🔧 El agente puede:\n",
            "  - Listar archivos en el directorio\n",
            "  - Leer contenido de archivos\n",
            "  - Navegar por la estructura de carpetas\n"
          ]
        }
      ],
      "source": [
        "# Crear agente con MCPToolset para sistema de archivos\n",
        "filesystem_agent = LlmAgent(\n",
        "    model='gemini-2.5-flash',\n",
        "    name='filesystem_assistant',\n",
        "    description='Asistente para gestión de archivos usando MCP',\n",
        "    instruction=(\n",
        "        \"Eres un asistente experto en gestión de archivos. \"\n",
        "        \"Puedes listar archivos, leer su contenido y ayudar al usuario \"\n",
        "        \"a organizar su información. Trabajas con el directorio: \" + WORK_DIR\n",
        "    ),\n",
        "    tools=[\n",
        "        MCPToolset(\n",
        "            connection_params=StdioConnectionParams(\n",
        "            server_params=StdioServerParameters(\n",
        "                command='npx',\n",
        "                args=[\n",
        "                    \"-y\",  # Argument for npx to auto-confirm install\n",
        "                    \"@modelcontextprotocol/server-filesystem\",\n",
        "                    # IMPORTANT: This MUST be an ABSOLUTE path to a folder the\n",
        "                    # npx process can access.\n",
        "                    # Replace with a valid absolute path on your system.\n",
        "                    os.path.abspath(WORK_DIR),\n",
        "                ],\n",
        "            ),\n",
        "            timeout=60\n",
        "            ),\n",
        "        )\n",
        "    ],\n",
        "    generate_content_config=types.GenerateContentConfig(\n",
        "        temperature=0.1,\n",
        "        max_output_tokens=500\n",
        "    )\n",
        ")\n",
        "\n",
        "print(\"✅ Agente de sistema de archivos creado con MCPToolset\")\n",
        "print(\"\\n🔧 El agente puede:\")\n",
        "print(\"  - Listar archivos en el directorio\")\n",
        "print(\"  - Leer contenido de archivos\")\n",
        "print(\"  - Navegar por la estructura de carpetas\")"
      ]
    },
    {
      "cell_type": "markdown",
      "metadata": {
        "id": "test_filesystem_section"
      },
      "source": [
        "### Probar el agente de sistema de archivos"
      ]
    },
    {
      "cell_type": "code",
      "execution_count": 16,
      "metadata": {},
      "outputs": [],
      "source": [
        "# Concepto clave: SessionService almacena el historial y estado de la conversación.\n",
        "# InMemorySessionService es un almacenamiento simple y no persistente para este tutorial.\n",
        "session_service = InMemorySessionService()\n",
        "\n",
        "# Definir constantes para identificar el contexto de la interacción\n",
        "APP_NAME = \"mcp_filesystem_tutorial\"\n",
        "USER_ID = \"user_1\"\n",
        "SESSION_ID = \"session_001\" # Usando un ID fijo por simplicidad\n",
        "\n",
        "# Crear la sesión específica donde ocurrirá la conversación\n",
        "session = await session_service.create_session(\n",
        "    app_name=APP_NAME,\n",
        "    user_id=USER_ID,\n",
        "    session_id=SESSION_ID\n",
        ")\n",
        "# Runner: Este es el componente principal que gestiona la interacción con el agente.\n",
        "runner = Runner(agent=filesystem_agent,\n",
        "                app_name=APP_NAME,\n",
        "                session_service=session_service)\n",
        "\n"
      ]
    },
    {
      "cell_type": "code",
      "execution_count": 17,
      "metadata": {},
      "outputs": [
        {
          "name": "stdout",
          "output_type": "stream",
          "text": [
            "\n",
            ">>> Consulta del usuario: ¿Qué archivos hay en el directorio test_folder?\n"
          ]
        },
        {
          "name": "stderr",
          "output_type": "stream",
          "text": [
            "/home/alarcon7a/anaconda3/envs/env_3_10/lib/python3.10/site-packages/google/adk/tools/mcp_tool/mcp_tool.py:85: UserWarning: [EXPERIMENTAL] BaseAuthenticatedTool: This feature is experimental and may change or be removed in future versions without notice. It may introduce breaking changes at any time.\n",
            "  super().__init__(\n",
            "auth_config or auth_config.auth_scheme is missing. Will skip authentication.Using FunctionTool instead if authentication is not required.\n",
            "auth_config or auth_config.auth_scheme is missing. Will skip authentication.Using FunctionTool instead if authentication is not required.\n",
            "auth_config or auth_config.auth_scheme is missing. Will skip authentication.Using FunctionTool instead if authentication is not required.\n",
            "auth_config or auth_config.auth_scheme is missing. Will skip authentication.Using FunctionTool instead if authentication is not required.\n",
            "auth_config or auth_config.auth_scheme is missing. Will skip authentication.Using FunctionTool instead if authentication is not required.\n",
            "auth_config or auth_config.auth_scheme is missing. Will skip authentication.Using FunctionTool instead if authentication is not required.\n",
            "auth_config or auth_config.auth_scheme is missing. Will skip authentication.Using FunctionTool instead if authentication is not required.\n",
            "auth_config or auth_config.auth_scheme is missing. Will skip authentication.Using FunctionTool instead if authentication is not required.\n",
            "auth_config or auth_config.auth_scheme is missing. Will skip authentication.Using FunctionTool instead if authentication is not required.\n",
            "auth_config or auth_config.auth_scheme is missing. Will skip authentication.Using FunctionTool instead if authentication is not required.\n",
            "auth_config or auth_config.auth_scheme is missing. Will skip authentication.Using FunctionTool instead if authentication is not required.\n",
            "Warning: there are non-text parts in the response: ['function_call'], returning concatenated text result from text parts. Check the full candidates.content.parts accessor to get the full model response.\n",
            "auth_config or auth_config.auth_scheme is missing. Will skip authentication.Using FunctionTool instead if authentication is not required.\n",
            "auth_config or auth_config.auth_scheme is missing. Will skip authentication.Using FunctionTool instead if authentication is not required.\n",
            "auth_config or auth_config.auth_scheme is missing. Will skip authentication.Using FunctionTool instead if authentication is not required.\n",
            "auth_config or auth_config.auth_scheme is missing. Will skip authentication.Using FunctionTool instead if authentication is not required.\n",
            "auth_config or auth_config.auth_scheme is missing. Will skip authentication.Using FunctionTool instead if authentication is not required.\n",
            "auth_config or auth_config.auth_scheme is missing. Will skip authentication.Using FunctionTool instead if authentication is not required.\n",
            "auth_config or auth_config.auth_scheme is missing. Will skip authentication.Using FunctionTool instead if authentication is not required.\n",
            "auth_config or auth_config.auth_scheme is missing. Will skip authentication.Using FunctionTool instead if authentication is not required.\n",
            "auth_config or auth_config.auth_scheme is missing. Will skip authentication.Using FunctionTool instead if authentication is not required.\n",
            "auth_config or auth_config.auth_scheme is missing. Will skip authentication.Using FunctionTool instead if authentication is not required.\n",
            "auth_config or auth_config.auth_scheme is missing. Will skip authentication.Using FunctionTool instead if authentication is not required.\n"
          ]
        },
        {
          "name": "stdout",
          "output_type": "stream",
          "text": [
            "<<< Respuesta del agente: En el directorio `test_folder` se encuentran los siguientes archivos:\n",
            "\n",
            "*   `data.json`\n",
            "*   `lista_compras.txt`\n",
            "*   `notas.md`\n",
            "*   `readme.txt`\n"
          ]
        }
      ],
      "source": [
        "await call_agent_async(\n",
        "    query=\"¿Qué archivos hay en el directorio test_folder?\",\n",
        "    runner=runner,\n",
        "    user_id=USER_ID,\n",
        "    session_id=SESSION_ID\n",
        ")"
      ]
    },
    {
      "cell_type": "code",
      "execution_count": 18,
      "metadata": {
        "id": "test_filesystem"
      },
      "outputs": [
        {
          "name": "stderr",
          "output_type": "stream",
          "text": [
            "auth_config or auth_config.auth_scheme is missing. Will skip authentication.Using FunctionTool instead if authentication is not required.\n",
            "auth_config or auth_config.auth_scheme is missing. Will skip authentication.Using FunctionTool instead if authentication is not required.\n",
            "auth_config or auth_config.auth_scheme is missing. Will skip authentication.Using FunctionTool instead if authentication is not required.\n",
            "auth_config or auth_config.auth_scheme is missing. Will skip authentication.Using FunctionTool instead if authentication is not required.\n",
            "auth_config or auth_config.auth_scheme is missing. Will skip authentication.Using FunctionTool instead if authentication is not required.\n",
            "auth_config or auth_config.auth_scheme is missing. Will skip authentication.Using FunctionTool instead if authentication is not required.\n",
            "auth_config or auth_config.auth_scheme is missing. Will skip authentication.Using FunctionTool instead if authentication is not required.\n",
            "auth_config or auth_config.auth_scheme is missing. Will skip authentication.Using FunctionTool instead if authentication is not required.\n",
            "auth_config or auth_config.auth_scheme is missing. Will skip authentication.Using FunctionTool instead if authentication is not required.\n",
            "auth_config or auth_config.auth_scheme is missing. Will skip authentication.Using FunctionTool instead if authentication is not required.\n",
            "auth_config or auth_config.auth_scheme is missing. Will skip authentication.Using FunctionTool instead if authentication is not required.\n"
          ]
        },
        {
          "name": "stdout",
          "output_type": "stream",
          "text": [
            "\n",
            ">>> Consulta del usuario: ¿Puedes leer el contenido de readme.txt?\n"
          ]
        },
        {
          "name": "stderr",
          "output_type": "stream",
          "text": [
            "Warning: there are non-text parts in the response: ['function_call'], returning concatenated text result from text parts. Check the full candidates.content.parts accessor to get the full model response.\n",
            "auth_config or auth_config.auth_scheme is missing. Will skip authentication.Using FunctionTool instead if authentication is not required.\n",
            "auth_config or auth_config.auth_scheme is missing. Will skip authentication.Using FunctionTool instead if authentication is not required.\n",
            "auth_config or auth_config.auth_scheme is missing. Will skip authentication.Using FunctionTool instead if authentication is not required.\n",
            "auth_config or auth_config.auth_scheme is missing. Will skip authentication.Using FunctionTool instead if authentication is not required.\n",
            "auth_config or auth_config.auth_scheme is missing. Will skip authentication.Using FunctionTool instead if authentication is not required.\n",
            "auth_config or auth_config.auth_scheme is missing. Will skip authentication.Using FunctionTool instead if authentication is not required.\n",
            "auth_config or auth_config.auth_scheme is missing. Will skip authentication.Using FunctionTool instead if authentication is not required.\n",
            "auth_config or auth_config.auth_scheme is missing. Will skip authentication.Using FunctionTool instead if authentication is not required.\n",
            "auth_config or auth_config.auth_scheme is missing. Will skip authentication.Using FunctionTool instead if authentication is not required.\n",
            "auth_config or auth_config.auth_scheme is missing. Will skip authentication.Using FunctionTool instead if authentication is not required.\n",
            "auth_config or auth_config.auth_scheme is missing. Will skip authentication.Using FunctionTool instead if authentication is not required.\n"
          ]
        },
        {
          "name": "stdout",
          "output_type": "stream",
          "text": [
            "<<< Respuesta del agente: El contenido de `readme.txt` es:\n",
            "\n",
            "\"Bienvenido al tutorial de MCP con ADK!\n",
            "Este es un archivo de ejemplo.\"\n"
          ]
        }
      ],
      "source": [
        "await call_agent_async(\n",
        "    query=\"¿Puedes leer el contenido de readme.txt?\",\n",
        "    runner=runner,\n",
        "    user_id=USER_ID,\n",
        "    session_id=SESSION_ID\n",
        ")"
      ]
    },
    {
      "cell_type": "code",
      "execution_count": 19,
      "metadata": {},
      "outputs": [
        {
          "name": "stderr",
          "output_type": "stream",
          "text": [
            "auth_config or auth_config.auth_scheme is missing. Will skip authentication.Using FunctionTool instead if authentication is not required.\n",
            "auth_config or auth_config.auth_scheme is missing. Will skip authentication.Using FunctionTool instead if authentication is not required.\n",
            "auth_config or auth_config.auth_scheme is missing. Will skip authentication.Using FunctionTool instead if authentication is not required.\n",
            "auth_config or auth_config.auth_scheme is missing. Will skip authentication.Using FunctionTool instead if authentication is not required.\n",
            "auth_config or auth_config.auth_scheme is missing. Will skip authentication.Using FunctionTool instead if authentication is not required.\n",
            "auth_config or auth_config.auth_scheme is missing. Will skip authentication.Using FunctionTool instead if authentication is not required.\n",
            "auth_config or auth_config.auth_scheme is missing. Will skip authentication.Using FunctionTool instead if authentication is not required.\n",
            "auth_config or auth_config.auth_scheme is missing. Will skip authentication.Using FunctionTool instead if authentication is not required.\n",
            "auth_config or auth_config.auth_scheme is missing. Will skip authentication.Using FunctionTool instead if authentication is not required.\n",
            "auth_config or auth_config.auth_scheme is missing. Will skip authentication.Using FunctionTool instead if authentication is not required.\n",
            "auth_config or auth_config.auth_scheme is missing. Will skip authentication.Using FunctionTool instead if authentication is not required.\n"
          ]
        },
        {
          "name": "stdout",
          "output_type": "stream",
          "text": [
            "\n",
            ">>> Consulta del usuario: Crea un nuevo archivo llamado 'translated_readme.txt' con el texto de readme.txt pero traduce el contenido a ingles.\n"
          ]
        },
        {
          "name": "stderr",
          "output_type": "stream",
          "text": [
            "Warning: there are non-text parts in the response: ['function_call'], returning concatenated text result from text parts. Check the full candidates.content.parts accessor to get the full model response.\n",
            "auth_config or auth_config.auth_scheme is missing. Will skip authentication.Using FunctionTool instead if authentication is not required.\n",
            "auth_config or auth_config.auth_scheme is missing. Will skip authentication.Using FunctionTool instead if authentication is not required.\n",
            "auth_config or auth_config.auth_scheme is missing. Will skip authentication.Using FunctionTool instead if authentication is not required.\n",
            "auth_config or auth_config.auth_scheme is missing. Will skip authentication.Using FunctionTool instead if authentication is not required.\n",
            "auth_config or auth_config.auth_scheme is missing. Will skip authentication.Using FunctionTool instead if authentication is not required.\n",
            "auth_config or auth_config.auth_scheme is missing. Will skip authentication.Using FunctionTool instead if authentication is not required.\n",
            "auth_config or auth_config.auth_scheme is missing. Will skip authentication.Using FunctionTool instead if authentication is not required.\n",
            "auth_config or auth_config.auth_scheme is missing. Will skip authentication.Using FunctionTool instead if authentication is not required.\n",
            "auth_config or auth_config.auth_scheme is missing. Will skip authentication.Using FunctionTool instead if authentication is not required.\n",
            "auth_config or auth_config.auth_scheme is missing. Will skip authentication.Using FunctionTool instead if authentication is not required.\n",
            "auth_config or auth_config.auth_scheme is missing. Will skip authentication.Using FunctionTool instead if authentication is not required.\n",
            "Warning: there are non-text parts in the response: ['function_call'], returning concatenated text result from text parts. Check the full candidates.content.parts accessor to get the full model response.\n",
            "auth_config or auth_config.auth_scheme is missing. Will skip authentication.Using FunctionTool instead if authentication is not required.\n",
            "auth_config or auth_config.auth_scheme is missing. Will skip authentication.Using FunctionTool instead if authentication is not required.\n",
            "auth_config or auth_config.auth_scheme is missing. Will skip authentication.Using FunctionTool instead if authentication is not required.\n",
            "auth_config or auth_config.auth_scheme is missing. Will skip authentication.Using FunctionTool instead if authentication is not required.\n",
            "auth_config or auth_config.auth_scheme is missing. Will skip authentication.Using FunctionTool instead if authentication is not required.\n",
            "auth_config or auth_config.auth_scheme is missing. Will skip authentication.Using FunctionTool instead if authentication is not required.\n",
            "auth_config or auth_config.auth_scheme is missing. Will skip authentication.Using FunctionTool instead if authentication is not required.\n",
            "auth_config or auth_config.auth_scheme is missing. Will skip authentication.Using FunctionTool instead if authentication is not required.\n",
            "auth_config or auth_config.auth_scheme is missing. Will skip authentication.Using FunctionTool instead if authentication is not required.\n",
            "auth_config or auth_config.auth_scheme is missing. Will skip authentication.Using FunctionTool instead if authentication is not required.\n",
            "auth_config or auth_config.auth_scheme is missing. Will skip authentication.Using FunctionTool instead if authentication is not required.\n"
          ]
        },
        {
          "name": "stdout",
          "output_type": "stream",
          "text": [
            "<<< Respuesta del agente: He creado el archivo `translated_readme.txt` con el siguiente contenido:\n",
            "\n",
            "\"Welcome to the MCP with ADK tutorial!\n",
            "This is an example file.\"\n"
          ]
        }
      ],
      "source": [
        "await call_agent_async(\n",
        "    query=\"Crea un nuevo archivo llamado 'translated_readme.txt' con el texto de readme.txt pero traduce el contenido a ingles.\",\n",
        "    runner=runner,\n",
        "    user_id=USER_ID,\n",
        "    session_id=SESSION_ID\n",
        ")\n"
      ]
    },
    {
      "cell_type": "markdown",
      "metadata": {
        "id": "maps_section"
      },
      "source": [
        "## 5. Ejemplo 2: ADK con Servidor MCP de terceros {#ejemplo-terceros}\n",
        "\n",
        "\n",
        "\n",
        "🗺️ Conectaremos un agente a Google Maps a través de MCP (En la carpeta [MCP_Maps](MCP_Maps))\n",
        "\n",
        "🐦 Conectaremos un agente a Twitter a través de MCP (En la carpeta [MCP_Twitter](MCP_Twitter))\n"
      ]
    },
    {
      "cell_type": "markdown",
      "metadata": {},
      "source": [
        "---"
      ]
    },
    {
      "cell_type": "markdown",
      "metadata": {
        "id": "create_server_section"
      },
      "source": [
        "## 6.Creando un Servidor MCP con ADK{#crear-servidor}\n",
        "\n",
        "### 🛠️ Ahora expondremos una herramienta ADK a través de MCP"
      ]
    },
    {
      "cell_type": "markdown",
      "metadata": {},
      "source": [
        "### 6.1 ¿Qué es MCP?\n",
        "Model Context Protocol (MCP) es un protocolo estandarizado para que los LLMs se comuniquen con aplicaciones externas. Funciona con una arquitectura cliente-servidor donde:\n",
        "\n",
        "- **Servidor MCP**: Expone herramientas/funciones (tu lógica de e-commerce)\n",
        "- **Cliente MCP**: Consume estas herramientas (el agente ADK)"
      ]
    },
    {
      "cell_type": "markdown",
      "metadata": {},
      "source": [
        "### 6.2. Componentes Principales del Servidor\n"
      ]
    },
    {
      "cell_type": "markdown",
      "metadata": {},
      "source": [
        "#### Estos imports traen:\n",
        "\n",
        "- `mcp_types`: Tipos de datos del protocolo MCP\n",
        "- `Server`: Clase base para crear un servidor MCP\n",
        "- `InitializationOptions`: Configuración de inicialización\n",
        "- `stdio`: Comunicación por entrada/salida estándar (stdin/stdout)\n",
        "\n",
        "---"
      ]
    },
    {
      "cell_type": "code",
      "execution_count": 20,
      "metadata": {},
      "outputs": [],
      "source": [
        "from mcp import types as mcp_types\n",
        "from mcp.server.lowlevel import Server\n",
        "from mcp.server.models import InitializationOptions\n",
        "import mcp.server.stdio"
      ]
    },
    {
      "cell_type": "markdown",
      "metadata": {},
      "source": [
        "### 6.3. Flujo de Comunicación\n",
        "\n",
        "**Cliente ADK ←→ MCPToolset ←→ [stdin/stdout] ←→ Servidor MCP**\n",
        "\n",
        "El servidor MCP se comunica a través de:\n",
        "\n",
        "- `stdin`: Recibe comandos del cliente\n",
        "- `stdout`: Envía respuestas al cliente\n",
        "- **Protocolo JSON-RPC**: Mensajes estructurados\n",
        "\n",
        "---\n"
      ]
    },
    {
      "cell_type": "markdown",
      "metadata": {},
      "source": [
        "### 6.4 Handlers Principales\n",
        "\n",
        "```python\n",
        "@app.list_tools()\n",
        "async def list_mcp_tools() -> list[mcp_types.Tool]:\n",
        "```\n",
        "\n",
        "**Propósito**: Cuando un cliente se conecta, primero pregunta \"¿qué herramientas tienes disponibles?\"\n",
        "\n",
        "**Proceso**:\n",
        "\n",
        "- Cliente envía: `list_tools request`\n",
        "- Servidor responde con un array de `mcp_types.Tool`, incluyendo:\n",
        "  - `name`: Identificador único\n",
        "  - `description`: Qué hace la herramienta\n",
        "  - `inputSchema`: Esquema JSON de los parámetros esperados\n",
        "\n",
        "```python\n",
        "@app.call_tool()\n",
        "async def call_mcp_tool(name: str, arguments: dict) -> list[mcp_types.Content]:\n",
        "```\n",
        "\n",
        "**Propósito**: Ejecuta una herramienta específica cuando el cliente la solicita.\n",
        "\n",
        "**Proceso**:\n",
        "\n",
        "- Cliente envía: `call_tool` con `name` y `arguments`\n",
        "- Servidor ejecuta la lógica correspondiente\n",
        "- Servidor responde con `mcp_types.Content` (resultado)\n",
        "\n",
        "---"
      ]
    },
    {
      "cell_type": "markdown",
      "metadata": {},
      "source": [
        "### 6.5 Flujo de Ejecución Completo\n",
        "\n",
        "```python\n",
        "async def run_mcp_stdio_server():\n",
        "    async with mcp.server.stdio.stdio_server() as (read_stream, write_stream):\n",
        "        await app.run(\n",
        "            read_stream,\n",
        "            write_stream,\n",
        "            InitializationOptions(...)\n",
        "        )\n",
        "```\n",
        "\n",
        "**Inicialización**:\n",
        "\n",
        "- Se crea el servidor con `Server(\"ecommerce-mcp-server\")`\n",
        "- Se configuran los handlers (`list_tools`, `call_tool`)\n",
        "\n",
        "**Handshake**:\n",
        "\n",
        "- Cliente se conecta\n",
        "- Servidor envía sus capacidades\n",
        "- Cliente solicita lista de herramientas\n",
        "\n",
        "**Ciclo de Operación**:\n",
        "\n",
        "```\n",
        "Cliente: \"Quiero buscar laptop\"\n",
        "↓\n",
        "MCPToolset: call_tool(\"buscar_producto\", {\"nombre_producto\": \"laptop\"})\n",
        "↓\n",
        "Servidor MCP: Ejecuta búsqueda\n",
        "↓\n",
        "Servidor MCP: Retorna resultado como JSON\n",
        "↓\n",
        "Cliente: Recibe y muestra resultado\n",
        "```\n",
        "\n",
        "---"
      ]
    },
    {
      "cell_type": "markdown",
      "metadata": {},
      "source": [
        "### 6.6 Diagrama de Arquitectura\n",
        "\n",
        "```\n",
        "┌─────────────────┐\n",
        "│   Usuario       │\n",
        "└────────┬────────┘\n",
        "         │\n",
        "┌────────▼────────┐\n",
        "│  Agente ADK     │\n",
        "│  (Cliente MCP)  │\n",
        "└────────┬────────┘\n",
        "         │\n",
        "┌────────▼────────┐\n",
        "│   MCPToolset    │ ← Gestiona conexión\n",
        "└────────┬────────┘\n",
        "         │ JSON-RPC over stdio\n",
        "┌────────▼────────┐\n",
        "│ Servidor MCP    │\n",
        "│ ┌─────────────┐ │\n",
        "│ │ list_tools  │ │ ← Expone herramientas\n",
        "│ └─────────────┘ │\n",
        "│ ┌─────────────┐ │\n",
        "│ │ call_tool   │ │ ← Ejecuta lógica\n",
        "│ └─────────────┘ │\n",
        "│ ┌─────────────┐ │\n",
        "│ │   Estado    │ │ ← Carrito, productos\n",
        "│ └─────────────┘ │\n",
        "└─────────────────┘\n",
        "```\n",
        "\n",
        "> Esta arquitectura permite que tu lógica de e-commerce sea completamente independiente del agente ADK, haciéndola más modular y reutilizable."
      ]
    },
    {
      "cell_type": "markdown",
      "metadata": {},
      "source": [
        "### 6.7 Manos a la obra\n",
        "\n",
        "Vamos a la carpeta ecommerce_mcp de esta clase.\n",
        "\n",
        "Alli encontraras [ecommerce_mcp_server.py](MCP_Ecommerce/ecommerce_mcp_server.py) script donde desplegamos nuestro ecommerce de la clase anterior como un server MCP.\n",
        "\n",
        "Y nuestro agente que consume este server custom como cliente [agent.py](MCP_Ecommerce/agent.py)"
      ]
    },
    {
      "cell_type": "markdown",
      "metadata": {},
      "source": [
        "---"
      ]
    },
    {
      "cell_type": "markdown",
      "metadata": {
        "id": "considerations_section"
      },
      "source": [
        "## 7. Consideraciones Clave {#consideraciones}\n",
        "\n",
        "### 🔑 Puntos importantes al trabajar con ADK y MCP:"
      ]
    },
    {
      "cell_type": "markdown",
      "metadata": {},
      "source": [
        "### 1. Protocolo vs Biblioteca\n",
        "\n",
        "* **MCP**: Es una especificación de protocolo\n",
        "* **ADK**: Es una biblioteca Python\n",
        "* **MCPToolset**: Implementa el cliente MCP en ADK\n",
        "\n",
        "### 2. Herramientas ADK vs MCP\n",
        "\n",
        "* **ADK Tools**: Objetos Python (Function callinf, Built in tools)\n",
        "* **MCP Tools**: Capacidades expuestas según esquema MCP\n",
        "* **Conversión**: `MCPToolset` convierte automáticamente\n",
        "\n",
        "### 3. Naturaleza Asíncrona\n",
        "\n",
        "* **ADK**: Basado en `asyncio`\n",
        "* **MCP**: También asíncrono\n",
        "* **Implicación**: Usar `async/await` correctamente\n",
        "\n",
        "### 4. Gestión de Conexiones\n",
        "\n",
        "* **MCPToolset**: Gestiona el ciclo de vida\n",
        "* **Sesiones**: MCP mantiene estado\n",
        "* **Limpieza**: Importante cerrar conexiones\n",
        "\n",
        "### 5. Rutas y Permisos\n",
        "\n",
        "* **Rutas absolutas**: Siempre usar paths completos\n",
        "* **Permisos**: El servidor MCP necesita acceso\n",
        "* **Seguridad**: Limitar alcance de herramientas\n"
      ]
    },
    {
      "cell_type": "markdown",
      "metadata": {},
      "source": [
        "---"
      ]
    },
    {
      "cell_type": "markdown",
      "metadata": {
        "id": "best_practices_section"
      },
      "source": [
        "### 🌟 Mejores Prácticas"
      ]
    },
    {
      "cell_type": "markdown",
      "metadata": {},
      "source": [
        "\n",
        "### 1. 🔒 Seguridad\n",
        "\n",
        "* ✅ Validar todas las entradas en herramientas MCP\n",
        "* ✅ Limitar acceso a recursos sensibles\n",
        "* ✅ Usar variables de entorno para API keys\n",
        "\n",
        "### 2. 🚀 Rendimiento\n",
        "\n",
        "* ✅ Reutilizar conexiones cuando sea posible\n",
        "* ✅ Implementar timeouts apropiados\n",
        "* ✅ Cachear resultados cuando tenga sentido\n",
        "\n",
        "### 3. 🛠️ Desarrollo\n",
        "\n",
        "* ✅ Probar herramientas individualmente primero\n",
        "* ✅ Usar logs detallados para debugging\n",
        "* ✅ Documentar esquemas de herramientas claramente\n",
        "\n",
        "### 4. 📦 Despliegue\n",
        "\n",
        "* ✅ Containerizar servidores MCP\n",
        "* ✅ Monitorear conexiones activas\n",
        "* ✅ Implementar health checks\n",
        "\n",
        "### 5. 🔄 Mantenimiento\n",
        "\n",
        "* ✅ Versionar protocolos y herramientas\n",
        "* ✅ Documentar cambios en APIs\n",
        "* ✅ Mantener compatibilidad hacia atrás\n"
      ]
    },
    {
      "cell_type": "markdown",
      "metadata": {},
      "source": [
        "---"
      ]
    },
    {
      "cell_type": "markdown",
      "metadata": {
        "id": "exercises_section"
      },
      "source": [
        "## 8. Ejercicios y Recursos {#ejercicios}\n",
        "\n",
        "### 🎯 Ejercicios Prácticos"
      ]
    },
    {
      "cell_type": "markdown",
      "metadata": {},
      "source": [
        "\n",
        "Crea una herramienta que:\n",
        "\n",
        "1. Tome una **URL** como entrada\n",
        "2. Extraiga el **título** y la **meta descripción** de la página\n",
        "3. Devuelva un **resumen estructurado** en formato `dict`\n",
        "4. La expongas a través de un **servidor MCP**\n",
        "\n",
        "\n",
        "##### 🧰 Template de Inicio\n",
        "\n",
        "```python\n",
        "@tool\n",
        "def analizar_pagina_web(url: str) -> dict:\n",
        "    \"\"\"\n",
        "    TODO: Implementar análisis de página web\n",
        "    \"\"\"\n",
        "    # Tu código aquí\n",
        "    pass\n",
        "```\n"
      ]
    },
    {
      "cell_type": "markdown",
      "metadata": {
        "id": "resources_section"
      },
      "source": [
        "### 📚 Recursos Adicionales"
      ]
    },
    {
      "cell_type": "markdown",
      "metadata": {},
      "source": [
        "\n",
        "#### Documentación Oficial\n",
        "\n",
        "* **[ADK Docs](https://github.com/google/adk-python)**\n",
        "* **[MCP Spec](https://modelcontextprotocol.io)**\n",
        "* **[MCP Python SDK](https://github.com/modelcontextprotocol/python-sdk)**\n",
        "* **[MCP Servers](https://github.com/modelcontextprotocol/servers)**\n",
        "\n",
        "#### Servidores MCP Disponibles\n",
        "\n",
        "* **Filesystem**: `@modelcontextprotocol/server-filesystem`\n",
        "* **Google Maps**: `@modelcontextprotocol/server-google-maps`\n",
        "* **GitHub**: `@modelcontextprotocol/server-github`\n",
        "* **Slack**: `@modelcontextprotocol/server-slack`\n",
        "\n",
        "#### Herramientas ADK Útiles\n",
        "\n",
        "* **load\\_web\\_page**: Cargar contenido web\n",
        "* **google\\_search**: Búsqueda en Google\n",
        "* **code\\_execution**: Ejecutar código Python\n"
      ]
    },
    {
      "cell_type": "markdown",
      "metadata": {
        "id": "conclusion_section"
      },
      "source": [
        "## 🎉 ¡Felicitaciones!\n",
        "\n",
        "Has aprendido a integrar el Model Context Protocol con tus agentes ADK. Ahora puedes:\n",
        "\n",
        "- ✅ Conectar agentes ADK a servidores MCP existentes\n",
        "- ✅ Usar `MCPToolset` para consumir herramientas MCP\n",
        "- ✅ Crear servidores MCP para exponer herramientas ADK\n",
        "- ✅ Construir arquitecturas de agentes más flexibles y poderosas\n",
        "\n",
        "### 🚀 Próximos Pasos"
      ]
    },
    {
      "cell_type": "markdown",
      "metadata": {},
      "source": [
        "\n",
        "1. 🔧 Explora más servidores MCP de la comunidad\n",
        "2. 🛠️ Crea tus propios servidores MCP especializados\n",
        "3. 🌐 Integra servicios externos via MCP\n",
        "4. 🏗️ Construye arquitecturas multi-agente con MCP\n",
        "5. 📦 Despliega servidores MCP en producción\n",
        "\n",
        "> ¡El ecosistema MCP está en constante crecimiento!\n",
        "> Mantente actualizado y comparte tus creaciones con la comunidad.\n"
      ]
    },
    {
      "cell_type": "markdown",
      "metadata": {
        "id": "footer"
      },
      "source": [
        "---\n",
        "\n",
        "**Creado con ❤️ para la comunidad de desarrolladores ADK**\n",
        "\n",
        "📝 **Nota**: Este notebook es parte de la serie de tutoriales de Google ADK. Para más contenido, visita los recursos oficiales."
      ]
    }
  ],
  "metadata": {
    "colab": {
      "provenance": [],
      "toc_visible": true
    },
    "kernelspec": {
      "display_name": "env_3_10",
      "language": "python",
      "name": "python3"
    },
    "language_info": {
      "codemirror_mode": {
        "name": "ipython",
        "version": 3
      },
      "file_extension": ".py",
      "mimetype": "text/x-python",
      "name": "python",
      "nbconvert_exporter": "python",
      "pygments_lexer": "ipython3",
      "version": "3.10.18"
    }
  },
  "nbformat": 4,
  "nbformat_minor": 0
}
