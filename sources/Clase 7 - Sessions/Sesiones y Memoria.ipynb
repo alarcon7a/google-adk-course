{
 "cells": [
  {
   "cell_type": "markdown",
   "metadata": {},
   "source": [
    "# 🧠 Clase 7: Sesiones, Estado y Memoria en Google ADK\n",
    "\n",
    "## 📘 Tutorial Práctico: Convierte a tus agentes en expertos contextuales\n",
    "\n",
    "[![Open In Colab](https://colab.research.google.com/assets/colab-badge.svg)](https://colab.research.google.com/github/alarcon7a/google-adk-course/blob/main/sources/Clase%207%20-%20Sessions/Sesiones%20y%20Memoria.ipynb)\n",
    "\n",
    "Bienvenido a la séptima clase del curso. Aquí transformarás agentes básicos en asistentes que recuerdan, personalizan y aprenden de cada usuario. Todo el contenido está en español y alineado con los ejemplos del repositorio.\n"
   ]
  },
  {
   "cell_type": "markdown",
   "metadata": {},
   "source": [
    "## 🚀 ¿Qué aprenderás hoy?\n",
    "\n",
    "- Diferenciar historia de conversación (`events`), estado activo (`state`) y memoria persistente.\n",
    "- Aplicar prefijos (`user:`, `app:`, `temp:`) para controlar el alcance de la información.\n",
    "- Inyectar valores del estado directamente en las instrucciones y herramientas de tus agentes.\n",
    "- Construir un flujo de memoria a largo plazo reutilizando sesiones anteriores con `MemoryService`.\n"
   ]
  },
  {
   "cell_type": "markdown",
   "metadata": {},
   "source": [
    "## ⚙️ Configuración inicial\n",
    "\n",
    "Ejecuta las siguientes celdas si trabajas en un entorno nuevo (Colab, Codespaces o local limpio).\n"
   ]
  },
  {
   "cell_type": "code",
   "execution_count": null,
   "metadata": {},
   "outputs": [],
   "source": [
    "# Instalación base\n",
    "!pip install -qU google-adk==1.4.2 litellm==1.73.0 python-dotenv\n"
   ]
  },
  {
   "cell_type": "markdown",
   "metadata": {},
   "source": [
    "### 📦 Importaciones y helpers globales\n",
    "\n",
    "Las utilidades siguientes se reutilizarán en todo el notebook.\n"
   ]
  },
  {
   "cell_type": "code",
   "execution_count": null,
   "metadata": {},
   "outputs": [
    {
     "name": "stderr",
     "output_type": "stream",
     "text": [
      "/home/alarcon7a/anaconda3/envs/env_3_10/lib/python3.10/site-packages/pydantic/_internal/_fields.py:198: UserWarning: Field name \"config_type\" in \"SequentialAgent\" shadows an attribute in parent \"BaseAgent\"\n",
      "  warnings.warn(\n"
     ]
    }
   ],
   "source": [
    "import os\n",
    "\n",
    "from google.genai import types\n",
    "\n",
    "from google.adk.agents import LlmAgent\n",
    "from google.adk.runners import Runner\n",
    "from google.adk.sessions import InMemorySessionService\n",
    "from google.adk.memory import InMemoryMemoryService, VertexAiMemoryBankService\n",
    "from google.adk.tools import load_memory\n",
    "from google.adk.tools.tool_context import ToolContext\n",
    "from google.adk.events import Event, EventActions\n"
   ]
  },
  {
   "cell_type": "markdown",
   "metadata": {},
   "source": [
    "### 🔐 Configura tus credenciales\n",
    "\n",
    "Necesitas una clave de Google AI Studio (`GOOGLE_API_KEY`) para ejecutar modelos Gemini. Elige una de las opciones siguientes según tu entorno.\n"
   ]
  },
  {
   "cell_type": "code",
   "execution_count": null,
   "metadata": {},
   "outputs": [],
   "source": [
    "from getpass import getpass\n",
    "\n",
    "if \"GOOGLE_API_KEY\" not in os.environ:\n",
    "    print(\"🔑 Ingresa tu Google API Key (se guardará solo durante la sesión actual):\")\n",
    "    os.environ[\"GOOGLE_API_KEY\"] = getpass(\"API Key: \")\n",
    "else:\n",
    "    print(\"✅ API Key detectada en el entorno.\")\n"
   ]
  },
  {
   "cell_type": "markdown",
   "metadata": {},
   "source": [
    "---\n"
   ]
  },
  {
   "cell_type": "markdown",
   "metadata": {},
   "source": [
    "#### 💡 Opción alternativa: archivo `.env`\n",
    "\n",
    "Si ya guardaste tus claves en un `.env` en la raíz del proyecto, simplemente cárgalas:\n"
   ]
  },
  {
   "cell_type": "code",
   "execution_count": 2,
   "metadata": {},
   "outputs": [
    {
     "name": "stdout",
     "output_type": "stream",
     "text": [
      "🔁 Variables de entorno actualizadas desde .env (si existe).\n"
     ]
    }
   ],
   "source": [
    "from dotenv import load_dotenv\n",
    "\n",
    "load_dotenv(override=True)\n",
    "print(\"🔁 Variables de entorno actualizadas desde .env (si existe).\")\n"
   ]
  },
  {
   "cell_type": "markdown",
   "metadata": {},
   "source": [
    "## 🧭 Panorama general: sesiones vs memoria\n",
    "\n",
    "- Una **Session** representa una conversación viva entre un usuario y tu agente ADK.\n",
    "- El atributo **events** guarda todo el historial de turnos, herramientas y callbacks.\n",
    "- El **state** es un bloc de notas editable que el agente usa dentro de la sesión.\n",
    "- La **MemoryService** provee conocimientos que sobreviven a múltiples sesiones y usuarios.\n",
    "\n",
    "Imagina una oficina: los `events` son el acta completa de la reunión, `state` es la libreta en la mesa y `MemoryService` es el archivo de proyectos terminados.\n"
   ]
  },
  {
   "cell_type": "markdown",
   "metadata": {},
   "source": [
    "### 🧱 Anatomía de una sesión\n",
    "\n",
    "- `session.session_id`: identifica el hilo actual.\n",
    "- `session.state`: diccionario serializable con datos de trabajo.\n",
    "- `session.events`: lista ordenada de `Event` que documentan cada paso.\n",
    "- `session.last_update_time`: marca el último cambio, útil para tableros o auditorías.\n"
   ]
  },
  {
   "cell_type": "markdown",
   "metadata": {},
   "source": [
    "### 🧭 Prefijos que marcan el alcance\n",
    "\n",
    "| Prefijo | Alcance | Persistencia* | Uso típico | Ejemplo |\n",
    "| --- | --- | --- | --- | --- |\n",
    "| (sin prefijo) | Solo la sesión actual | Depende del `SessionService` | Progreso del flujo, flags temporales | `session.state[\"paso_actual\"] = \"confirmar_pago\"` |\n",
    "| `user:` | Todas las sesiones del mismo usuario | Persistente con servicios basados en BD o Vertex | Preferencias y perfil | `session.state[\"user:idioma\"] = \"es\"` |\n",
    "| `app:` | Todo el aplicativo y todos los usuarios | Persistente con servicios basados en BD o Vertex | Configuración global, pruebas A/B | `session.state[\"app:banner_promocional\"]` |\n",
    "| `temp:` | Solo la invocación actual | Nunca se persiste | Cálculos intermedios, datos sensibles de una herramienta | `session.state[\"temp:raw_reply\"]` |\n",
    "\n",
    "\\*`InMemorySessionService` no persiste después de reiniciar, pero respeta el alcance durante la ejecución.\n"
   ]
  },
  {
   "cell_type": "markdown",
   "metadata": {},
   "source": [
    "### 🛠️ Helper para ejecutar agentes\n",
    "\n",
    "Usaremos una función auxiliar para enviar mensajes y capturar la respuesta final del agente.\n"
   ]
  },
  {
   "cell_type": "code",
   "execution_count": 3,
   "metadata": {},
   "outputs": [],
   "source": [
    "MODEL = \"gemini-2.5-flash\"\n",
    "\n",
    "async def call_agent_async(query: str, runner: Runner, user_id: str, session_id: str) -> str:\n",
    "    \"\"\"Envía un mensaje al agente y devuelve la respuesta final de texto.\"\"\"\n",
    "    print(f\"\\n🧑‍💻 Usuario: {query}\")\n",
    "    content = types.Content(role=\"user\", parts=[types.Part(text=query)])\n",
    "\n",
    "    final_response_text = \"El agente no produjo una respuesta final.\"\n",
    "\n",
    "    async for event in runner.run_async(user_id=user_id, session_id=session_id, new_message=content):\n",
    "        if event.is_final_response():\n",
    "            if event.content and event.content.parts:\n",
    "                final_response_text = event.content.parts[0].text\n",
    "            break\n",
    "\n",
    "    print(f\"🤖 Agente: {final_response_text}\\n\")\n",
    "    return final_response_text\n"
   ]
  },
  {
   "cell_type": "markdown",
   "metadata": {},
   "source": [
    "## 📗 Capítulo 1: Personaliza las respuestas con `session.state`\n",
    "\n",
    "El estado convierte a tu agente en un concierge que recuerda al instante los datos relevantes. A continuación pre-cargamos preferencias y dejamos que el LLM las use a través de la inyección `{clave}`.\n"
   ]
  },
  {
   "cell_type": "code",
   "execution_count": 4,
   "metadata": {},
   "outputs": [],
   "source": [
    "APP_NAME = \"adk_session_personalizacion\"\n",
    "USER_ID = \"cliente_vip\"\n",
    "\n",
    "session_service = InMemorySessionService()\n",
    "\n",
    "concierge_agent = LlmAgent(\n",
    "    name=\"ConciergePersonalizado\",\n",
    "    model=MODEL,\n",
    "    description=\"Entrega recomendaciones de viaje basadas en preferencias guardadas.\",\n",
    "    instruction=\"\"\"Eres un concierge de viajes para clientes premium.\n",
    "Saluda con calidez y ofrece un plan que combine el tema preferido del cliente.\n",
    "Nivel del cliente: {user:nivel_membresia}\n",
    "Tema favorito actual: {tema_favorito}\n",
    "Usa un tono cercano pero profesional y termina con una pregunta de seguimiento.\"\"\",\n",
    "    output_key=\"ultima_interaccion\"\n",
    ")\n",
    "\n",
    "session_id = \"sesion_personalizada\"\n",
    "\n",
    "session = await session_service.create_session(\n",
    "    app_name=APP_NAME,\n",
    "    user_id=USER_ID,\n",
    "    session_id=session_id,\n",
    "    state={\n",
    "        \"user:nivel_membresia\": \"Oro\",\n",
    "        \"tema_favorito\": \"viajes gastronómicos por Asia\"\n",
    "    }\n",
    ")\n",
    "\n",
    "runner = Runner(\n",
    "    agent=concierge_agent,\n",
    "    app_name=APP_NAME,\n",
    "    session_service=session_service\n",
    ")"
   ]
  },
  {
   "cell_type": "code",
   "execution_count": 5,
   "id": "7d48e382",
   "metadata": {},
   "outputs": [
    {
     "name": "stdout",
     "output_type": "stream",
     "text": [
      "\n",
      "🧑‍💻 Usuario: Hola, quiero inspirarme para mi próximo viaje.\n",
      "🤖 Agente: ¡Qué placer saludarte hoy! Soy tu concierge de viajes y estoy encantado de ayudarte a encontrar la inspiración perfecta para tu próxima aventura.\n",
      "\n",
      "Sabiendo que eres uno de nuestros valiosos clientes Oro y que tu pasión por los **viajes gastronómicos por Asia** es inigualable, he estado pensando en una experiencia que realmente despierte tus sentidos.\n",
      "\n",
      "¿Qué te parecería un viaje que combine la elegancia milenaria de **Kioto** con la vibrante energía culinaria de **Singapur**? Podríamos diseñar una ruta que te lleve desde exclusivas ceremonias del té y cenas *kaiseki* con estrellas Michelin en Japón, hasta sesiones privadas de cocina callejera elevada y exploraciones de los *hawker centers* más renombrados en Singapur, pasando por catas de sake artesanales y bares clandestinos con cócteles de autor. Todo esto, por supuesto, con alojamientos de lujo y experiencias personalizadas que solo tú podrías disfrutar.\n",
      "\n",
      "¿Te suena como el tipo de inspiración que buscas, o tienes alguna otra región o tipo de cocina en mente que te gustaría explorar más a fondo?\n",
      "\n"
     ]
    },
    {
     "data": {
      "text/plain": [
       "'¡Qué placer saludarte hoy! Soy tu concierge de viajes y estoy encantado de ayudarte a encontrar la inspiración perfecta para tu próxima aventura.\\n\\nSabiendo que eres uno de nuestros valiosos clientes Oro y que tu pasión por los **viajes gastronómicos por Asia** es inigualable, he estado pensando en una experiencia que realmente despierte tus sentidos.\\n\\n¿Qué te parecería un viaje que combine la elegancia milenaria de **Kioto** con la vibrante energía culinaria de **Singapur**? Podríamos diseñar una ruta que te lleve desde exclusivas ceremonias del té y cenas *kaiseki* con estrellas Michelin en Japón, hasta sesiones privadas de cocina callejera elevada y exploraciones de los *hawker centers* más renombrados en Singapur, pasando por catas de sake artesanales y bares clandestinos con cócteles de autor. Todo esto, por supuesto, con alojamientos de lujo y experiencias personalizadas que solo tú podrías disfrutar.\\n\\n¿Te suena como el tipo de inspiración que buscas, o tienes alguna otra región o tipo de cocina en mente que te gustaría explorar más a fondo?'"
      ]
     },
     "execution_count": 5,
     "metadata": {},
     "output_type": "execute_result"
    }
   ],
   "source": [
    "await call_agent_async(\n",
    "    query=\"Hola, quiero inspirarme para mi próximo viaje.\",\n",
    "    runner=runner,\n",
    "    user_id=USER_ID,\n",
    "    session_id=session_id\n",
    ")"
   ]
  },
  {
   "cell_type": "code",
   "execution_count": 6,
   "id": "bff1bfa4",
   "metadata": {},
   "outputs": [
    {
     "name": "stdout",
     "output_type": "stream",
     "text": [
      "🧾 Estado después del turno:\n",
      "{'user:nivel_membresia': 'Oro', 'tema_favorito': 'viajes gastronómicos por Asia', 'ultima_interaccion': '¡Qué placer saludarte hoy! Soy tu concierge de viajes y estoy encantado de ayudarte a encontrar la inspiración perfecta para tu próxima aventura.\\n\\nSabiendo que eres uno de nuestros valiosos clientes Oro y que tu pasión por los **viajes gastronómicos por Asia** es inigualable, he estado pensando en una experiencia que realmente despierte tus sentidos.\\n\\n¿Qué te parecería un viaje que combine la elegancia milenaria de **Kioto** con la vibrante energía culinaria de **Singapur**? Podríamos diseñar una ruta que te lleve desde exclusivas ceremonias del té y cenas *kaiseki* con estrellas Michelin en Japón, hasta sesiones privadas de cocina callejera elevada y exploraciones de los *hawker centers* más renombrados en Singapur, pasando por catas de sake artesanales y bares clandestinos con cócteles de autor. Todo esto, por supuesto, con alojamientos de lujo y experiencias personalizadas que solo tú podrías disfrutar.\\n\\n¿Te suena como el tipo de inspiración que buscas, o tienes alguna otra región o tipo de cocina en mente que te gustaría explorar más a fondo?'}\n"
     ]
    }
   ],
   "source": [
    "updated_session = await session_service.get_session(\n",
    "    app_name=APP_NAME,\n",
    "    user_id=USER_ID,\n",
    "    session_id=session_id\n",
    ")\n",
    "print(\"🧾 Estado después del turno:\" )\n",
    "print(updated_session.state)"
   ]
  },
  {
   "cell_type": "markdown",
   "metadata": {},
   "source": [
    "### 🔍 Qué sucedió\n",
    "\n",
    "- `{user:nivel_membresia}` se resolvió antes de enviar la instrucción al modelo.\n",
    "- El agente guardó el saludo final en `state[\"ultima_interaccion\"]` gracias a `output_key`.\n",
    "- La próxima vez que consultes el estado podrás reutilizar ese texto, por ejemplo para enviar un resumen por correo.\n"
   ]
  },
  {
   "cell_type": "markdown",
   "metadata": {},
   "source": [
    "### 🧪 Extra: Plantillas tolerantes a datos opcionales\n",
    "\n",
    "El archivo `state.md` describe el sufijo `?` para leer valores opcionales sin romper la ejecución. En este mini flujo comparamos la misma instrucción con y sin la clave `proximo_evento` en el estado."
   ]
  },
  {
   "cell_type": "code",
   "execution_count": 7,
   "metadata": {},
   "outputs": [],
   "source": [
    "import uuid\n",
    "\n",
    "APP_NAME_CONDICIONAL = \"adk_state_condicional\"\n",
    "USER_ID_CONDICIONAL = \"cliente_condicional\"\n",
    "\n",
    "session_service_condicional = InMemorySessionService()\n",
    "\n",
    "concierge_condicional = LlmAgent(\n",
    "    name=\"ConciergeCondicional\",\n",
    "    model=MODEL,\n",
    "    instruction=\"\"\"Saluda al cliente premium y sugiere un plan alineado al tema favorito.\n",
    "Nivel actual: {user:nivel_membresia}\n",
    "Tema favorito: {tema_favorito}\n",
    "Si existe, menciona el contexto adicional {proximo_evento?}.\n",
    "Cierra con una pregunta corta.\"\"\"\n",
    ")\n",
    "\n",
    "runner_condicional = Runner(\n",
    "    agent=concierge_condicional,\n",
    "    app_name=APP_NAME_CONDICIONAL,\n",
    "    session_service=session_service_condicional\n",
    ")\n"
   ]
  },
  {
   "cell_type": "code",
   "execution_count": 8,
   "id": "652853db",
   "metadata": {},
   "outputs": [],
   "source": [
    "\n",
    "async def ejecutar_demo_condicional(state, etiqueta):\n",
    "    session_id = f\"sesion_condicional_{etiqueta}_{uuid.uuid4().hex[:4]}\"\n",
    "    await session_service_condicional.create_session(\n",
    "        app_name=APP_NAME_CONDICIONAL,\n",
    "        user_id=USER_ID_CONDICIONAL,\n",
    "        session_id=session_id,\n",
    "        state=state\n",
    "    )\n",
    "    print(f\"▶️ Ejecutando {etiqueta} con sesión {session_id}\")\n",
    "    await call_agent_async(\n",
    "        query=\"¿Qué me recomendarías para mi próximo viaje panorámico?\",\n",
    "        runner=runner_condicional,\n",
    "        user_id=USER_ID_CONDICIONAL,\n",
    "        session_id=session_id\n",
    "    )\n",
    "    session_actualizado = await session_service_condicional.get_session(\n",
    "        app_name=APP_NAME_CONDICIONAL,\n",
    "        user_id=USER_ID_CONDICIONAL,\n",
    "        session_id=session_id\n",
    "    )\n",
    "    print(\"Estado tras la respuesta:\", session_actualizado.state, \"\\n\")"
   ]
  },
  {
   "cell_type": "code",
   "execution_count": 9,
   "id": "0f12bf19",
   "metadata": {},
   "outputs": [
    {
     "name": "stdout",
     "output_type": "stream",
     "text": [
      "▶️ Ejecutando sin_contexto_extra con sesión sesion_condicional_sin_contexto_extra_2daf\n",
      "\n",
      "🧑‍💻 Usuario: ¿Qué me recomendarías para mi próximo viaje panorámico?\n",
      "🤖 Agente: ¡Qué placer saludarle, nuestro/a distinguido/a cliente Platino!\n",
      "\n",
      "Para su próximo viaje panorámico, y sabiendo su predilección por las **aventuras en lagos nórdicos**, le hemos diseñado una experiencia que captura la esencia de este fascinante tema.\n",
      "\n",
      "Le proponemos un itinerario que combine la majestuosidad de los paisajes escandinavos con la tranquilidad de sus espejos de agua. Podríamos trazar una ruta que recorra los **fiordos y lagos del oeste de Noruega**, integrando tramos en tren panorámico como el famoso Flåmsbana, que ofrece vistas impresionantes de montañas escarpadas y valles profundos. Luego, se adentraría en las serenas aguas de lagos como el Loen o el Oldevatnet, donde las oportunidades para el remo, la pesca o el senderismo son infinitas. Alternativamente, la **región de los mil lagos en Finlandia** ofrece una experiencia de \"panorámica lacustre\" inigualable, donde cada curva del camino revela una postal natural diferente.\n",
      "\n",
      "El foco estaría en las vistas espectaculares, las carreteras serpenteantes junto al agua y las paradas estratégicas en miradores exclusivos, asegurando que cada momento sea una verdadera inmersión en la naturaleza nórdica que tanto le apasiona.\n",
      "\n",
      "¿Qué le parece esta primera pincelada para comenzar a personalizar su aventura?\n",
      "\n",
      "Estado tras la respuesta: {'user:nivel_membresia': 'Platino', 'tema_favorito': 'aventuras en lagos nórdicos'} \n",
      "\n"
     ]
    }
   ],
   "source": [
    "await ejecutar_demo_condicional(\n",
    "    state={\n",
    "        \"user:nivel_membresia\": \"Platino\",\n",
    "        \"tema_favorito\": \"aventuras en lagos nórdicos\"\n",
    "    },\n",
    "    etiqueta=\"sin_contexto_extra\"\n",
    ")"
   ]
  },
  {
   "cell_type": "code",
   "execution_count": 10,
   "id": "943b8c07",
   "metadata": {},
   "outputs": [
    {
     "name": "stdout",
     "output_type": "stream",
     "text": [
      "▶️ Ejecutando con_contexto_extra con sesión sesion_condicional_con_contexto_extra_182f\n",
      "\n",
      "🧑‍💻 Usuario: ¿Qué me recomendarías para mi próximo viaje panorámico?\n",
      "🤖 Agente: ¡Estimado cliente Platino!\n",
      "\n",
      "Es un verdadero placer y un honor ayudarle a planificar su próximo viaje panorámico, especialmente con su pasión por las **aventuras en lagos nórdicos** y la maravillosa ocasión de celebrar su **aniversario en junio**.\n",
      "\n",
      "Para una ocasión tan significativa y en perfecta sintonía con sus preferencias, le sugeriría un itinerario **personalizado de lujo** que combine la majestuosidad de los fiordos noruegos con la serena belleza de los grandes lagos de Finlandia o Suecia, aprovechando la magia del sol de medianoche en junio.\n",
      "\n",
      "Imagínese alojándose en **cabañas de diseño exclusivas a orillas del lago**, con saunas privadas y vistas infinitas. Podemos organizar **excursiones privadas en kayak o canoa** con guías expertos para explorar calas secretas, **senderismo guiado** por paisajes vírgenes inmaculados, o incluso una **experiencia de pesca con mosca privada** en ríos cristalinos.\n",
      "\n",
      "Dado que es su aniversario en junio, las largas jornadas de verano en el norte de Europa son ideales. Podríamos incluir una **cena gourmet privada bajo el sol de medianoche** en un enclave idílico, o un **paseo en hidroavión** para admirar desde el cielo la red de lagos y bosques que se extiende hasta el horizonte. Todas las conexiones, por supuesto, serían mediante **traslados privados** para su máxima comodidad y exclusividad.\n",
      "\n",
      "Es una oportunidad incomparable para crear recuerdos inolvidables, combinando la aventura y el romance en un entorno natural incomparable.\n",
      "\n",
      "Para empezar a perfilar esta experiencia de aniversario única, ¿qué tipo de actividad o paisaje le emociona más explorar en esta ocasión?\n",
      "\n",
      "Estado tras la respuesta: {'user:nivel_membresia': 'Platino', 'tema_favorito': 'aventuras en lagos nórdicos', 'proximo_evento': 'Celebro mi aniversario en junio'} \n",
      "\n"
     ]
    }
   ],
   "source": [
    "await ejecutar_demo_condicional(\n",
    "    state={\n",
    "        \"user:nivel_membresia\": \"Platino\",\n",
    "        \"tema_favorito\": \"aventuras en lagos nórdicos\",\n",
    "        \"proximo_evento\": \"Celebro mi aniversario en junio\"\n",
    "    },\n",
    "    etiqueta=\"con_contexto_extra\"\n",
    ")\n"
   ]
  },
  {
   "cell_type": "markdown",
   "metadata": {},
   "source": [
    "## 📘 Capítulo 2: State como cerebro operativo (herramientas + prefijos)\n",
    "\n",
    "Cuando las interacciones son largas, conviene que el agente lleve un registro estructurado. El siguiente ejercicio muestra cómo una herramienta actualiza la lista de destinos compartida y cómo el prefijo `temp:` desaparece al terminar el turno.\n"
   ]
  },
  {
   "cell_type": "code",
   "execution_count": 11,
   "metadata": {},
   "outputs": [],
   "source": [
    "session_service_plan = InMemorySessionService()\n",
    "APP_NAME_PLAN = \"adk_planificador\"\n",
    "USER_ID_PLAN = \"viajero_1\"\n",
    "SESSION_ID_PLAN = \"viaje_2025\"\n",
    "\n",
    "def agregar_destino(destino: str, tool_context: ToolContext) -> str:\n",
    "    \"\"\"Agrega un destino al itinerario actual y conserva un resumen temporal.\"\"\"\n",
    "    historial = list(tool_context.state.get(\"itinerario\", []))\n",
    "    historial.append(destino)\n",
    "    tool_context.state[\"itinerario\"] = historial\n",
    "    tool_context.state[\"temp:ultimo_destino\"] = destino\n",
    "    print(f\"🛠️ Tool: itinerario actualizado -> {historial}\")\n",
    "    print(\"🛠️ Tool: estado temporal (ultimo_destino) ->\", tool_context.state[\"temp:ultimo_destino\"])\n",
    "    return f\"Destino '{destino}' agregado. Pregunta al agente por el itinerario para verlo.\"\n",
    "\n",
    "planificador_viajes = LlmAgent(\n",
    "    name=\"PlanificadorViajes\",\n",
    "    model=MODEL,\n",
    "    description=\"Gestiona un itinerario personalizado actualizando el estado con cada petición.\",\n",
    "    instruction=\"\"\"Eres un planificador boutique.\n",
    "Estilo del usuario: {user:estilo}\n",
    "Usa la herramienta `agregar_destino` siempre que el usuario pida sumar lugares.\n",
    "Resume el itinerario actual (`{itinerario?}`) antes de despedirte.\n",
    "\n",
    "planifica de forma creativa y personalizada posibles activdades basadas en el intinerario.\n",
    "\"\"\",\n",
    "    tools=[agregar_destino]\n",
    ")\n",
    "\n",
    "await session_service_plan.create_session(\n",
    "    app_name=APP_NAME_PLAN,\n",
    "    user_id=USER_ID_PLAN,\n",
    "    session_id=SESSION_ID_PLAN,\n",
    "    state={\"user:estilo\": \"aventurero\"}\n",
    ")\n",
    "\n",
    "runner_plan = Runner(\n",
    "    agent=planificador_viajes,\n",
    "    app_name=APP_NAME_PLAN,\n",
    "    session_service=session_service_plan\n",
    ")"
   ]
  },
  {
   "cell_type": "code",
   "execution_count": 12,
   "id": "3c04ccea",
   "metadata": {},
   "outputs": [
    {
     "name": "stdout",
     "output_type": "stream",
     "text": [
      "\n",
      "🧑‍💻 Usuario: Quiero agregar Tokio a mi itinerario y saber qué haríamos allí.\n"
     ]
    },
    {
     "name": "stderr",
     "output_type": "stream",
     "text": [
      "Warning: there are non-text parts in the response: ['thought_signature', 'function_call'], returning concatenated text result from text parts. Check the full candidates.content.parts accessor to get the full model response.\n"
     ]
    },
    {
     "name": "stdout",
     "output_type": "stream",
     "text": [
      "🛠️ Tool: itinerario actualizado -> ['Tokio']\n",
      "🛠️ Tool: estado temporal (ultimo_destino) -> Tokio\n",
      "🤖 Agente: ¡Tokio, una elección fantástica para un aventurero como tú! Aquí te dejo algunas ideas para exprimir al máximo la capital japonesa con un toque audaz:\n",
      "\n",
      "*   **Exploración Urbana Neon:** Sumérgete en el bullicio de Shibuya cruzando su famoso paso de cebra, luego piérdete en las vibrantes calles de Shinjuku, descubriendo izakayas ocultos y la energía de Kabukicho. Para un desafío visual, sube al Tokyo Metropolitan Government Building al atardecer para una vista panorámica impresionante.\n",
      "*   **Aventura Culinaria Callejera:** Olvídate de los restaurantes turísticos. Atrévete a probar la auténtica comida callejera en Ameya-Yokochō (Ameyoko) en Ueno o en el laberíntico mercado de Tsukiji fuera de las horas punta. Busca yakitori, takoyaki y okonomiyaki en puestos locales.\n",
      "*   **Reto a la Naturaleza Urbana:** Escapa del cemento subiendo al Monte Takao. No es excesivamente difícil, pero ofrece rutas de senderismo y vistas espectaculares de la ciudad (y del Monte Fuji en un día claro). ¡Una dosis de aire fresco y un desafío físico!\n",
      "*   **Adrenalina y Cultura Pop:** Visita Akihabara para una inmersión total en el mundo del anime, manga y videojuegos. Desafíate en un centro de arcades o busca las tiendas más extravagantes. Para algo realmente único, considera una experiencia de \"karting\" por las calles de Tokio disfrazado, ¡una aventura inolvidable!\n",
      "*   **Serenidad y Misterio:** Explora el barrio de Yanaka, uno de los pocos lugares de Tokio que sobrevivió a los bombardeos de la Segunda Guerra Mundial. Pasea por su cementerio histórico, sus templos antiguos y sus calles con un encanto de \"viejo Tokio\". Descubre pequeñas galerías de arte y tiendas de artesanía.\n",
      "\n",
      "Tu itinerario actual incluye: ['Tokio']. ¡Prepárate para una aventura inolvidable!\n",
      "\n"
     ]
    },
    {
     "data": {
      "text/plain": [
       "'¡Tokio, una elección fantástica para un aventurero como tú! Aquí te dejo algunas ideas para exprimir al máximo la capital japonesa con un toque audaz:\\n\\n*   **Exploración Urbana Neon:** Sumérgete en el bullicio de Shibuya cruzando su famoso paso de cebra, luego piérdete en las vibrantes calles de Shinjuku, descubriendo izakayas ocultos y la energía de Kabukicho. Para un desafío visual, sube al Tokyo Metropolitan Government Building al atardecer para una vista panorámica impresionante.\\n*   **Aventura Culinaria Callejera:** Olvídate de los restaurantes turísticos. Atrévete a probar la auténtica comida callejera en Ameya-Yokochō (Ameyoko) en Ueno o en el laberíntico mercado de Tsukiji fuera de las horas punta. Busca yakitori, takoyaki y okonomiyaki en puestos locales.\\n*   **Reto a la Naturaleza Urbana:** Escapa del cemento subiendo al Monte Takao. No es excesivamente difícil, pero ofrece rutas de senderismo y vistas espectaculares de la ciudad (y del Monte Fuji en un día claro). ¡Una dosis de aire fresco y un desafío físico!\\n*   **Adrenalina y Cultura Pop:** Visita Akihabara para una inmersión total en el mundo del anime, manga y videojuegos. Desafíate en un centro de arcades o busca las tiendas más extravagantes. Para algo realmente único, considera una experiencia de \"karting\" por las calles de Tokio disfrazado, ¡una aventura inolvidable!\\n*   **Serenidad y Misterio:** Explora el barrio de Yanaka, uno de los pocos lugares de Tokio que sobrevivió a los bombardeos de la Segunda Guerra Mundial. Pasea por su cementerio histórico, sus templos antiguos y sus calles con un encanto de \"viejo Tokio\". Descubre pequeñas galerías de arte y tiendas de artesanía.\\n\\nTu itinerario actual incluye: [\\'Tokio\\']. ¡Prepárate para una aventura inolvidable!'"
      ]
     },
     "execution_count": 12,
     "metadata": {},
     "output_type": "execute_result"
    }
   ],
   "source": [
    "await call_agent_async(\n",
    "    query=\"Quiero agregar Tokio a mi itinerario y saber qué haríamos allí.\",\n",
    "    runner=runner_plan,\n",
    "    user_id=USER_ID_PLAN,\n",
    "    session_id=SESSION_ID_PLAN\n",
    ")"
   ]
  },
  {
   "cell_type": "code",
   "execution_count": 13,
   "id": "b12db7d6",
   "metadata": {},
   "outputs": [
    {
     "name": "stdout",
     "output_type": "stream",
     "text": [
      "\n",
      "🧑‍💻 Usuario: Añade Lisboa y dame una segunda recomendación sorpresiva.\n"
     ]
    },
    {
     "name": "stderr",
     "output_type": "stream",
     "text": [
      "Warning: there are non-text parts in the response: ['thought_signature', 'function_call'], returning concatenated text result from text parts. Check the full candidates.content.parts accessor to get the full model response.\n"
     ]
    },
    {
     "name": "stdout",
     "output_type": "stream",
     "text": [
      "🛠️ Tool: itinerario actualizado -> ['Tokio', 'Lisboa']\n",
      "🛠️ Tool: estado temporal (ultimo_destino) -> Lisboa\n",
      "🤖 Agente: ¡Excelente elección, Lisboa! Una ciudad que te invita a la aventura con sus colinas, su historia y su vibrante energía. Aquí tienes algunas ideas para una experiencia audaz en la capital portuguesa:\n",
      "\n",
      "**Para tu aventura en Lisboa:**\n",
      "\n",
      "*   **Exploración de Colinas y Callejones:** Olvídate del transporte público y prepárate para conquistar las siete colinas de Lisboa a pie. Explora los laberínticos callejones de Alfama, descubre miradores escondidos como el Miradouro da Senhora do Monte para vistas espectaculares, y piérdete en la esencia histórica de la ciudad.\n",
      "*   **Adrenalina sobre el Tajo:** Alquila una tabla de surf (o toma una clase) y dirígete a las playas cercanas como Carcavelos o Costa da Caparica para desafiar las olas del Atlántico. O para una perspectiva diferente, considera un paseo en kayak o paddleboard por el estuario del Tajo al atardecer.\n",
      "*   **Sabores Fuera de Ruta:** Aventúrate en los mercados locales como el Mercado de Campo de Ourique o el Mercado da Ribeira (Time Out Market Lisboa, pero busca los puestos menos turísticos) para probar delicias portuguesas. No te quedes solo con el bacalao; busca petiscos (tapas portuguesas) y atrévete con el ginjinha (licor de cereza) en un pequeño bar tradicional.\n",
      "*   **Descubrimiento Subterráneo:** Explora las Ruinas do Carmo, los restos de una iglesia gótica destruida por el terremoto de 1755. Su museo arqueológico y la estructura al aire libre ofrecen una atmósfera única y misteriosa. Para una aventura más \"secreta\", busca las Galerías Romanas de la Baixa (abiertas solo unos pocos días al año, ¡requiere planificación!).\n",
      "\n",
      "**¡Y ahora, tu segunda recomendación sorpresiva y totalmente aventurera!**\n",
      "\n",
      "Considerando tu espíritu audaz, ¿qué te parecería una aventura en la inmensidad y belleza salvaje de la **Patagonia Chilena**? Es un contraste total con las ciudades y te ofrecerá una experiencia de naturaleza pura y desafíos épicos:\n",
      "\n",
      "*   **Trekking Épico:** En el Parque Nacional Torres del Paine, podrías embarcarte en el famoso circuito \"W\" o el circuito completo \"O\", desafiando glaciares, montañas majestuosas y valles remotos. ¡Una prueba de resistencia y recompensa visual inigualable!\n",
      "*   **Kayak Glaciar:** Remar en kayak entre témpanos de hielo en un lago glaciar, como el Grey o el Serrano, te conectará directamente con la magnitud de la naturaleza patagónica.\n",
      "*   **Cabalgatas Gauchas:** Explora las estancias patagónicas a caballo, viviendo la experiencia de los gauchos locales y descubriendo paisajes inaccesibles de otra manera.\n",
      "*   **Descubrimiento de Vida Salvaje:** Observa cóndores andinos, guanacos y quizás pumas en su hábitat natural, una experiencia de vida salvaje auténtica y emocionante.\n",
      "\n",
      "Tu itinerario actual incluye: ['Tokio', 'Lisboa']. ¡Tienes un viaje lleno de contrastes y aventuras por delante!\n",
      "\n"
     ]
    },
    {
     "data": {
      "text/plain": [
       "'¡Excelente elección, Lisboa! Una ciudad que te invita a la aventura con sus colinas, su historia y su vibrante energía. Aquí tienes algunas ideas para una experiencia audaz en la capital portuguesa:\\n\\n**Para tu aventura en Lisboa:**\\n\\n*   **Exploración de Colinas y Callejones:** Olvídate del transporte público y prepárate para conquistar las siete colinas de Lisboa a pie. Explora los laberínticos callejones de Alfama, descubre miradores escondidos como el Miradouro da Senhora do Monte para vistas espectaculares, y piérdete en la esencia histórica de la ciudad.\\n*   **Adrenalina sobre el Tajo:** Alquila una tabla de surf (o toma una clase) y dirígete a las playas cercanas como Carcavelos o Costa da Caparica para desafiar las olas del Atlántico. O para una perspectiva diferente, considera un paseo en kayak o paddleboard por el estuario del Tajo al atardecer.\\n*   **Sabores Fuera de Ruta:** Aventúrate en los mercados locales como el Mercado de Campo de Ourique o el Mercado da Ribeira (Time Out Market Lisboa, pero busca los puestos menos turísticos) para probar delicias portuguesas. No te quedes solo con el bacalao; busca petiscos (tapas portuguesas) y atrévete con el ginjinha (licor de cereza) en un pequeño bar tradicional.\\n*   **Descubrimiento Subterráneo:** Explora las Ruinas do Carmo, los restos de una iglesia gótica destruida por el terremoto de 1755. Su museo arqueológico y la estructura al aire libre ofrecen una atmósfera única y misteriosa. Para una aventura más \"secreta\", busca las Galerías Romanas de la Baixa (abiertas solo unos pocos días al año, ¡requiere planificación!).\\n\\n**¡Y ahora, tu segunda recomendación sorpresiva y totalmente aventurera!**\\n\\nConsiderando tu espíritu audaz, ¿qué te parecería una aventura en la inmensidad y belleza salvaje de la **Patagonia Chilena**? Es un contraste total con las ciudades y te ofrecerá una experiencia de naturaleza pura y desafíos épicos:\\n\\n*   **Trekking Épico:** En el Parque Nacional Torres del Paine, podrías embarcarte en el famoso circuito \"W\" o el circuito completo \"O\", desafiando glaciares, montañas majestuosas y valles remotos. ¡Una prueba de resistencia y recompensa visual inigualable!\\n*   **Kayak Glaciar:** Remar en kayak entre témpanos de hielo en un lago glaciar, como el Grey o el Serrano, te conectará directamente con la magnitud de la naturaleza patagónica.\\n*   **Cabalgatas Gauchas:** Explora las estancias patagónicas a caballo, viviendo la experiencia de los gauchos locales y descubriendo paisajes inaccesibles de otra manera.\\n*   **Descubrimiento de Vida Salvaje:** Observa cóndores andinos, guanacos y quizás pumas en su hábitat natural, una experiencia de vida salvaje auténtica y emocionante.\\n\\nTu itinerario actual incluye: [\\'Tokio\\', \\'Lisboa\\']. ¡Tienes un viaje lleno de contrastes y aventuras por delante!'"
      ]
     },
     "execution_count": 13,
     "metadata": {},
     "output_type": "execute_result"
    }
   ],
   "source": [
    "await call_agent_async(\n",
    "    query=\"Añade Lisboa y dame una segunda recomendación sorpresiva.\",\n",
    "    runner=runner_plan,\n",
    "    user_id=USER_ID_PLAN,\n",
    "    session_id=SESSION_ID_PLAN\n",
    ")"
   ]
  },
  {
   "cell_type": "code",
   "execution_count": 14,
   "id": "35dd9b52",
   "metadata": {},
   "outputs": [
    {
     "name": "stdout",
     "output_type": "stream",
     "text": [
      "\n",
      "🧑‍💻 Usuario: Recuérdame cómo va el plan completo.\n",
      "🤖 Agente: ¡Claro que sí! Tu plan de viaje actual, lleno de aventuras y contrastes, incluye los siguientes destinos:\n",
      "\n",
      "*   **Tokio:** Una inmersión en la vibrante cultura urbana, desde el bullicio de Shibuya hasta la serenidad de Yanaka, con toques de adrenalina en Akihabara y retos culinarios.\n",
      "*   **Lisboa:** Exploración de colinas históricas, desafíos en el Atlántico, una aventura gastronómica auténtica y el descubrimiento de secretos subterráneos.\n",
      "\n",
      "Además, te he sugerido una recomendación sorpresiva y totalmente aventurera para tu futuro:\n",
      "\n",
      "*   **Patagonia Chilena:** Una inmersión en la naturaleza salvaje con trekking épico en Torres del Paine, kayak glaciar, cabalgatas gauchas y observación de vida silvestre.\n",
      "\n",
      "¡Este itinerario promete ser una odisea inolvidable para un viajero como tú!\n",
      "\n"
     ]
    },
    {
     "data": {
      "text/plain": [
       "'¡Claro que sí! Tu plan de viaje actual, lleno de aventuras y contrastes, incluye los siguientes destinos:\\n\\n*   **Tokio:** Una inmersión en la vibrante cultura urbana, desde el bullicio de Shibuya hasta la serenidad de Yanaka, con toques de adrenalina en Akihabara y retos culinarios.\\n*   **Lisboa:** Exploración de colinas históricas, desafíos en el Atlántico, una aventura gastronómica auténtica y el descubrimiento de secretos subterráneos.\\n\\nAdemás, te he sugerido una recomendación sorpresiva y totalmente aventurera para tu futuro:\\n\\n*   **Patagonia Chilena:** Una inmersión en la naturaleza salvaje con trekking épico en Torres del Paine, kayak glaciar, cabalgatas gauchas y observación de vida silvestre.\\n\\n¡Este itinerario promete ser una odisea inolvidable para un viajero como tú!'"
      ]
     },
     "execution_count": 14,
     "metadata": {},
     "output_type": "execute_result"
    }
   ],
   "source": [
    "await call_agent_async(\n",
    "    query=\"Recuérdame cómo va el plan completo.\",\n",
    "    runner=runner_plan,\n",
    "    user_id=USER_ID_PLAN,\n",
    "    session_id=SESSION_ID_PLAN\n",
    ")"
   ]
  },
  {
   "cell_type": "code",
   "execution_count": 15,
   "id": "6cb335b7",
   "metadata": {},
   "outputs": [
    {
     "name": "stdout",
     "output_type": "stream",
     "text": [
      "🧾 Estado persistente: {'user:estilo': 'aventurero', 'itinerario': ['Tokio', 'Lisboa']}\n"
     ]
    }
   ],
   "source": [
    "state_plan = await session_service_plan.get_session(\n",
    "    app_name=APP_NAME_PLAN,\n",
    "    user_id=USER_ID_PLAN,\n",
    "    session_id=SESSION_ID_PLAN\n",
    ")\n",
    "print(\"🧾 Estado persistente:\", state_plan.state)"
   ]
  },
  {
   "cell_type": "markdown",
   "metadata": {},
   "source": [
    "### 🧠 Observaciones clave\n",
    "\n",
    "- La herramienta actualiza `state[\"itinerario\"]` y usa `temp:ultimo_destino` solo durante la invocación.\n",
    "- Los prints dentro de la herramienta ayudan a depurar qué datos maneja cada turno.\n",
    "- El agente combina información `user:` persistente con el progreso de la sesión al responder.\n"
   ]
  },
  {
   "cell_type": "markdown",
   "metadata": {},
   "source": [
    "### 🛎️ Caso práctico: mesa de ayuda con SLA activo\n",
    "\n",
    "En entornos de soporte los agentes deben balancear el SLA comprometido con los avances reales del ticket. Este flujo usa `session.state` para documentar acciones, calcular tiempo consumido y mantener visibles los datos críticos del cliente durante toda la conversación.\n"
   ]
  },
  {
   "cell_type": "code",
   "execution_count": 21,
   "metadata": {},
   "outputs": [],
   "source": [
    "session_service_support = InMemorySessionService()\n",
    "APP_NAME_SOPORTE = \"adk_soporte_sla\"\n",
    "USER_ID_SOPORTE = \"cliente_andrea\"\n",
    "SESSION_ID_SOPORTE = \"ticket_inc_324\"\n",
    "\n",
    "def registrar_avance(accion: str, resultado: str, minutos_estimados: int, tool_context: ToolContext) -> str:\n",
    "    \"\"\"Registra avances en el estado del ticket y actualiza el tiempo invertido.\"\"\"\n",
    "    historial = list(tool_context.state.get(\"historial_avances\", []))\n",
    "    avance = {\n",
    "        \"accion\": accion,\n",
    "        \"resultado\": resultado,\n",
    "        \"minutos\": minutos_estimados\n",
    "    }\n",
    "    historial.append(avance)\n",
    "    tool_context.state[\"historial_avances\"] = historial\n",
    "    tool_context.state[\"tiempo_total\"] = sum(item[\"minutos\"] for item in historial)\n",
    "    tool_context.state[\"temp:ultimo_avance\"] = resultado\n",
    "    print(\"🛠️ Tool: avance registrado ->\", avance)\n",
    "    print(\"🛠️ Tool: minutos acumulados ->\", tool_context.state[\"tiempo_total\"])\n",
    "    return f\"Avance '{accion}' documentado. Tiempo invertido total: {tool_context.state['tiempo_total']} minutos.\"\n",
    "\n",
    "analista_soporte = LlmAgent(\n",
    "    name=\"AnalistaSoporte\",\n",
    "    model=MODEL,\n",
    "    description=\"Gestiona tickets críticos respetando el SLA acordado con el cliente.\",\n",
    "    instruction=\"\"\"Eres analista de mesa de ayuda.\n",
    "Ticket: {ticket_id}\n",
    "Cliente: {user:nombre}\n",
    "SLA comprometido (min): {sla_minutos}\n",
    "Tiempo invertido: {tiempo_total?0}\n",
    "\n",
    "1. Saluda al usuario mencionando cuánto tiempo queda antes de vencer el SLA.\n",
    "2. Usa la herramienta `registrar_avance` cuando se ejecute una nueva acción o haya que documentar progreso.\n",
    "3. Mantén una lista clara en `historial_avances` y úsala para resumir al cerrar el ticket.\n",
    "\"\"\",\n",
    "    tools=[registrar_avance]\n",
    ")\n",
    "\n",
    "await session_service_support.create_session(\n",
    "    app_name=APP_NAME_SOPORTE,\n",
    "    user_id=USER_ID_SOPORTE,\n",
    "    session_id=SESSION_ID_SOPORTE,\n",
    "    state={\n",
    "        \"ticket_id\": \"INC-324\",\n",
    "        \"sla_minutos\": 45,\n",
    "        \"user:nombre\": \"Andrea\",\n",
    "        \"historial_avances\": [],\n",
    "        \"tiempo_total\": 0\n",
    "    }\n",
    ")\n",
    "\n",
    "runner_soporte = Runner(\n",
    "    agent=analista_soporte,\n",
    "    app_name=APP_NAME_SOPORTE,\n",
    "    session_service=session_service_support\n",
    ")\n"
   ]
  },
  {
   "cell_type": "code",
   "execution_count": 22,
   "metadata": {},
   "outputs": [
    {
     "name": "stdout",
     "output_type": "stream",
     "text": [
      "\n",
      "🧑‍💻 Usuario: Hola, ¿hay novedades del ticket? Recuerda que prometimos resolverlo hoy.\n"
     ]
    },
    {
     "name": "stderr",
     "output_type": "stream",
     "text": [
      "Warning: there are non-text parts in the response: ['thought_signature'], returning concatenated text result from text parts. Check the full candidates.content.parts accessor to get the full model response.\n"
     ]
    },
    {
     "name": "stdout",
     "output_type": "stream",
     "text": [
      "🤖 Agente: Hola Andrea, gracias por contactarme. Quedan 45 minutos antes de que el SLA de tu ticket INC-324 venza.\n",
      "\n",
      "¿Hay alguna novedad sobre el ticket o se ha realizado alguna acción que deba registrar?\n",
      "\n"
     ]
    },
    {
     "data": {
      "text/plain": [
       "'Hola Andrea, gracias por contactarme. Quedan 45 minutos antes de que el SLA de tu ticket INC-324 venza.\\n\\n¿Hay alguna novedad sobre el ticket o se ha realizado alguna acción que deba registrar?'"
      ]
     },
     "execution_count": 22,
     "metadata": {},
     "output_type": "execute_result"
    }
   ],
   "source": [
    "await call_agent_async(\n",
    "    query=\"Hola, ¿hay novedades del ticket? Recuerda que prometimos resolverlo hoy.\",\n",
    "    runner=runner_soporte,\n",
    "    user_id=USER_ID_SOPORTE,\n",
    "    session_id=SESSION_ID_SOPORTE\n",
    ")\n"
   ]
  },
  {
   "cell_type": "code",
   "execution_count": 23,
   "metadata": {},
   "outputs": [
    {
     "name": "stdout",
     "output_type": "stream",
     "text": [
      "\n",
      "🧑‍💻 Usuario: Registra que reiniciamos el balanceador y que tardaremos 10 minutos en validar.\n"
     ]
    },
    {
     "name": "stderr",
     "output_type": "stream",
     "text": [
      "Warning: there are non-text parts in the response: ['thought_signature', 'function_call'], returning concatenated text result from text parts. Check the full candidates.content.parts accessor to get the full model response.\n"
     ]
    },
    {
     "name": "stdout",
     "output_type": "stream",
     "text": [
      "🛠️ Tool: avance registrado -> {'accion': 'Reiniciar balanceador', 'resultado': 'Se reinició el balanceador. Pendiente validar en 10 minutos.', 'minutos': 10}\n",
      "🛠️ Tool: minutos acumulados -> 10\n",
      "🤖 Agente: Gracias por la información. He registrado que se reinició el balanceador y que la validación tomará 10 minutos.\n",
      "\n",
      "Ahora mismo el tiempo invertido en el ticket es de 10 minutos, lo que significa que quedan 35 minutos antes de que el SLA venza. Te mantendré informada.\n",
      "\n"
     ]
    },
    {
     "data": {
      "text/plain": [
       "'Gracias por la información. He registrado que se reinició el balanceador y que la validación tomará 10 minutos.\\n\\nAhora mismo el tiempo invertido en el ticket es de 10 minutos, lo que significa que quedan 35 minutos antes de que el SLA venza. Te mantendré informada.'"
      ]
     },
     "execution_count": 23,
     "metadata": {},
     "output_type": "execute_result"
    }
   ],
   "source": [
    "await call_agent_async(\n",
    "    query=\"Registra que reiniciamos el balanceador y que tardaremos 10 minutos en validar.\",\n",
    "    runner=runner_soporte,\n",
    "    user_id=USER_ID_SOPORTE,\n",
    "    session_id=SESSION_ID_SOPORTE\n",
    ")\n"
   ]
  },
  {
   "cell_type": "code",
   "execution_count": 24,
   "id": "11b5f668",
   "metadata": {},
   "outputs": [
    {
     "name": "stdout",
     "output_type": "stream",
     "text": [
      "\n",
      "🧑‍💻 Usuario: Suma otros 10 minutos en testear la solución.\n"
     ]
    },
    {
     "name": "stderr",
     "output_type": "stream",
     "text": [
      "Warning: there are non-text parts in the response: ['thought_signature', 'function_call'], returning concatenated text result from text parts. Check the full candidates.content.parts accessor to get the full model response.\n"
     ]
    },
    {
     "name": "stdout",
     "output_type": "stream",
     "text": [
      "🛠️ Tool: avance registrado -> {'accion': 'Testear solución', 'resultado': 'Testeando la solución.', 'minutos': 10}\n",
      "🛠️ Tool: minutos acumulados -> 20\n",
      "🤖 Agente: He registrado otros 10 minutos para testear la solución.\n",
      "\n",
      "El tiempo total invertido en el ticket es ahora de 20 minutos, lo que significa que nos quedan 25 minutos antes de que el SLA venza. Te avisaré en cuanto tengamos más novedades.\n",
      "\n"
     ]
    },
    {
     "data": {
      "text/plain": [
       "'He registrado otros 10 minutos para testear la solución.\\n\\nEl tiempo total invertido en el ticket es ahora de 20 minutos, lo que significa que nos quedan 25 minutos antes de que el SLA venza. Te avisaré en cuanto tengamos más novedades.'"
      ]
     },
     "execution_count": 24,
     "metadata": {},
     "output_type": "execute_result"
    }
   ],
   "source": [
    "await call_agent_async(\n",
    "    query=\"Suma otros 10 minutos en testear la solución.\",\n",
    "    runner=runner_soporte,\n",
    "    user_id=USER_ID_SOPORTE,\n",
    "    session_id=SESSION_ID_SOPORTE\n",
    ")\n"
   ]
  },
  {
   "cell_type": "code",
   "execution_count": 25,
   "metadata": {},
   "outputs": [
    {
     "name": "stdout",
     "output_type": "stream",
     "text": [
      "\n",
      "🧑‍💻 Usuario: Acabo de confirmar que volvió el servicio, por favor cierra el ticket y resume lo que hicimos.\n"
     ]
    },
    {
     "name": "stderr",
     "output_type": "stream",
     "text": [
      "Warning: there are non-text parts in the response: ['thought_signature'], returning concatenated text result from text parts. Check the full candidates.content.parts accessor to get the full model response.\n"
     ]
    },
    {
     "name": "stdout",
     "output_type": "stream",
     "text": [
      "🤖 Agente: ¡Excelente noticia, Andrea! Me alegra saber que el servicio ha sido restaurado.\n",
      "\n",
      "Aquí tienes un resumen de las acciones que realizamos para resolver el ticket INC-324:\n",
      "\n",
      "*   **Reiniciar balanceador**: Se reinició el balanceador y se esperaron 10 minutos para validar.\n",
      "*   **Testear solución**: Se realizaron pruebas a la solución implementada.\n",
      "\n",
      "El tiempo total invertido en el ticket fue de 20 minutos, lo que significa que logramos resolverlo con 25 minutos de antelación al vencimiento del SLA.\n",
      "\n",
      "Procedo a cerrar el ticket. Si tienes alguna otra consulta, no dudes en contactarnos.\n",
      "\n"
     ]
    },
    {
     "data": {
      "text/plain": [
       "'¡Excelente noticia, Andrea! Me alegra saber que el servicio ha sido restaurado.\\n\\nAquí tienes un resumen de las acciones que realizamos para resolver el ticket INC-324:\\n\\n*   **Reiniciar balanceador**: Se reinició el balanceador y se esperaron 10 minutos para validar.\\n*   **Testear solución**: Se realizaron pruebas a la solución implementada.\\n\\nEl tiempo total invertido en el ticket fue de 20 minutos, lo que significa que logramos resolverlo con 25 minutos de antelación al vencimiento del SLA.\\n\\nProcedo a cerrar el ticket. Si tienes alguna otra consulta, no dudes en contactarnos.'"
      ]
     },
     "execution_count": 25,
     "metadata": {},
     "output_type": "execute_result"
    }
   ],
   "source": [
    "await call_agent_async(\n",
    "    query=\"Acabo de confirmar que volvió el servicio, por favor cierra el ticket y resume lo que hicimos.\",\n",
    "    runner=runner_soporte,\n",
    "    user_id=USER_ID_SOPORTE,\n",
    "    session_id=SESSION_ID_SOPORTE\n",
    ")\n"
   ]
  },
  {
   "cell_type": "code",
   "execution_count": 26,
   "metadata": {},
   "outputs": [
    {
     "name": "stdout",
     "output_type": "stream",
     "text": [
      "🧾 Estado consolidado del ticket: {'ticket_id': 'INC-324', 'sla_minutos': 45, 'user:nombre': 'Andrea', 'historial_avances': [{'accion': 'Reiniciar balanceador', 'resultado': 'Se reinició el balanceador. Pendiente validar en 10 minutos.', 'minutos': 10}, {'accion': 'Testear solución', 'resultado': 'Testeando la solución.', 'minutos': 10}], 'tiempo_total': 20}\n"
     ]
    }
   ],
   "source": [
    "session_soporte_actual = await session_service_support.get_session(\n",
    "    app_name=APP_NAME_SOPORTE,\n",
    "    user_id=USER_ID_SOPORTE,\n",
    "    session_id=SESSION_ID_SOPORTE\n",
    ")\n",
    "print(\"🧾 Estado consolidado del ticket:\", session_soporte_actual.state)\n"
   ]
  },
  {
   "cell_type": "markdown",
   "metadata": {},
   "source": [
    "### 🧰 Extra: Actualiza múltiples prefijos con `EventActions`\n",
    "\n",
    "Modificar el estado directo desde el `Session` puede omitir eventos. Con `EventActions.state_delta` controlamos una actualización atómica que mezcla claves de sesión, `user:` y `app:` mientras descartamos las de `temp:` al final de la invocación."
   ]
  },
  {
   "cell_type": "code",
   "execution_count": 33,
   "metadata": {},
   "outputs": [],
   "source": [
    "import time\n",
    "import uuid\n",
    "\n",
    "APP_NAME_DELTA = \"adk_state_delta\"\n",
    "USER_ID_DELTA = \"usuario_state_delta\"\n",
    "SESSION_ID_DELTA = f\"sesion_delta_{uuid.uuid4().hex[:4]}\"\n",
    "\n",
    "session_service_delta = InMemorySessionService()\n",
    "\n",
    "session_delta = await session_service_delta.create_session(\n",
    "    app_name=APP_NAME_DELTA,\n",
    "    user_id=USER_ID_DELTA,\n",
    "    session_id=SESSION_ID_DELTA,\n",
    "    state={\n",
    "        \"task_status\": \"recopilando\",\n",
    "        \"user:login_count\": 2\n",
    "    }\n",
    ")\n",
    "\n",
    "acciones_delta = EventActions(\n",
    "    state_delta={\n",
    "        \"task_status\": \"validado\",\n",
    "        \"user:login_count\": session_delta.state.get(\"user:login_count\", 0) + 1,\n",
    "        \"user:last_login_ts\": time.time(),\n",
    "        \"app:version_activa\": \"1.0.2\",\n",
    "        \"temp:mensaje_debug\": \"Validación completada correctamente\"\n",
    "    }\n",
    ")\n",
    "\n",
    "evento_delta = Event(\n",
    "    invocation_id=\"control_manual\",\n",
    "    author=\"system\",\n",
    "    actions=acciones_delta,\n",
    "    timestamp=time.time(),\n",
    "    content=types.Content(role=\"system\", parts=[types.Part(text=\"Actualización manual de estado\")])\n",
    ")\n",
    "\n"
   ]
  },
  {
   "cell_type": "code",
   "execution_count": 34,
   "id": "1edc184f",
   "metadata": {},
   "outputs": [
    {
     "name": "stdout",
     "output_type": "stream",
     "text": [
      "Estado consolidado: {'task_status': 'recopilando', 'user:login_count': 2}\n"
     ]
    }
   ],
   "source": [
    "session_actualizada = await session_service_delta.get_session(\n",
    "    app_name=APP_NAME_DELTA,\n",
    "    user_id=USER_ID_DELTA,\n",
    "    session_id=SESSION_ID_DELTA\n",
    ")\n",
    "print(\"Estado consolidado:\", session_actualizada.state)"
   ]
  },
  {
   "cell_type": "code",
   "execution_count": 35,
   "id": "0d88ad75",
   "metadata": {},
   "outputs": [
    {
     "name": "stdout",
     "output_type": "stream",
     "text": [
      "Estado consolidado: {'task_status': 'validado', 'user:login_count': 3, 'user:last_login_ts': 1758383194.6267278, 'app:version_activa': '1.0.2'}\n",
      "¿Existe temp:mensaje_debug?: False\n"
     ]
    }
   ],
   "source": [
    "\n",
    "await session_service_delta.append_event(session_delta, evento_delta)\n",
    "\n",
    "session_actualizada = await session_service_delta.get_session(\n",
    "    app_name=APP_NAME_DELTA,\n",
    "    user_id=USER_ID_DELTA,\n",
    "    session_id=SESSION_ID_DELTA\n",
    ")\n",
    "print(\"Estado consolidado:\", session_actualizada.state)\n",
    "print(\"¿Existe temp:mensaje_debug?:\", \"temp:mensaje_debug\" in session_actualizada.state)"
   ]
  },
  {
   "cell_type": "markdown",
   "metadata": {},
   "source": [
    "## 📙 Capítulo 3: Memoria a largo plazo con `MemoryService`\n",
    "\n",
    "El estado se reinicia con cada sesión, pero la memoria larga permite que el agente aprenda de conversaciones pasadas. Aquí usamos `InMemoryMemoryService` (ideal para prototipos) para almacenar hechos relevantes y recuperarlos en una sesión posterior.\n"
   ]
  },
  {
   "cell_type": "markdown",
   "metadata": {},
   "source": [
    "### 🆚 InMemory vs Vertex AI Memory Bank\n",
    "\n",
    "- **InMemoryMemoryService**: sin configuración adicional, pensado para desarrollo local y pruebas rápidas.\n",
    "- **VertexAiMemoryBankService**: persistencia administrada por Vertex AI, extracción semántica automática y búsqueda avanzada.\n",
    "- Selecciona el backend al iniciar tu aplicación (`adk web`, `adk run`) pasando el servicio apropiado al `Runner`.\n"
   ]
  },
  {
   "cell_type": "code",
   "execution_count": 36,
   "metadata": {},
   "outputs": [
    {
     "data": {
      "text/plain": [
       "Session(id='captura_01', app_name='memoria_clase7', user_id='memoria_usuario', state={}, events=[], last_update_time=1758383273.2661338)"
      ]
     },
     "execution_count": 36,
     "metadata": {},
     "output_type": "execute_result"
    }
   ],
   "source": [
    "app_name = \"memoria_clase7\"\n",
    "user_id = \"memoria_usuario\"\n",
    "session_service = InMemorySessionService()\n",
    "memory_service = InMemoryMemoryService()\n",
    "\n",
    "capturador = LlmAgent(\n",
    "    name=\"CapturadorContexto\",\n",
    "    model=MODEL,\n",
    "    instruction=\"Agradece al usuario y sintetiza cualquier dato personal o de proyecto que mencione.\"\n",
    ")\n",
    "consultor = LlmAgent(\n",
    "    name=\"ConsultorMemoria\",\n",
    "    model=MODEL,\n",
    "    instruction=\"\"\"Responde preguntas del usuario. \n",
    "Si necesitas recordar detalles pasados, utiliza la herramienta `load_memory` con palabras clave breves y combina los resultados con nueva información.\"\"\",\n",
    "        tools=[load_memory]\n",
    "    )\n",
    "\n",
    "runner_captura = Runner(\n",
    "    agent=capturador,\n",
    "    app_name=app_name,\n",
    "    session_service=session_service,\n",
    "    memory_service=memory_service\n",
    ")\n",
    "\n",
    "session_captura = \"captura_01\"\n",
    "await session_service.create_session(app_name=app_name, user_id=user_id, session_id=session_captura)"
   ]
  },
  {
   "cell_type": "code",
   "execution_count": 37,
   "id": "eff178b2",
   "metadata": {},
   "outputs": [
    {
     "name": "stdout",
     "output_type": "stream",
     "text": [
      "\n",
      "🧑‍💻 Usuario: Mi proyecto favorito se llama Atlas y lideré el frente de datos el año pasado.\n",
      "🤖 Agente: Gracias por compartir. Hemos registrado que tu proyecto favorito es **Atlas** y que lideraste el frente de datos el año pasado.\n",
      "\n"
     ]
    },
    {
     "data": {
      "text/plain": [
       "'Gracias por compartir. Hemos registrado que tu proyecto favorito es **Atlas** y que lideraste el frente de datos el año pasado.'"
      ]
     },
     "execution_count": 37,
     "metadata": {},
     "output_type": "execute_result"
    }
   ],
   "source": [
    "\n",
    "await call_agent_async(\n",
    "    query=\"Mi proyecto favorito se llama Atlas y lideré el frente de datos el año pasado.\",\n",
    "    runner=runner_captura,\n",
    "    user_id=user_id,\n",
    "    session_id=session_captura\n",
    ")"
   ]
  },
  {
   "cell_type": "code",
   "execution_count": 38,
   "id": "24107627",
   "metadata": {},
   "outputs": [
    {
     "name": "stdout",
     "output_type": "stream",
     "text": [
      "\n",
      "🧑‍💻 Usuario: Mi perro en se llama Rocky y le encanta nadar y encontrar rocas.\n",
      "🤖 Agente: Gracias por compartir. Hemos registrado que tu perro se llama **Rocky** y que le encanta nadar y encontrar rocas.\n",
      "\n"
     ]
    },
    {
     "data": {
      "text/plain": [
       "'Gracias por compartir. Hemos registrado que tu perro se llama **Rocky** y que le encanta nadar y encontrar rocas.'"
      ]
     },
     "execution_count": 38,
     "metadata": {},
     "output_type": "execute_result"
    }
   ],
   "source": [
    "await call_agent_async(\n",
    "    query=\"Mi perro en se llama Rocky y le encanta nadar y encontrar rocas.\",\n",
    "    runner=runner_captura,\n",
    "    user_id=user_id,\n",
    "    session_id=session_captura\n",
    ")\n"
   ]
  },
  {
   "cell_type": "code",
   "execution_count": 39,
   "id": "8fdc1be7",
   "metadata": {},
   "outputs": [
    {
     "name": "stdout",
     "output_type": "stream",
     "text": [
      "📦 Sesión almacenada en la memoria de largo plazo.\n",
      "\n"
     ]
    }
   ],
   "source": [
    "completed_session = await session_service.get_session(app_name=app_name, user_id=user_id, session_id=session_captura)\n",
    "await memory_service.add_session_to_memory(completed_session)\n",
    "print(\"📦 Sesión almacenada en la memoria de largo plazo.\\n\")"
   ]
  },
  {
   "cell_type": "code",
   "execution_count": 40,
   "id": "8385464c",
   "metadata": {},
   "outputs": [
    {
     "data": {
      "text/plain": [
       "Session(id='consulta_01', app_name='memoria_clase7', user_id='memoria_usuario', state={}, events=[], last_update_time=1758383310.4500537)"
      ]
     },
     "execution_count": 40,
     "metadata": {},
     "output_type": "execute_result"
    }
   ],
   "source": [
    "runner_consulta = Runner(\n",
    "    agent=consultor,\n",
    "    app_name=app_name,\n",
    "    session_service=session_service,\n",
    "    memory_service=memory_service\n",
    ")\n",
    "session_consulta = \"consulta_01\"\n",
    "await session_service.create_session(app_name=app_name, user_id=user_id, session_id=session_consulta)"
   ]
  },
  {
   "cell_type": "code",
   "execution_count": 41,
   "id": "87e4e538",
   "metadata": {},
   "outputs": [
    {
     "name": "stdout",
     "output_type": "stream",
     "text": [
      "\n",
      "🧑‍💻 Usuario: ¿Recuerdas cuál es mi proyecto favorito y qué rol tuve?\n"
     ]
    },
    {
     "name": "stderr",
     "output_type": "stream",
     "text": [
      "Warning: there are non-text parts in the response: ['thought_signature', 'function_call'], returning concatenated text result from text parts. Check the full candidates.content.parts accessor to get the full model response.\n",
      "Warning: there are non-text parts in the response: ['thought_signature'], returning concatenated text result from text parts. Check the full candidates.content.parts accessor to get the full model response.\n"
     ]
    },
    {
     "name": "stdout",
     "output_type": "stream",
     "text": [
      "🤖 Agente: Tu proyecto favorito es Atlas y lideraste el frente de datos el año pasado.\n",
      "\n"
     ]
    },
    {
     "data": {
      "text/plain": [
       "'Tu proyecto favorito es Atlas y lideraste el frente de datos el año pasado.'"
      ]
     },
     "execution_count": 41,
     "metadata": {},
     "output_type": "execute_result"
    }
   ],
   "source": [
    "await call_agent_async(\n",
    "    query=\"¿Recuerdas cuál es mi proyecto favorito y qué rol tuve?\",\n",
    "    runner=runner_consulta,\n",
    "    user_id=user_id,\n",
    "    session_id=session_consulta\n",
    ")"
   ]
  },
  {
   "cell_type": "code",
   "execution_count": 42,
   "id": "2b7bc297",
   "metadata": {},
   "outputs": [
    {
     "name": "stdout",
     "output_type": "stream",
     "text": [
      "\n",
      "🧑‍💻 Usuario: ¿Como se llama mi perro?\n"
     ]
    },
    {
     "name": "stderr",
     "output_type": "stream",
     "text": [
      "Warning: there are non-text parts in the response: ['thought_signature', 'function_call'], returning concatenated text result from text parts. Check the full candidates.content.parts accessor to get the full model response.\n"
     ]
    },
    {
     "name": "stdout",
     "output_type": "stream",
     "text": [
      "🤖 Agente: Tu perro se llama Rocky y le encanta nadar y encontrar rocas.\n",
      "\n"
     ]
    },
    {
     "data": {
      "text/plain": [
       "'Tu perro se llama Rocky y le encanta nadar y encontrar rocas.'"
      ]
     },
     "execution_count": 42,
     "metadata": {},
     "output_type": "execute_result"
    }
   ],
   "source": [
    "await call_agent_async(\n",
    "    query=\"¿Como se llama mi perro?\",\n",
    "    runner=runner_consulta,\n",
    "    user_id=user_id,\n",
    "    session_id=session_consulta\n",
    ")"
   ]
  },
  {
   "cell_type": "code",
   "execution_count": 43,
   "id": "6ef20c6f",
   "metadata": {},
   "outputs": [
    {
     "name": "stdout",
     "output_type": "stream",
     "text": [
      "🗂️ Resultados crudos de `search_memory`: memories=[MemoryEntry(content=Content(\n",
      "  parts=[\n",
      "    Part(\n",
      "      text='Mi proyecto favorito se llama Atlas y lideré el frente de datos el año pasado.'\n",
      "    ),\n",
      "  ],\n",
      "  role='user'\n",
      "), author='user', timestamp='2025-09-20T10:47:55.451440'), MemoryEntry(content=Content(\n",
      "  parts=[\n",
      "    Part(\n",
      "      text='Gracias por compartir. Hemos registrado que tu proyecto favorito es **Atlas** y que lideraste el frente de datos el año pasado.'\n",
      "    ),\n",
      "  ],\n",
      "  role='model'\n",
      "), author='CapturadorContexto', timestamp='2025-09-20T10:47:55.451736')]\n"
     ]
    }
   ],
   "source": [
    "resultados = await memory_service.search_memory(app_name=app_name, user_id=user_id, query=\"proyecto favorito \")\n",
    "print(\"🗂️ Resultados crudos de `search_memory`:\", resultados)"
   ]
  },
  {
   "cell_type": "code",
   "execution_count": 46,
   "id": "387b2ab4",
   "metadata": {},
   "outputs": [
    {
     "name": "stdout",
     "output_type": "stream",
     "text": [
      "🗂️ Resultados crudos de `search_memory`: memories=[MemoryEntry(content=Content(\n",
      "  parts=[\n",
      "    Part(\n",
      "      text='Mi perro en se llama Rocky y le encanta nadar y encontrar rocas.'\n",
      "    ),\n",
      "  ],\n",
      "  role='user'\n",
      "), author='user', timestamp='2025-09-20T10:48:00.982787'), MemoryEntry(content=Content(\n",
      "  parts=[\n",
      "    Part(\n",
      "      text='Gracias por compartir. Hemos registrado que tu perro se llama **Rocky** y que le encanta nadar y encontrar rocas.'\n",
      "    ),\n",
      "  ],\n",
      "  role='model'\n",
      "), author='CapturadorContexto', timestamp='2025-09-20T10:48:00.983140')]\n"
     ]
    }
   ],
   "source": [
    "resultados = await memory_service.search_memory(app_name=app_name, user_id=user_id, query=\"Quien juega con rocas?\")\n",
    "print(\"🗂️ Resultados crudos de `search_memory`:\", resultados)"
   ]
  },
  {
   "cell_type": "markdown",
   "metadata": {},
   "source": [
    "### 📌 Lo importante\n",
    "\n",
    "- `Runner` comparte `session_service` y `memory_service`, por lo que la segunda sesión puede consultar memorias generadas en la primera.\n",
    "- `memory_service.add_session_to_memory` se ejecuta cuando decides que la conversación contiene información valiosa.\n",
    "- `load_memory` usa `search_memory` internamente para obtener fragmentos relevantes y pasarlos al LLM.\n"
   ]
  },
  {
   "cell_type": "markdown",
   "metadata": {},
   "source": [
    "### 🧠 Extra: Memorias segmentadas por usuario\n",
    "\n",
    "`memory.md` enfatiza que los recuerdos se aíslan por `user_id`. Este ejemplo crea memorias para dos personas distintas y muestra cómo las búsquedas solo devuelven los datos correspondientes."
   ]
  },
  {
   "cell_type": "code",
   "execution_count": 62,
   "metadata": {},
   "outputs": [
    {
     "name": "stdout",
     "output_type": "stream",
     "text": [
      "▶️ Capturando ana_contexto en la sesión ana_contexto_b3fa\n",
      "\n",
      "🧑‍💻 Usuario: Hola, soy Ana y construyo la app Aurora para salud mental. Lidero diseño.\n",
      "🤖 Agente: Gracias por el mensaje, Ana. He registrado tus datos clave:\n",
      "\n",
      "*   **Nombre:** Ana\n",
      "*   **Proyecto:** App Aurora (salud mental)\n",
      "*   **Rol:** Líder de diseño\n",
      "\n",
      "Información guardada.\n",
      "\n",
      "▶️ Capturando juan_contexto en la sesión juan_contexto_d3b3\n",
      "\n",
      "🧑‍💻 Usuario: Soy Juan, trabajo en el proyecto Boreal y estoy en el frente de datos.\n",
      "🤖 Agente: ¡Gracias por el mensaje!\n",
      "\n",
      "He capturado los siguientes datos clave:\n",
      "*   **Nombre:** Juan\n",
      "*   **Proyecto:** Boreal\n",
      "*   **Rol:** Frente de datos\n",
      "\n",
      "Información guardada.\n",
      "\n",
      "▶️ Capturando ana_pasiones en la sesión ana_pasiones_c7c1\n",
      "\n",
      "🧑‍💻 Usuario: Disfruto organizar meetups de diseñadores en Bogotá.\n",
      "🤖 Agente: ¡Gracias por el mensaje!\n",
      "\n",
      "He capturado los siguientes datos:\n",
      "*   **Nombre:** [No especificado]\n",
      "*   **Proyecto/Interés:** Meetups de diseñadores en Bogotá\n",
      "*   **Rol:** Organizador/a\n",
      "\n",
      "🧾 Recuerdos disponibles para Ana:\n",
      "Hola, soy Ana y construyo la app Aurora para salud mental. Lidero diseño.\n",
      "Gracias por el mensaje, Ana. He registrado tus datos clave:\n",
      "\n",
      "*   **Nombre:** Ana\n",
      "*   **Proyecto:** App Aurora (salud mental)\n",
      "*   **Rol:** Líder de diseño\n",
      "\n",
      "Información guardada.\n",
      "Disfruto organizar meetups de diseñadores en Bogotá.\n",
      "¡Gracias por el mensaje!\n",
      "\n",
      "He capturado los siguientes datos:\n",
      "*   **Nombre:** [No especificado]\n",
      "*   **Proyecto/Interés:** Meetups de diseñadores en Bogotá\n",
      "*   **Rol:** Organizador/a\n",
      "\n",
      "🧾 Recuerdos disponibles para Juan:\n",
      "Soy Juan, trabajo en el proyecto Boreal y estoy en el frente de datos.\n",
      "¡Gracias por el mensaje!\n",
      "\n",
      "He capturado los siguientes datos clave:\n",
      "*   **Nombre:** Juan\n",
      "*   **Proyecto:** Boreal\n",
      "*   **Rol:** Frente de datos\n",
      "\n",
      "Información guardada.\n"
     ]
    }
   ],
   "source": [
    "import uuid\n",
    "\n",
    "APP_NAME_MEMORIA_MULTI = \"memoria_multi_usuario\"\n",
    "session_service_multi = InMemorySessionService()\n",
    "memory_service_multi = InMemoryMemoryService()\n",
    "\n",
    "capturador_perfiles = LlmAgent(\n",
    "    name=\"CapturadorPerfiles\",\n",
    "    model=MODEL,\n",
    "    instruction=\"\"\"Agradece el mensaje, resume los datos clave (nombre, proyecto, rol) y guarda la respuesta.\"\"\"\n",
    ")\n",
    "\n",
    "runner_perfiles = Runner(\n",
    "    agent=capturador_perfiles,\n",
    "    app_name=APP_NAME_MEMORIA_MULTI,\n",
    "    session_service=session_service_multi,\n",
    "    memory_service=memory_service_multi\n",
    ")\n",
    "\n",
    "async def registrar_perfil(user_id, etiqueta, mensaje):\n",
    "    session_id = f\"{etiqueta}_{uuid.uuid4().hex[:4]}\"\n",
    "    await session_service_multi.create_session(\n",
    "        app_name=APP_NAME_MEMORIA_MULTI,\n",
    "        user_id=user_id,\n",
    "        session_id=session_id\n",
    "    )\n",
    "    print(f\"▶️ Capturando {etiqueta} en la sesión {session_id}\")\n",
    "    await call_agent_async(\n",
    "        query=mensaje,\n",
    "        runner=runner_perfiles,\n",
    "        user_id=user_id,\n",
    "        session_id=session_id\n",
    "    )\n",
    "    session_completada = await session_service_multi.get_session(\n",
    "        app_name=APP_NAME_MEMORIA_MULTI,\n",
    "        user_id=user_id,\n",
    "        session_id=session_id\n",
    "    )\n",
    "    await memory_service_multi.add_session_to_memory(session_completada)\n",
    "\n",
    "await registrar_perfil(\n",
    "    user_id=\"usuario_ana\",\n",
    "    etiqueta=\"ana_contexto\",\n",
    "    mensaje=\"Hola, soy Ana y construyo la app Aurora para salud mental. Lidero diseño.\"\n",
    ")\n",
    "\n",
    "await registrar_perfil(\n",
    "    user_id=\"usuario_juan\",\n",
    "    etiqueta=\"juan_contexto\",\n",
    "    mensaje=\"Soy Juan, trabajo en el proyecto Boreal y estoy en el frente de datos.\"\n",
    ")\n",
    "\n",
    "await registrar_perfil(\n",
    "    user_id=\"usuario_ana\",\n",
    "    etiqueta=\"ana_pasiones\",\n",
    "    mensaje=\"Disfruto organizar meetups de diseñadores en Bogotá.\"\n",
    ")\n",
    "\n",
    "resultados_ana = await memory_service_multi.search_memory(\n",
    "    app_name=APP_NAME_MEMORIA_MULTI,\n",
    "    user_id=\"usuario_ana\",\n",
    "    query=\"Aurora o meetups\"\n",
    ")\n",
    "print(\"🧾 Recuerdos disponibles para Ana:\")\n",
    "for item in resultados_ana.memories:\n",
    "    print(item.content.parts[0].text)\n",
    "\n",
    "resultados_juan = await memory_service_multi.search_memory(\n",
    "    app_name=APP_NAME_MEMORIA_MULTI,\n",
    "    user_id=\"usuario_juan\",\n",
    "    query=\"Boreal\"\n",
    ")\n",
    "print(\"\\n🧾 Recuerdos disponibles para Juan:\")\n",
    "for item in resultados_juan.memories:\n",
    "    print(item.content.parts[0].text)\n"
   ]
  },
  {
   "cell_type": "markdown",
   "metadata": {},
   "source": [
    "### ☁️ Usa Vertex AI Memory Bank en producción\n",
    "\n",
    "1. Habilita Vertex AI en tu proyecto de Google Cloud y crea un Agent Engine con soporte de Memory Bank.\n",
    "2. Autentícate localmente con `gcloud auth application-default login`.\n",
    "3. Instancia `VertexAiMemoryBankService(project=\"TU_PROYECTO\", location=\"us-central1\", agent_engine_id=\"ID_DEL_ENGINE\")` y pásala al `Runner`.\n",
    "4. Mantén la misma lógica de agentes; solo cambia el backend para obtener persistencia, extracción semántica y escalabilidad.\n"
   ]
  },
  {
   "cell_type": "code",
   "execution_count": null,
   "id": "212b1282",
   "metadata": {},
   "outputs": [],
   "source": [
    "VERTEX_PROJECT_ID = os.getenv(\"VERTEX_PROJECT_ID\")\n",
    "VERTEX_LOCATION = os.getenv(\"VERTEX_LOCATION\", \"us-central1\")\n",
    "VERTEX_AGENT_ENGINE_ID = os.getenv(\"VERTEX_AGENT_ENGINE_ID\")\n",
    "\n",
    "if VERTEX_PROJECT_ID and VERTEX_AGENT_ENGINE_ID:\n",
    "    vertex_memory_service = VertexAiMemoryBankService(\n",
    "        project=VERTEX_PROJECT_ID,\n",
    "        location=VERTEX_LOCATION,\n",
    "        agent_engine_id=VERTEX_AGENT_ENGINE_ID\n",
    "    )\n",
    "    print(f\"✅ Vertex AI Memory Bank listo: {VERTEX_AGENT_ENGINE_ID} ({VERTEX_LOCATION}).\")\n",
    "else:\n",
    "    vertex_memory_service = None\n",
    "    print(\"⚠️ Define VERTEX_PROJECT_ID y VERTEX_AGENT_ENGINE_ID para habilitar Vertex AI Memory Bank.\")\n"
   ]
  },
  {
   "cell_type": "markdown",
   "metadata": {},
   "source": [
    "## 🧪 Mejores prácticas\n",
    "\n",
    "- Mantén el estado pequeño y serializable; evita objetos complejos no soportados.\n",
    "- Prefiere `output_key`, herramientas y callbacks para actualizar el estado en lugar de modificar `session.state` directamente.\n",
    "- Documenta qué claves usas y en qué prefijo, de modo que tu equipo pueda extenderlas sin colisiones.\n",
    "- Envía a memoria solo aquello que será útil en futuras conversaciones; más datos no siempre implican mejores respuestas.\n"
   ]
  },
  {
   "cell_type": "markdown",
   "metadata": {},
   "source": [
    "## 📝 Ejercicios sugeridos\n",
    "\n",
    "1. Implementa un resumen automático por turno que guarde `state[\"resumen_turno\"]` y úsalo en la siguiente respuesta.\n",
    "2. Añade un callback que bloquee palabras sensibles antes de almacenarlas en memoria.\n",
    "3. Cambia el ejemplo de memoria para guardar preferencias de playlists musicales y diseña un agente que recomiende canciones.\n"
   ]
  },
  {
   "cell_type": "code",
   "execution_count": null,
   "metadata": {},
   "outputs": [],
   "source": [
    "# Zona de experimentación 👩‍🔬👨‍🔬\n",
    "print(\"Personaliza aquí tus pruebas con session.state y MemoryService.\")\n"
   ]
  },
  {
   "cell_type": "markdown",
   "metadata": {},
   "source": [
    "## 🎯 Cierre\n",
    "\n",
    "¡Excelente trabajo! Ahora conoces los bloques que convierten a tus agentes en asistentes verdaderamente contextuales. Sigue explorando combinaciones de estado, callbacks y memoria para llevar tus casos de uso a producción.\n"
   ]
  }
 ],
 "metadata": {
  "kernelspec": {
   "display_name": "env_3_10",
   "language": "python",
   "name": "python3"
  },
  "language_info": {
   "codemirror_mode": {
    "name": "ipython",
    "version": 3
   },
   "file_extension": ".py",
   "mimetype": "text/x-python",
   "name": "python",
   "nbconvert_exporter": "python",
   "pygments_lexer": "ipython3",
   "version": "3.10.18"
  }
 },
 "nbformat": 4,
 "nbformat_minor": 5
}
