{
  "cells": [
    {
      "cell_type": "markdown",
      "metadata": {
        "id": "intro-section"
      },
      "source": [
        "# 🧠 Tutorial 2: Google ADK - ¡Controla tus LLMs!\n",
        "\n",
        "## LiteLLM, Parámetros y Output Estructurado\n",
        "\n",
        "[![Open In Colab](https://colab.research.google.com/assets/colab-badge.svg)](https://colab.research.google.com/github/)\n",
        "\n",
        "### 📋 ¿Qué aprenderás en este tutorial?\n",
        "\n",
        "1. **🔄 Flexibilidad de Modelos con LiteLLM**\n",
        "   - Usar Claude, GPT, Llama y otros modelos en ADK\n",
        "   - Configuración de múltiples proveedores\n",
        "\n",
        "2. **⚙️ Ajustar el Comportamiento del LLM**\n",
        "   - Parámetros clave: temperature, top_p, max_tokens\n",
        "   - Casos de uso para diferentes configuraciones\n",
        "\n",
        "3. **📊 Output Estructurado con Pydantic**\n",
        "   - Definir esquemas de datos\n",
        "   - Obtener respuestas JSON predecibles\n",
        "\n",
        "4. **🚀 Ejemplos Prácticos y Avanzados**\n",
        "   - Comparación entre modelos\n",
        "   - Extracción de información compleja\n",
        "\n",
        "---\n",
        "\n",
        "### 🎯 Objetivo del Tutorial\n",
        "\n",
        "Después de completar este tutorial, serás capaz de:\n",
        "- Integrar cualquier LLM en tus agentes ADK\n",
        "- Ajustar finamente el comportamiento de los modelos\n",
        "- Obtener respuestas estructuradas y validadas\n",
        "\n",
        "**Requisitos previos:**\n",
        "- Haber completado el Tutorial 1 de ADK\n",
        "- API Keys de los modelos que quieras usar"
      ]
    },
    {
      "cell_type": "markdown",
      "metadata": {
        "id": "setup-section"
      },
      "source": [
        "## 🔧 Configuración Inicial\n",
        "\n",
        "### Instalación de Dependencias"
      ]
    },
    {
      "cell_type": "code",
      "execution_count": null,
      "metadata": {
        "id": "install-dependencies"
      },
      "outputs": [],
      "source": [
        "# Instalar Google ADK con soporte para LiteLLM\n",
        "print(\"📦 Instalando Google ADK con LiteLLM...\")\n",
        "!pip install -q google-adk==1.4.2\n",
        "!pip install -q litellm==1.73.0\n",
        "!pip install -qU python-dotenv pydantic\n",
        "\n",
        "print(\"\\n✅ Instalación completada!\")\n",
        "\n",
        "# Verificar versiones\n",
        "import sys\n",
        "print(f\"\\n🐍 Python: {sys.version.split()[0]}\")\n",
        "!pip show google-adk litellm pydantic | grep -E \"Name:|Version:\""
      ]
    },
    {
      "cell_type": "markdown",
      "metadata": {
        "id": "api-keys-section"
      },
      "source": [
        "### Configuración de API Keys\n",
        "\n",
        "Para este tutorial, necesitarás al menos una API Key. Puedes obtenerlas de:\n",
        "- **Google AI Studio**: [https://aistudio.google.com/apikey](https://aistudio.google.com/apikey)\n",
        "- **Anthropic (Claude)**: [https://console.anthropic.com/](https://console.anthropic.com/)\n",
        "- **OpenAI**: [https://platform.openai.com/](https://platform.openai.com/)"
      ]
    },
    {
      "cell_type": "markdown",
      "metadata": {},
      "source": [
        "#### Opcion 1: Ingresalas directamente"
      ]
    },
    {
      "cell_type": "code",
      "execution_count": 1,
      "metadata": {
        "id": "configure-api-keys"
      },
      "outputs": [
        {
          "name": "stdout",
          "output_type": "stream",
          "text": [
            "🔑 Configuración de API Keys\n",
            "\n",
            "Ingresa las API Keys que tengas disponibles (presiona Enter para omitir):\n",
            "\n",
            "\n",
            "📋 Estado de las API Keys:\n",
            "   Google: ✅\n",
            "   Anthropic: ✅\n",
            "   OpenAI: ✅\n"
          ]
        }
      ],
      "source": [
        "import os\n",
        "from getpass import getpass\n",
        "\n",
        "print(\"🔑 Configuración de API Keys\\n\")\n",
        "print(\"Ingresa las API Keys que tengas disponibles (presiona Enter para omitir):\\n\")\n",
        "\n",
        "# Google API Key (requerida para ejemplos base)\n",
        "if 'GOOGLE_API_KEY' not in os.environ:\n",
        "    google_key = getpass(\"Google API Key (requerida): \")\n",
        "    if google_key:\n",
        "        os.environ['GOOGLE_API_KEY'] = google_key\n",
        "        os.environ['GOOGLE_GENAI_USE_VERTEXAI'] = 'FALSE'\n",
        "\n",
        "# Anthropic API Key (opcional)\n",
        "if 'ANTHROPIC_API_KEY' not in os.environ:\n",
        "    anthropic_key = getpass(\"Anthropic API Key (opcional): \")\n",
        "    if anthropic_key:\n",
        "        os.environ['ANTHROPIC_API_KEY'] = anthropic_key\n",
        "\n",
        "# OpenAI API Key (opcional)\n",
        "if 'OPENAI_API_KEY' not in os.environ:\n",
        "    openai_key = getpass(\"OpenAI API Key (opcional): \")\n",
        "    if openai_key:\n",
        "        os.environ['OPENAI_API_KEY'] = openai_key\n",
        "\n",
        "# Verificar configuración\n",
        "print(\"\\n📋 Estado de las API Keys:\")\n",
        "print(f\"   Google: {'✅' if os.environ.get('GOOGLE_API_KEY') else '❌'}\")\n",
        "print(f\"   Anthropic: {'✅' if os.environ.get('ANTHROPIC_API_KEY') else '❌'}\")\n",
        "print(f\"   OpenAI: {'✅' if os.environ.get('OPENAI_API_KEY') else '❌'}\")"
      ]
    },
    {
      "cell_type": "markdown",
      "metadata": {},
      "source": [
        "#### Opcion 2: Usar dotenv"
      ]
    },
    {
      "cell_type": "code",
      "execution_count": 1,
      "metadata": {},
      "outputs": [
        {
          "data": {
            "text/plain": [
              "True"
            ]
          },
          "execution_count": 1,
          "metadata": {},
          "output_type": "execute_result"
        }
      ],
      "source": [
        "from dotenv import load_dotenv\n",
        "# Cargar variables de entorno desde .env si existe\n",
        "load_dotenv(override=True)"
      ]
    },
    {
      "cell_type": "markdown",
      "metadata": {
        "id": "litellm-intro"
      },
      "source": [
        "## 🔄 Parte 1: Flexibilidad de Modelos con LiteLLM\n",
        "\n",
        "### ¿Qué es LiteLLM?\n",
        "\n",
        "LiteLLM es una biblioteca que proporciona una interfaz unificada para más de 100 modelos de lenguaje diferentes. Actúa como un \"traductor universal\" entre ADK y los diversos proveedores de LLMs.\n",
        "\n",
        "### Ventajas de usar LiteLLM:\n",
        "\n",
        "- 🧪 **Experimentación fácil**: Prueba diferentes modelos sin cambiar tu código\n",
        "- 💰 **Optimización de costos**: Elige el modelo más económico para cada tarea\n",
        "- 🔓 **Sin vendor lock-in**: Libertad para cambiar de proveedor\n",
        "- 🎯 **Modelos especializados**: Usa el mejor modelo para cada caso"
      ]
    },
    {
      "cell_type": "markdown",
      "metadata": {
        "id": "create-agents-section"
      },
      "source": [
        "### Crear Agentes con Diferentes Modelos"
      ]
    },
    {
      "cell_type": "code",
      "execution_count": 7,
      "metadata": {},
      "outputs": [],
      "source": [
        "from google.adk.runners import Runner\n",
        "from google.adk.sessions import InMemorySessionService\n",
        "from google.adk.agents.llm_agent import LlmAgent\n",
        "from google.genai import types\n",
        "\n",
        "\n",
        "async def call_agent_async(query: str, runner, user_id, session_id):\n",
        "    \"\"\"Envía una consulta al agente e imprime la respuesta final.\"\"\"\n",
        "    print(f\"\\n>>> Consulta del usuario: {query}\")\n",
        "\n",
        "    # Prepara el mensaje del usuario en el formato de ADK\n",
        "    content = types.Content(role='user', parts=[types.Part(text=query)])\n",
        "\n",
        "    final_response_text = \"El agente no produjo una respuesta final.\" # Valor por defecto\n",
        "\n",
        "    # Concepto clave: run_async ejecuta la lógica del agente y genera eventos.\n",
        "    # Iteramos a través de los eventos para encontrar la respuesta final.\n",
        "    async for event in runner.run_async(user_id=user_id, session_id=session_id, new_message=content):\n",
        "        # Puedes descomentar la línea de abajo para ver *todos* los eventos durante la ejecución\n",
        "        # print(f\"  [Evento] Autor: {event.author}, Tipo: {type(event).__name__}, Final: {event.is_final_response()}, Contenido: {event.content}\")\n",
        "\n",
        "        # Concepto clave: is_final_response() marca el mensaje que concluye el turno.\n",
        "        if event.is_final_response():\n",
        "            if event.content and event.content.parts:\n",
        "                # Se asume que la respuesta de texto está en la primera parte\n",
        "                final_response_text = event.content.parts[0].text\n",
        "            elif event.actions and event.actions.escalate: # Maneja posibles errores/escalamientos\n",
        "                final_response_text = f\"El agente escaló: {event.error_message or 'Sin mensaje específico.'}\"\n",
        "            # Agrega más validaciones aquí si es necesario (por ejemplo, códigos de error específicos)\n",
        "            break # Deja de procesar eventos una vez encontrada la respuesta final\n",
        "\n",
        "    print(f\"<<< Respuesta del agente: {final_response_text}\")\n"
      ]
    },
    {
      "cell_type": "markdown",
      "metadata": {},
      "source": [
        "### Primero Gemimi de Google"
      ]
    },
    {
      "cell_type": "code",
      "execution_count": 8,
      "metadata": {},
      "outputs": [],
      "source": [
        "MODEL_GEMINI = \"gemini-2.5-flash\"\n",
        "\n",
        "# Example: Defining the basic Agent\n",
        "refranes_agent = LlmAgent(\n",
        "    model=MODEL_GEMINI,\n",
        "    name=\"refranes_agent\",\n",
        "    description=\"completa los refranes que el usuario empieza\"\n",
        ")"
      ]
    },
    {
      "cell_type": "code",
      "execution_count": 9,
      "metadata": {},
      "outputs": [],
      "source": [
        "session_service = InMemorySessionService()\n",
        "\n",
        "APP_NAME = \"test_gemini\"\n",
        "USER_ID = \"user_1\"\n",
        "SESSION_ID = \"session_001\" # Using a fixed ID for simplicity\n",
        "\n",
        "# Create the specific session where the conversation will happen\n",
        "session = await session_service.create_session(app_name=APP_NAME,user_id=USER_ID,session_id=SESSION_ID)\n",
        "# Runner: This is the main component that manages the interaction with the agent.\n",
        "runner_gemini = Runner(agent=refranes_agent,app_name=APP_NAME,session_service=session_service)\n"
      ]
    },
    {
      "cell_type": "code",
      "execution_count": 10,
      "metadata": {},
      "outputs": [
        {
          "name": "stdout",
          "output_type": "stream",
          "text": [
            "\n",
            ">>> Consulta del usuario: A caballo regalado...\n",
            "<<< Respuesta del agente: A caballo regalado no se le mira el diente.\n"
          ]
        }
      ],
      "source": [
        "await call_agent_async(\"A caballo regalado...\",\n",
        "                           runner=runner_gemini,\n",
        "                           user_id=USER_ID,\n",
        "                           session_id=SESSION_ID)"
      ]
    },
    {
      "cell_type": "markdown",
      "metadata": {},
      "source": [
        "## Vamos con OpenAI"
      ]
    },
    {
      "cell_type": "code",
      "execution_count": 11,
      "metadata": {},
      "outputs": [],
      "source": [
        "from google.adk.models.lite_llm import LiteLlm\n",
        "openai_model = LiteLlm(\"openai/gpt-4.1\")"
      ]
    },
    {
      "cell_type": "code",
      "execution_count": 12,
      "metadata": {},
      "outputs": [],
      "source": [
        "refranes_agent_openai = LlmAgent(\n",
        "    model=openai_model,\n",
        "    name=\"refranes_agent\",\n",
        "    description=\"completa los refranes que el usuario empieza\",\n",
        ")\n",
        "\n",
        "APP_NAME = \"test_openai\"\n",
        "USER_ID = \"user_2\"\n",
        "SESSION_ID = \"session_002\" # Using a fixed ID for simplicity\n",
        "\n",
        "session = await session_service.create_session(app_name=APP_NAME,user_id=USER_ID,session_id=SESSION_ID)\n",
        "runner_openai = Runner(agent=refranes_agent_openai,app_name=APP_NAME,session_service=session_service)"
      ]
    },
    {
      "cell_type": "code",
      "execution_count": 13,
      "metadata": {},
      "outputs": [
        {
          "name": "stdout",
          "output_type": "stream",
          "text": [
            "\n",
            ">>> Consulta del usuario: Camaron que se duerme...\n",
            "<<< Respuesta del agente: ...se lo lleva la corriente.\n"
          ]
        }
      ],
      "source": [
        "await call_agent_async(\"Camaron que se duerme...\",\n",
        "                           runner=runner_openai,\n",
        "                           user_id=USER_ID,\n",
        "                           session_id=SESSION_ID)"
      ]
    },
    {
      "cell_type": "markdown",
      "metadata": {},
      "source": [
        "## Probemos Anthropic"
      ]
    },
    {
      "cell_type": "code",
      "execution_count": 14,
      "metadata": {},
      "outputs": [],
      "source": [
        "anthropic_model = LiteLlm(\"anthropic/claude-3-7-sonnet-20250219\")\n",
        "refranes_agent_claude = LlmAgent(\n",
        "    model=anthropic_model,\n",
        "    name=\"refranes_agent\",\n",
        "    description=\"completa los refranes que el usuario empieza\",\n",
        ")\n",
        "\n",
        "APP_NAME = \"test_claude\"\n",
        "USER_ID = \"user_3\"\n",
        "SESSION_ID = \"session_003\" # Using a fixed ID for simplicity\n",
        "\n",
        "session = await session_service.create_session(app_name=APP_NAME,user_id=USER_ID,session_id=SESSION_ID)\n",
        "runner_openai = Runner(agent=refranes_agent_claude,app_name=APP_NAME,session_service=session_service)"
      ]
    },
    {
      "cell_type": "code",
      "execution_count": 15,
      "metadata": {},
      "outputs": [
        {
          "name": "stdout",
          "output_type": "stream",
          "text": [
            "\n",
            ">>> Consulta del usuario: Arbol que nace torcido...\n",
            "<<< Respuesta del agente: Árbol que nace torcido, nunca su tronco endereza.\n",
            "\n",
            "Este refrán sugiere que cuando algo o alguien desarrolla ciertos hábitos o características desde el principio, es muy difícil cambiarlos más adelante. Se refiere a la importancia de la educación y formación temprana en el desarrollo de una persona.\n",
            "\n",
            "¿Te gustaría que te complete algún otro refrán?\n"
          ]
        }
      ],
      "source": [
        "await call_agent_async(\"Arbol que nace torcido...\",\n",
        "                           runner=runner_openai,\n",
        "                           user_id=USER_ID,\n",
        "                           session_id=SESSION_ID)"
      ]
    },
    {
      "cell_type": "markdown",
      "metadata": {},
      "source": [
        "## Incluso con Azure - OpenAI"
      ]
    },
    {
      "cell_type": "code",
      "execution_count": 16,
      "metadata": {},
      "outputs": [],
      "source": [
        "azure_model = LiteLlm(\"azure/gpt-4o\")\n",
        "refranes_agent_azure = LlmAgent(\n",
        "    model=azure_model,\n",
        "    name=\"refranes_agent\",\n",
        "    description=\"completa los refranes que el usuario empieza\",\n",
        ")\n",
        "\n",
        "APP_NAME = \"test_azure\"\n",
        "USER_ID = \"user_4\"\n",
        "SESSION_ID = \"session_004\" # Using a fixed ID for simplicity\n",
        "\n",
        "\n",
        "session = await session_service.create_session(app_name=APP_NAME,user_id=USER_ID,session_id=SESSION_ID)\n",
        "runner_openai = Runner(agent=refranes_agent_azure,app_name=APP_NAME,session_service=session_service)"
      ]
    },
    {
      "cell_type": "code",
      "execution_count": 17,
      "metadata": {},
      "outputs": [
        {
          "name": "stdout",
          "output_type": "stream",
          "text": [
            "\n",
            ">>> Consulta del usuario: Escoba nueva...\n",
            "<<< Respuesta del agente: ¡barre bien!\n"
          ]
        }
      ],
      "source": [
        "await call_agent_async(\"Escoba nueva...\",\n",
        "                           runner=runner_openai,\n",
        "                           user_id=USER_ID,\n",
        "                           session_id=SESSION_ID)"
      ]
    },
    {
      "cell_type": "markdown",
      "metadata": {},
      "source": [
        "## Incluso modelos locales"
      ]
    },
    {
      "cell_type": "code",
      "execution_count": 18,
      "metadata": {},
      "outputs": [],
      "source": [
        "ollama_model = LiteLlm(\"ollama/gemma3:4b\")\n",
        "refranes_agent_ollama = LlmAgent(\n",
        "    model=ollama_model,\n",
        "    name=\"refranes_agent\",\n",
        "    description=\"completa los refranes que el usuario empieza\",\n",
        ")\n",
        "\n",
        "APP_NAME = \"test_ollama\"\n",
        "USER_ID = \"user_5\"\n",
        "SESSION_ID = \"session_005\" # Using a fixed ID for simplicity\n",
        "\n",
        "\n",
        "session = await session_service.create_session(app_name=APP_NAME,user_id=USER_ID,session_id=SESSION_ID)\n",
        "runner_openai = Runner(agent=refranes_agent_ollama,app_name=APP_NAME,session_service=session_service)"
      ]
    },
    {
      "cell_type": "code",
      "execution_count": 19,
      "metadata": {},
      "outputs": [
        {
          "name": "stdout",
          "output_type": "stream",
          "text": [
            "\n",
            ">>> Consulta del usuario: mas vale pajaro en mano...\n",
            "<<< Respuesta del agente: mas vale pájaro en mano, que mil volando.\n",
            "\n"
          ]
        }
      ],
      "source": [
        "await call_agent_async(\"mas vale pajaro en mano...\",\n",
        "                        runner=runner_openai,\n",
        "                        user_id=USER_ID,\n",
        "                        session_id=SESSION_ID)"
      ]
    },
    {
      "cell_type": "markdown",
      "metadata": {
        "id": "parameters-intro"
      },
      "source": [
        "## ⚙️ Parte 2: Ajustando el Comportamiento con Parámetros\n",
        "\n",
        "### Parámetros Clave de los LLMs\n",
        "\n",
        "Los parámetros permiten controlar cómo los modelos generan texto:\n",
        "\n",
        "1. **🌡️ Temperature (0.0 - 2.0)**\n",
        "   - Baja (0.0-0.3): Respuestas deterministas y conservadoras\n",
        "   - Media (0.4-0.7): Balance entre consistencia y creatividad\n",
        "   - Alta (0.8-2.0): Respuestas creativas y diversas\n",
        "\n",
        "2. **🎯 Top-p (0.0 - 1.0)**\n",
        "   - Controla el \"nucleus sampling\"\n",
        "   - 0.9 = considera tokens que suman 90% de probabilidad\n",
        "   - Alternativa a temperature (usar uno u otro)\n",
        "\n",
        "3. **📏 Max Output Tokens**\n",
        "   - Limita la longitud de la respuesta\n",
        "   - Útil para controlar costos y concisión"
      ]
    },
    {
      "cell_type": "code",
      "execution_count": 20,
      "metadata": {
        "id": "create-parametrized-agents"
      },
      "outputs": [
        {
          "name": "stdout",
          "output_type": "stream",
          "text": [
            "🎛️ Agentes con diferentes parámetros creados:\n",
            " • AgenteCreativo (temp=1.5)\n",
            " • AgenteTecnico (temp=0.1)\n",
            " • AgenteBalanceado (temp=0.7)\n",
            " • AgenteConciso (max_tokens=50)\n"
          ]
        }
      ],
      "source": [
        "# Agente Creativo (alta temperatura)\n",
        "agente_creativo = LlmAgent(\n",
        "    name=\"AgenteCreativo\",\n",
        "    model=azure_model,\n",
        "    description=\"Agente configurado para máxima creatividad\",\n",
        "    generate_content_config=types.GenerateContentConfig(\n",
        "        temperature= 1.5,          # Alta creatividad\n",
        "        max_output_tokens = 1000,    # Respuestas moderadas\n",
        "        top_k= 40                  # Vocabulario amplio\n",
        "     ),\n",
        "    instruction=(\n",
        "        \"Eres un escritor creativo e imaginativo.\"\n",
        "        \"Genera ideas originales y sorprendentes.\"\n",
        "        \"Usa metáforas, analogías y lenguaje colorido.\"\n",
        "    )\n",
        ")\n",
        "\n",
        "# Agente Técnico (baja temperatura)\n",
        "agente_tecnico = LlmAgent(\n",
        "    name=\"AgenteTecnico\",\n",
        "    model=azure_model,\n",
        "    description=\"Agente configurado para precisión técnica\",\n",
        "    generate_content_config=types.GenerateContentConfig(\n",
        "        temperature= 0.1,          # Muy determinista\n",
        "        max_output_tokens= 150    # Respuestas concisas\n",
        "    ),\n",
        "    instruction=(\n",
        "        \"Eres un experto técnico preciso y factual.\"\n",
        "        \"Proporciona información exacta y verificable.\"\n",
        "        \"Evita especulaciones y cíñete a los hechos.\"\n",
        "    )\n",
        ")\n",
        "\n",
        "# Agente Balanceado (configuración media)\n",
        "agente_balanceado = LlmAgent(\n",
        "    name=\"AgenteBalanceado\",\n",
        "    model=azure_model,\n",
        "    description=\"Agente con configuración equilibrada\",\n",
        "    generate_content_config=types.GenerateContentConfig(\n",
        "        temperature= 0.7,          # Balance\n",
        "        max_output_tokens= 300    # Flexibilidad en longitud\n",
        "    ),\n",
        "    instruction=(\n",
        "        \"Eres un asistente versátil y adaptable.\"\n",
        "        \"Proporciona respuestas útiles y bien estructuradas.\"\n",
        "        \"Adapta tu estilo según el contexto.\"\n",
        "    )\n",
        ")\n",
        "\n",
        "# Agente Ultra-Conciso (tokens limitados)\n",
        "agente_conciso = LlmAgent(\n",
        "    name=\"AgenteConciso\",\n",
        "    model=azure_model,\n",
        "    description=\"Agente de respuestas ultra-breves\",\n",
        "    generate_content_config=types.GenerateContentConfig(\n",
        "        temperature= 0.3,\n",
        "        max_output_tokens= 50     # Muy limitado\n",
        "    ),\n",
        "    instruction=(\n",
        "        \"Responde de forma extremadamente concisa.\"\n",
        "        \"Máximo 2-3 frases por respuesta.\"\n",
        "        \"Ve directo al punto, sin rodeos.\"\n",
        "    )\n",
        ")\n",
        "\n",
        "print(\"🎛️ Agentes con diferentes parámetros creados:\")\n",
        "print(\" • AgenteCreativo (temp=1.5)\")\n",
        "print(\" • AgenteTecnico (temp=0.1)\")\n",
        "print(\" • AgenteBalanceado (temp=0.7)\")\n",
        "print(\" • AgenteConciso (max_tokens=50)\")"
      ]
    },
    {
      "cell_type": "markdown",
      "metadata": {
        "id": "parameters-demo"
      },
      "source": [
        "### 🧪 Demostración: Efecto de los Parámetros"
      ]
    },
    {
      "cell_type": "code",
      "execution_count": 21,
      "metadata": {},
      "outputs": [
        {
          "name": "stdout",
          "output_type": "stream",
          "text": [
            "\n",
            ">>> Consulta del usuario: Escribe un poema sobre la luna llena\n",
            "<<< Respuesta del agente: **Bailarina de Plata**  \n",
            "\n",
            "Oh, luna llena, diadema del cielo,  \n",
            "caricia brillante en el manto negro,  \n",
            "bailarina etérea de luz y misterio,  \n",
            "te deslizas callada en un vasto silencio.  \n",
            "\n",
            "Eres el ojo abierto de la noche fría,  \n",
            "un espejo partido en la magia tardía,  \n",
            "tu rostro se cuelga cual fruta prohibida,  \n",
            "mordida ya, solo por sueños y envidia.  \n",
            "\n",
            "Juegas con sombras, dibujas catedrales,  \n",
            "sobre las montañas, los ríos, los valles,  \n",
            "y entre los sauces, como augusta reina,  \n",
            "coronas el mundo con tu calma plena.  \n",
            "\n",
            "Beso de plata sobre el lomo del mar,  \n",
            "reflejo tembloroso que ansía alcanzar  \n",
            "esa dama esquiva que vive en el cielo,  \n",
            "surcando las horas en un suave vuelo.  \n",
            "\n",
            "Los lobos aúllan tu nombre secreto,  \n",
            "y mil corazones laten un soneto.  \n",
            "Eres poema, eterna y desnuda,  \n",
            "musa brillante de la noche muda.  \n",
            "\n",
            "Oh luna llena, fanal de ensueño,  \n",
            "te inclinas paciente al nocturno dueño.  \n",
            "Pero esta noche, serena y divina,  \n",
            "es tu reino eterno, oh dama argentina.  \n"
          ]
        }
      ],
      "source": [
        "APP_NAME = \"test_creative_agent\"\n",
        "USER_ID = \"user_6\"\n",
        "SESSION_ID = \"session_006\" # Using a fixed ID for simplicity\n",
        "\n",
        "session = await session_service.create_session(app_name=APP_NAME,user_id=USER_ID,session_id=SESSION_ID)\n",
        "runner_creativo = Runner(agent=agente_creativo,app_name=APP_NAME,session_service=session_service)\n",
        "\n",
        "await call_agent_async(\"Escribe un poema sobre la luna llena\",\n",
        "                        runner=runner_creativo,\n",
        "                        user_id=USER_ID,\n",
        "                        session_id=SESSION_ID)\n",
        "\n"
      ]
    },
    {
      "cell_type": "code",
      "execution_count": 22,
      "metadata": {},
      "outputs": [
        {
          "name": "stdout",
          "output_type": "stream",
          "text": [
            "\n",
            ">>> Consulta del usuario: Escribe un poema sobre la luna llena\n",
            "<<< Respuesta del agente: Luna redonda,  \n",
            "farol en la noche,  \n",
            "calma y asombro.\n"
          ]
        }
      ],
      "source": [
        "APP_NAME = \"test_conciso_agent\"\n",
        "USER_ID = \"user_6\"\n",
        "SESSION_ID = \"session_006\" # Using a fixed ID for simplicity\n",
        "\n",
        "\n",
        "session = await session_service.create_session(app_name=APP_NAME,user_id=USER_ID,session_id=SESSION_ID)\n",
        "runner_consiso = Runner(agent=agente_conciso,app_name=APP_NAME,session_service=session_service)\n",
        "\n",
        "await call_agent_async(\"Escribe un poema sobre la luna llena\",\n",
        "                        runner=runner_consiso,\n",
        "                        user_id=USER_ID,\n",
        "                        session_id=SESSION_ID)\n",
        "\n"
      ]
    },
    {
      "cell_type": "markdown",
      "metadata": {
        "id": "parameters-guide"
      },
      "source": [
        "### 📊 Guía de Uso de Parámetros\n",
        "\n",
        "Recomendaciones según el caso de uso:"
      ]
    },
    {
      "cell_type": "code",
      "execution_count": 23,
      "metadata": {
        "id": "parameters-guide-table"
      },
      "outputs": [
        {
          "name": "stdout",
          "output_type": "stream",
          "text": [
            "📊 GUÍA DE PARÁMETROS SEGÚN CASO DE USO\n",
            "\n",
            "          Caso de Uso Temperature Max Tokens    Top-p                      Razón\n",
            "Documentación Técnica     0.1-0.3   500-1000 0.9-0.95   Precisión y consistencia\n",
            "   Escritura Creativa     0.8-1.5    200-500 0.95-1.0    Originalidad y variedad\n",
            "  Chatbot de Servicio     0.5-0.7    100-200      0.9       Balance y eficiencia\n",
            "    Análisis de Datos     0.1-0.2    300-500     0.95    Exactitud en resultados\n",
            "        Brainstorming     1.0-1.8    150-300 0.95-1.0 Máxima diversidad de ideas\n",
            "\n",
            "\n",
            "⚠️ Notas importantes:\n",
            "   • Estos son rangos sugeridos, experimenta según tus necesidades\n",
            "   • No uses temperature y top-p simultáneamente en valores extremos\n",
            "   • El costo aumenta con max_tokens, úsalo con prudencia\n",
            "   • Algunos modelos tienen límites específicos, consulta la documentación\n"
          ]
        }
      ],
      "source": [
        "# Crear una guía visual de parámetros\n",
        "import pandas as pd\n",
        "\n",
        "# Crear tabla de recomendaciones\n",
        "guia_parametros = pd.DataFrame([\n",
        "    {\"Caso de Uso\": \"Documentación Técnica\", \n",
        "     \"Temperature\": \"0.1-0.3\", \n",
        "     \"Max Tokens\": \"500-1000\", \n",
        "     \"Top-p\": \"0.9-0.95\",\n",
        "     \"Razón\": \"Precisión y consistencia\"},\n",
        "    \n",
        "    {\"Caso de Uso\": \"Escritura Creativa\", \n",
        "     \"Temperature\": \"0.8-1.5\", \n",
        "     \"Max Tokens\": \"200-500\", \n",
        "     \"Top-p\": \"0.95-1.0\",\n",
        "     \"Razón\": \"Originalidad y variedad\"},\n",
        "    \n",
        "    {\"Caso de Uso\": \"Chatbot de Servicio\", \n",
        "     \"Temperature\": \"0.5-0.7\", \n",
        "     \"Max Tokens\": \"100-200\", \n",
        "     \"Top-p\": \"0.9\",\n",
        "     \"Razón\": \"Balance y eficiencia\"},\n",
        "    \n",
        "    {\"Caso de Uso\": \"Análisis de Datos\", \n",
        "     \"Temperature\": \"0.1-0.2\", \n",
        "     \"Max Tokens\": \"300-500\", \n",
        "     \"Top-p\": \"0.95\",\n",
        "     \"Razón\": \"Exactitud en resultados\"},\n",
        "    \n",
        "    {\"Caso de Uso\": \"Brainstorming\", \n",
        "     \"Temperature\": \"1.0-1.8\", \n",
        "     \"Max Tokens\": \"150-300\", \n",
        "     \"Top-p\": \"0.95-1.0\",\n",
        "     \"Razón\": \"Máxima diversidad de ideas\"}\n",
        "])\n",
        "\n",
        "print(\"📊 GUÍA DE PARÁMETROS SEGÚN CASO DE USO\\n\")\n",
        "print(guia_parametros.to_string(index=False))\n",
        "\n",
        "print(\"\\n\\n⚠️ Notas importantes:\")\n",
        "print(\"   • Estos son rangos sugeridos, experimenta según tus necesidades\")\n",
        "print(\"   • No uses temperature y top-p simultáneamente en valores extremos\")\n",
        "print(\"   • El costo aumenta con max_tokens, úsalo con prudencia\")\n",
        "print(\"   • Algunos modelos tienen límites específicos, consulta la documentación\")"
      ]
    },
    {
      "cell_type": "markdown",
      "metadata": {
        "id": "structured-output-intro"
      },
      "source": [
        "## 📊 Parte 3: Output Estructurado con Pydantic\n",
        "\n",
        "### ¿Por qué Output Estructurado?\n",
        "\n",
        "El output estructurado es crucial cuando necesitas:\n",
        "- 🔧 Integrar respuestas de IA con otros sistemas\n",
        "- 💾 Almacenar datos en bases de datos\n",
        "- 🎯 Garantizar formato consistente\n",
        "- ✅ Validar la información extraída\n",
        "\n",
        "### Pydantic: La Solución\n",
        "\n",
        "Pydantic permite definir esquemas de datos con:\n",
        "- Type hints de Python\n",
        "- Validación automática\n",
        "- Serialización JSON\n",
        "- Documentación clara para el LLM"
      ]
    },
    {
      "cell_type": "code",
      "execution_count": 24,
      "metadata": {
        "id": "create-pydantic-models"
      },
      "outputs": [
        {
          "name": "stdout",
          "output_type": "stream",
          "text": [
            "📚 Creando modelos Pydantic para output estructurado...\n",
            "\n",
            "✅ Modelos Pydantic creados:\n",
            "   1. InformacionProducto - Para extraer datos de productos\n",
            "   2. AnalisisSentimiento - Para análisis de opiniones\n",
            "   3. Evento/ListaEventos - Para extraer información de eventos\n",
            "\n",
            "📋 Ejemplo de esquema (InformacionProducto):\n",
            "{'nombre': {'description': 'Nombre completo del producto', 'title': 'Nombre', 'type': 'string'}, 'marca': {'anyOf': [{'type': 'string'}, {'type': 'null'}], 'default': None, 'description': 'Marca del producto', 'title': 'Marca'}, 'precio': {'anyOf': [{'type': 'number'}, {'type': 'null'}], 'default': None, 'description': 'Precio en USD', 'title': 'Precio'}, 'caracteristicas': {'description': 'Lista de características principales', 'items': {'type': 'string'}, 'title': 'Caracteristicas', 'type': 'array'}, 'disponible': {'default': True, 'description': 'Si está disponible', 'title': 'Disponible', 'type': 'boolean'}, 'categoria': {'anyOf': [{'type': 'string'}, {'type': 'null'}], 'default': None, 'description': 'Categoría del producto', 'title': 'Categoria'}}\n"
          ]
        }
      ],
      "source": [
        "# Importar Pydantic y crear modelos de datos\n",
        "from pydantic import BaseModel, Field\n",
        "from typing import List, Optional\n",
        "\n",
        "print(\"📚 Creando modelos Pydantic para output estructurado...\\n\")\n",
        "\n",
        "# Modelo 1: Información de Producto\n",
        "class InformacionProducto(BaseModel):\n",
        "    \"\"\"Esquema para extraer información de productos\"\"\"\n",
        "    nombre: str = Field(description=\"Nombre completo del producto\")\n",
        "    marca: Optional[str] = Field(None, description=\"Marca del producto\")\n",
        "    precio: Optional[float] = Field(None, description=\"Precio en USD\")\n",
        "    caracteristicas: List[str] = Field(\n",
        "        default_factory=list,\n",
        "        description=\"Lista de características principales\"\n",
        "    )\n",
        "    disponible: bool = Field(True, description=\"Si está disponible\")\n",
        "    categoria: Optional[str] = Field(None, description=\"Categoría del producto\")\n",
        "\n",
        "# Modelo 2: Análisis de Sentimiento\n",
        "class AnalisisSentimiento(BaseModel):\n",
        "    \"\"\"Esquema para análisis de sentimiento de texto\"\"\"\n",
        "    sentimiento: str = Field(\n",
        "        description=\"Sentimiento general: positivo, negativo o neutral\"\n",
        "    )\n",
        "    confianza: float = Field(\n",
        "        description=\"Nivel de confianza del análisis (0.0 a 1.0)\",\n",
        "        ge=0.0, le=1.0\n",
        "    )\n",
        "    emociones: List[str] = Field(\n",
        "        default_factory=list,\n",
        "        description=\"Emociones detectadas en el texto\"\n",
        "    )\n",
        "    aspectos_positivos: List[str] = Field(\n",
        "        default_factory=list,\n",
        "        description=\"Aspectos positivos mencionados\"\n",
        "    )\n",
        "    aspectos_negativos: List[str] = Field(\n",
        "        default_factory=list,\n",
        "        description=\"Aspectos negativos mencionados\"\n",
        "    )\n",
        "\n",
        "# Modelo 3: Extracción de Eventos\n",
        "class Evento(BaseModel):\n",
        "    \"\"\"Información sobre un evento\"\"\"\n",
        "    titulo: str = Field(description=\"Título del evento\")\n",
        "    fecha: Optional[str] = Field(None, description=\"Fecha del evento (YYYY-MM-DD)\")\n",
        "    hora: Optional[str] = Field(None, description=\"Hora del evento (HH:MM)\")\n",
        "    ubicacion: Optional[str] = Field(None, description=\"Ubicación del evento\")\n",
        "    participantes: List[str] = Field(\n",
        "        default_factory=list,\n",
        "        description=\"Lista de participantes\"\n",
        "    )\n",
        "    descripcion: Optional[str] = Field(None, description=\"Descripción del evento\")\n",
        "\n",
        "class ListaEventos(BaseModel):\n",
        "    \"\"\"Lista de eventos extraídos\"\"\"\n",
        "    eventos: List[Evento] = Field(\n",
        "        default_factory=list,\n",
        "        description=\"Lista de todos los eventos encontrados\"\n",
        "    )\n",
        "    total_eventos: int = Field(\n",
        "        description=\"Número total de eventos encontrados\"\n",
        "    )\n",
        "\n",
        "print(\"✅ Modelos Pydantic creados:\")\n",
        "print(\"   1. InformacionProducto - Para extraer datos de productos\")\n",
        "print(\"   2. AnalisisSentimiento - Para análisis de opiniones\")\n",
        "print(\"   3. Evento/ListaEventos - Para extraer información de eventos\")\n",
        "\n",
        "# Ejemplo de uso\n",
        "print(\"\\n📋 Ejemplo de esquema (InformacionProducto):\")\n",
        "print(InformacionProducto.model_json_schema()['properties'])"
      ]
    },
    {
      "cell_type": "markdown",
      "metadata": {},
      "source": [
        "## Creando los agentes con structured Output"
      ]
    },
    {
      "cell_type": "code",
      "execution_count": 25,
      "metadata": {
        "id": "create-structured-agents"
      },
      "outputs": [
        {
          "name": "stderr",
          "output_type": "stream",
          "text": [
            "Invalid config for agent ExtractorProductos: output_schema cannot co-exist with agent transfer configurations. Setting disallow_transfer_to_parent=True, disallow_transfer_to_peers=True\n",
            "Invalid config for agent AnalizadorSentimientos: output_schema cannot co-exist with agent transfer configurations. Setting disallow_transfer_to_parent=True, disallow_transfer_to_peers=True\n",
            "Invalid config for agent ExtractorEventos: output_schema cannot co-exist with agent transfer configurations. Setting disallow_transfer_to_parent=True, disallow_transfer_to_peers=True\n"
          ]
        },
        {
          "name": "stdout",
          "output_type": "stream",
          "text": [
            "🎯 Agentes con output estructurado creados:\n",
            "   • ExtractorProductos → InformacionProducto\n",
            "   • AnalizadorSentimientos → AnalisisSentimiento\n",
            "   • ExtractorEventos → ListaEventos\n"
          ]
        }
      ],
      "source": [
        "# Crear agentes con output estructurado\n",
        "\n",
        "# Agente Extractor de Productos\n",
        "agente_extractor_productos = LlmAgent(\n",
        "    name=\"ExtractorProductos\",\n",
        "    model=\"gemini-2.5-flash\",  # Pro maneja mejor output estructurado\n",
        "    description=\"Extrae información estructurada de productos\",\n",
        "    output_schema=InformacionProducto,  # ¡Output estructurado!\n",
        "    output_key='InformacionProducto',  # Clave para el output\n",
        "    generate_content_config=types.GenerateContentConfig(\n",
        "        temperature= 0.1,\n",
        "        max_output_tokens= 300\n",
        "    ),\n",
        "    instruction=(\n",
        "        \"Extrae información de productos del texto proporcionado.\"\n",
        "        \"Sigue exactamente el esquema definido.\"\n",
        "        \"Si no encuentras algún dato, usa None o lista vacía según corresponda.\"\n",
        "        \"Sé preciso con los precios y características.\"\n",
        "    )\n",
        ")\n",
        "\n",
        "# Agente Analizador de Sentimientos\n",
        "agente_sentimientos = LlmAgent(\n",
        "    name=\"AnalizadorSentimientos\",\n",
        "    model=openai_model,\n",
        "    description=\"Analiza el sentimiento y emociones en textos\",\n",
        "    output_schema=AnalisisSentimiento,  # ¡Output estructurado!\n",
        "    output_key='AnalisisSentimiento',  # Clave para el output\n",
        "    generate_content_config=types.GenerateContentConfig(\n",
        "        temperature= 0.3,\n",
        "        max_output_tokens= 300\n",
        "    ),\n",
        "    instruction=(\n",
        "        \"Analiza el sentimiento del texto proporcionado.\"\n",
        "        \"Identifica emociones específicas presentes.\"\n",
        "        \"Lista aspectos positivos y negativos mencionados.\"\n",
        "        \"Asigna un nivel de confianza a tu análisis (0.0 a 1.0).\"\n",
        "    )\n",
        ")\n",
        "\n",
        "# Agente Extractor de Eventos\n",
        "agente_eventos = LlmAgent(\n",
        "    name=\"ExtractorEventos\",\n",
        "    model=anthropic_model,\n",
        "    description=\"Extrae información de eventos de un texto\",\n",
        "    output_schema=ListaEventos,  # ¡Output estructurado con lista!\n",
        "    output_key='ListaEventos',  # Clave para el output\n",
        "    generate_content_config=types.GenerateContentConfig(\n",
        "        temperature= 0.2,\n",
        "        max_output_tokens= 500\n",
        "    ),\n",
        "    instruction=(\n",
        "        \"Extrae TODOS los eventos mencionados en el texto.\"\n",
        "        \"Para cada evento, captura toda la información disponible.\"\n",
        "        \"Las fechas deben estar en formato YYYY-MM-DD.\"\n",
        "        \"Las horas en formato HH:MM.\"\n",
        "        \"Si hay múltiples eventos, inclúyelos todos en la lista.\"\n",
        "    )\n",
        ")\n",
        "\n",
        "print(\"🎯 Agentes con output estructurado creados:\")\n",
        "print(\"   • ExtractorProductos → InformacionProducto\")\n",
        "print(\"   • AnalizadorSentimientos → AnalisisSentimiento\")\n",
        "print(\"   • ExtractorEventos → ListaEventos\")\n"
      ]
    },
    {
      "cell_type": "markdown",
      "metadata": {},
      "source": [
        "### Probando el primer agente de productos"
      ]
    },
    {
      "cell_type": "code",
      "execution_count": 28,
      "metadata": {},
      "outputs": [
        {
          "name": "stdout",
          "output_type": "stream",
          "text": [
            "\n",
            ">>> Consulta del usuario: \n",
            "    El nuevo iPhone 15 Pro Max de Apple ya está disponible. \n",
            "    Con un precio de $1,199, incluye cámara de 48MP, pantalla de 6.7 pulgadas,\n",
            "    chip A17 Pro y batería de larga duración. Disponible en titanio.\n",
            "    \n",
            "<<< Respuesta del agente: {\n",
            "  \"nombre\": \"iPhone 15 Pro Max\",\n",
            "  \"marca\": \"Apple\",\n",
            "  \"precio\": 1199,\n",
            "  \"caracteristicas\": [\n",
            "    \"cámara de 48MP\",\n",
            "    \"pantalla de 6.7 pulgadas\",\n",
            "    \"chip A17 Pro\",\n",
            "    \"batería de larga duración\",\n",
            "    \"Disponible en titanio\"\n",
            "  ],\n",
            "  \"disponible\": true,\n",
            "  \"categoria\": null\n",
            "}\n"
          ]
        }
      ],
      "source": [
        "APP_NAME = \"output_1\"\n",
        "USER_ID = \"user_7\"\n",
        "SESSION_ID = \"session_007\" # Using a fixed ID for simplicity\n",
        "\n",
        "texto_producto = \"\"\"\n",
        "    El nuevo iPhone 15 Pro Max de Apple ya está disponible. \n",
        "    Con un precio de $1,199, incluye cámara de 48MP, pantalla de 6.7 pulgadas,\n",
        "    chip A17 Pro y batería de larga duración. Disponible en titanio.\n",
        "    \"\"\"\n",
        "\n",
        "session = await session_service.create_session(app_name=APP_NAME,user_id=USER_ID,session_id=SESSION_ID)\n",
        "runner_productos = Runner(agent=agente_extractor_productos,app_name=APP_NAME,session_service=session_service)\n",
        "\n",
        "await call_agent_async(texto_producto,\n",
        "                        runner=runner_productos,\n",
        "                        user_id=USER_ID,\n",
        "                        session_id=SESSION_ID)"
      ]
    },
    {
      "cell_type": "markdown",
      "metadata": {},
      "source": [
        "### Probando el segundo agente de sentimientos"
      ]
    },
    {
      "cell_type": "code",
      "execution_count": 29,
      "metadata": {},
      "outputs": [
        {
          "name": "stdout",
          "output_type": "stream",
          "text": [
            "\n",
            ">>> Consulta del usuario: \n",
            "    El nuevo iPhone 15 Pro Max de Apple ya está disponible. \n",
            "    Con un precio de $1,199, incluye cámara de 48MP, pantalla de 6.7 pulgadas,\n",
            "    chip A17 Pro y batería de larga duración. Disponible en titanio.\n",
            "    \n",
            "<<< Respuesta del agente: {\"sentimiento\":\"neutral\",\"confianza\":0.9,\"emociones\":[],\"aspectos_positivos\":[\"cámara de 48MP\",\"pantalla de 6.7 pulgadas\",\"chip A17 Pro\",\"batería de larga duración\",\"disponible en titanio\"],\"aspectos_negativos\":[\"precio de $1,199\"]}\n"
          ]
        }
      ],
      "source": [
        "APP_NAME = \"output_2\"\n",
        "USER_ID = \"user_7\"\n",
        "SESSION_ID = \"session_007\" # Using a fixed ID for simplicity\n",
        "\n",
        "texto_opinion = \"\"\"\n",
        "    ¡Me encanta mi nuevo laptop! La velocidad es increíble y la pantalla es hermosa.\n",
        "    Sin embargo, la batería no dura tanto como esperaba y el precio fue algo alto.\n",
        "    En general, estoy satisfecho con la compra.\n",
        "    \"\"\"\n",
        "\n",
        "session = await session_service.create_session(app_name=APP_NAME,user_id=USER_ID,session_id=SESSION_ID)\n",
        "runner_sentimientos = Runner(agent=agente_sentimientos,app_name=APP_NAME,session_service=session_service)\n",
        "\n",
        "await call_agent_async(texto_producto,\n",
        "                        runner=runner_sentimientos,\n",
        "                        user_id=USER_ID,\n",
        "                        session_id=SESSION_ID)\n"
      ]
    },
    {
      "cell_type": "markdown",
      "metadata": {},
      "source": [
        "### Probando el tercer agente de eventos"
      ]
    },
    {
      "cell_type": "code",
      "execution_count": 30,
      "metadata": {},
      "outputs": [
        {
          "name": "stdout",
          "output_type": "stream",
          "text": [
            "\n",
            ">>> Consulta del usuario: \n",
            "    Recordatorio: La conferencia de IA será el 15 de marzo de 2024 a las 10:00 AM\n",
            "    en el Centro de Convenciones. Participarán el Dr. Smith y la Dra. Johnson.\n",
            "    Después, habrá un taller práctico a las 2:00 PM en el mismo lugar.\n",
            "    \n",
            "<<< Respuesta del agente: {\"eventos\": [{\"titulo\": \"Conferencia de IA\", \"fecha\": \"2024-03-15\", \"hora\": \"10:00\", \"ubicacion\": \"Centro de Convenciones\", \"participantes\": [\"Dr. Smith\", \"Dra. Johnson\"], \"descripcion\": null}, {\"titulo\": \"Taller pr\\u00e1ctico\", \"fecha\": \"2024-03-15\", \"hora\": \"14:00\", \"ubicacion\": \"Centro de Convenciones\", \"participantes\": [], \"descripcion\": null}], \"total_eventos\": 2}\n"
          ]
        }
      ],
      "source": [
        "APP_NAME = \"output_3\"\n",
        "USER_ID = \"user_7\"\n",
        "SESSION_ID = \"session_007\" # Using a fixed ID for simplicity\n",
        "\n",
        "texto_eventos = \"\"\"\n",
        "    Recordatorio: La conferencia de IA será el 15 de marzo de 2024 a las 10:00 AM\n",
        "    en el Centro de Convenciones. Participarán el Dr. Smith y la Dra. Johnson.\n",
        "    Después, habrá un taller práctico a las 2:00 PM en el mismo lugar.\n",
        "    \"\"\"\n",
        "\n",
        "session = await session_service.create_session(app_name=APP_NAME,user_id=USER_ID,session_id=SESSION_ID)\n",
        "runner_eventos = Runner(agent=agente_eventos,app_name=APP_NAME,session_service=session_service)\n",
        "\n",
        "await call_agent_async(texto_eventos,\n",
        "                        runner=runner_eventos,\n",
        "                        user_id=USER_ID,\n",
        "                        session_id=SESSION_ID)\n"
      ]
    },
    {
      "cell_type": "markdown",
      "metadata": {},
      "source": [
        "____"
      ]
    },
    {
      "cell_type": "markdown",
      "metadata": {},
      "source": [
        "## 🎓 RESUMEN DEL TUTORIAL 2: CONTROL DE LLMs\n",
        "---\n",
        "\n",
        "### 1️⃣ LiteLLM - Flexibilidad de Modelos\n",
        "- ✅ Usa cualquier modelo con el prefijo `litellm/`\n",
        "- ✅ Soporte para **100+ modelos diferentes**\n",
        "- ✅ Cambio fácil entre proveedores\n",
        "- ✅ Optimización de **costos y rendimiento**\n",
        "\n",
        "---\n",
        "\n",
        "### 2️⃣ Parámetros de LLM - Control\n",
        "- ✅ `temperature`: controla la **creatividad vs consistencia**\n",
        "- ✅ `max_tokens`: limita la **longitud** de la respuesta y ayuda a controlar costos\n",
        "- ✅ `top_p`: alternativa a `temperature` para muestreo\n",
        "- ✅ Configuración ajustada según el **caso de uso**\n",
        "\n",
        "---\n",
        "\n",
        "### 3️⃣ Output Estructurado - Respuestas Predecibles\n",
        "- ✅ Uso de **Pydantic** para definir esquemas de respuesta\n",
        "- ✅ **Validación automática** de los datos generados por el modelo\n",
        "- ✅ Integración sencilla con otros sistemas\n",
        "- ✅ Producción de **JSON consistente y tipado**\n",
        "\n",
        "---\n"
      ]
    },
    {
      "cell_type": "markdown",
      "metadata": {
        "id": "farewell"
      },
      "source": [
        "---\n",
        "\n",
        "## 🎉 ¡Felicitaciones!\n",
        "\n",
        "Has completado el Tutorial 2 de Google ADK. Ahora tienes el poder de:\n",
        "- Integrar cualquier LLM en tus agentes\n",
        "- Controlar finamente su comportamiento\n",
        "- Obtener respuestas estructuradas y validadas\n",
        "\n",
        "**Siguiente paso**: Tutorial 3 - Herramientas  🛠️\n",
        "\n",
        "---\n",
        "\n",
        "**¿Preguntas?** Déjalas en los comentarios del video o consulta la documentación oficial.\n",
        "\n",
        "**¡Feliz codificación con ADK!** 🚀"
      ]
    },
    {
      "cell_type": "markdown",
      "metadata": {
        "id": "resources"
      },
      "source": [
        "## 📚 Recursos Adicionales\n",
        "\n",
        "### Enlaces Útiles\n",
        "\n",
        "- **Documentación ADK**: [https://google.github.io/adk-docs/](https://google.github.io/adk-docs/)\n",
        "- **LiteLLM Docs**: [https://docs.litellm.ai/](https://docs.litellm.ai/)\n",
        "- **Pydantic Docs**: [https://docs.pydantic.dev/](https://docs.pydantic.dev/)\n",
        "- **Modelos Soportados**: [Lista completa de LiteLLM](https://docs.litellm.ai/docs/providers)\n"
      ]
    }
  ],
  "metadata": {
    "colab": {
      "provenance": [],
      "toc_visible": true
    },
    "kernelspec": {
      "display_name": "workspace",
      "language": "python",
      "name": "python3"
    },
    "language_info": {
      "codemirror_mode": {
        "name": "ipython",
        "version": 3
      },
      "file_extension": ".py",
      "mimetype": "text/x-python",
      "name": "python",
      "nbconvert_exporter": "python",
      "pygments_lexer": "ipython3",
      "version": "3.9.21"
    }
  },
  "nbformat": 4,
  "nbformat_minor": 0
}
