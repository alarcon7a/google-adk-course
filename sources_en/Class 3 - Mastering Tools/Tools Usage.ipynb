{
 "cells": [
  {
   "cell_type": "markdown",
   "metadata": {},
   "source": [
    "# 🛠️ Advanced Google ADK: Mastering Tools\n",
    "## Practical Tutorial for Google Colab\n",
    "\n",
    "---\n",
    "\n",
    "## 📋 Index\n",
    "1. **Initial Setup**\n",
    "2. **What are Tools in ADK?**\n",
    "3. **Pre-built Tools**\n",
    "4. **Creating Custom Tools**\n",
    "5. **Best Practices**\n",
    "6. **Advanced Use Cases**"
   ]
  },
  {
   "cell_type": "markdown",
   "metadata": {},
   "source": [
    "## 1. Initial Setup\n",
    "\n",
    "### ADK Installation"
   ]
  },
  {
   "cell_type": "code",
   "execution_count": null,
   "metadata": {},
   "outputs": [],
   "source": [
    "# Install Google ADK\n",
    "!pip install -q google-adk==1.4.2"
   ]
  },
  {
   "cell_type": "code",
   "execution_count": null,
   "metadata": {},
   "outputs": [],
   "source": [
    "# Necessary imports\n",
    "import os\n",
    "from google.adk.agents import LlmAgent\n",
    "from google.adk.tools import google_search\n",
    "from google.genai import types\n",
    "from google.adk.runners import Runner\n",
    "from google.adk.sessions import InMemorySessionService\n",
    "from getpass import getpass"
   ]
  },
  {
   "cell_type": "markdown",
   "metadata": {},
   "source": [
    "#### Option 1: Enter them directly"
   ]
  },
  {
   "cell_type": "code",
   "execution_count": null,
   "metadata": {},
   "outputs": [],
   "source": [
    "# Request API Key securely\n",
    "if 'GOOGLE_API_KEY' not in os.environ:\n",
    "    print(\"🔑 Please enter your Google API Key:\")\n",
    "    api_key = getpass(\"API Key: \")\n",
    "    os.environ['GOOGLE_API_KEY'] = api_key\n",
    "    os.environ['GOOGLE_GENAI_USE_VERTEXAI'] = 'FALSE'\n",
    "    print(\"\\n✅ API Key configured correctly\")\n",
    "else:\n",
    "    print(\"✅ API Key already configured\")\n",
    "\n",
    "# Verify that variables are configured\n",
    "print(f\"\\n📋 Configured environment variables:\")\n",
    "print(f\"   - GOOGLE_API_KEY: {'✓' if os.environ.get('GOOGLE_API_KEY') else '✗'}\")\n",
    "print(f\"   - GOOGLE_GENAI_USE_VERTEXAI: {os.environ.get('GOOGLE_GENAI_USE_VERTEXAI', 'Not configured')}\")\n",
    "\n",
    "print(\"✅ ADK installed and configured correctly!\")"
   ]
  },
  {
   "cell_type": "markdown",
   "metadata": {},
   "source": [
    "#### Option 2: Load via Dotenv"
   ]
  },
  {
   "cell_type": "code",
   "execution_count": null,
   "metadata": {},
   "outputs": [],
   "source": [
    "from dotenv import load_dotenv\n",
    "# Load environment variables from .env if it exists\n",
    "load_dotenv(override=True)"
   ]
  },
  {
   "cell_type": "markdown",
   "metadata": {},
   "source": [
    "## 2. What are Tools in ADK?\n",
    "\n",
    "**Tools** are capabilities or functions that an agent can invoke to:\n",
    "- 🔍 Search for information\n",
    "- 🧮 Perform calculations\n",
    "- 🌐 Interact with APIs\n",
    "- 📊 Process data\n",
    "- ⚙️ Execute specific actions\n",
    "\n",
    "### Key Concepts"
   ]
  },
  {
   "cell_type": "code",
   "execution_count": null,
   "metadata": {},
   "outputs": [],
   "source": [
    "# Visualize the tools concept\n",
    "print(\"\"\"\n",
    "🤖 LLM AGENT\n",
    "    ↓\n",
    "📦 TOOLBOX\n",
    "    ├── 🔍 Google Search\n",
    "    ├── 🧮 Calculator\n",
    "    ├── 📊 Database\n",
    "    └── 🌐 External APIs\n",
    "    ↓\n",
    "🌍 ACTION IN THE REAL WORLD\n",
    "\"\"\")"
   ]
  },
  {
   "cell_type": "markdown",
   "metadata": {},
   "source": [
    "## 3. Pre-built Tools\n",
    "\n",
    "### Example: GoogleSearchTool"
   ]
  },
  {
   "cell_type": "markdown",
   "metadata": {},
   "source": [
    "##### Our inference function"
   ]
  },
  {
   "cell_type": "code",
   "execution_count": null,
   "metadata": {},
   "outputs": [],
   "source": [
    "async def call_agent_async(query: str, runner, user_id, session_id):\n",
    "    \"\"\"Sends a query to the agent and prints the final response.\"\"\"\n",
    "    print(f\"\\n>>> User query: {query}\")\n",
    "\n",
    "    # Prepare the user message in ADK format\n",
    "    content = types.Content(role='user', parts=[types.Part(text=query)])\n",
    "\n",
    "    final_response_text = \"The agent did not produce a final response.\" # Default value\n",
    "\n",
    "    # Key concept: run_async executes the agent's logic and generates events.\n",
    "    # We iterate through events to find the final response.\n",
    "    async for event in runner.run_async(user_id=user_id, session_id=session_id, new_message=content):\n",
    "        # You can uncomment the line below to see *all* events during execution\n",
    "        # print(f\"  [Event] Author: {event.author}, Type: {type(event).__name__}, Final: {event.is_final_response()}, Content: {event.content}\")\n",
    "\n",
    "        # Key concept: is_final_response() marks the message that concludes the turn.\n",
    "        if event.is_final_response():\n",
    "            if event.content and event.content.parts:\n",
    "                # Assume the text response is in the first part\n",
    "                final_response_text = event.content.parts[0].text\n",
    "            elif event.actions and event.actions.escalate: # Handle possible errors/escalations\n",
    "                final_response_text = f\"The agent escalated: {event.error_message or 'No specific message.'}\"\n",
    "            # Add more validations here if needed (e.g., specific error codes)\n",
    "            break # Stop processing events once final response is found\n",
    "\n",
    "    print(f\"<<< Agent response: {final_response_text}\")"
   ]
  },
  {
   "cell_type": "code",
   "execution_count": null,
   "metadata": {},
   "outputs": [],
   "source": [
    "# Create an agent with Google search tool\n",
    "search_agent = LlmAgent(\n",
    "    name=\"GoogleResearcher\",\n",
    "    model=\"gemini-2.5-flash\",\n",
    "    description=\"An agent that uses Google search to answer current questions\",\n",
    "    tools=[google_search],  # Pre-built tool\n",
    "    instruction=(\n",
    "        \"You are an expert researcher. \"\n",
    "        \"Use Google search to find up-to-date information. \"\n",
    "        \"Cite your sources when possible.\"\n",
    "    )\n",
    ")\n",
    "\n",
    "print(\"✅ Researcher agent created with GoogleSearchTool\")"
   ]
  },
  {
   "cell_type": "markdown",
   "metadata": {},
   "source": [
    "#### Test the researcher agent"
   ]
  },
  {
   "cell_type": "code",
   "execution_count": null,
   "metadata": {},
   "outputs": [],
   "source": [
    "# Key concept: SessionService stores conversation history and state.\n",
    "# InMemorySessionService is simple, non-persistent storage for this tutorial.\n",
    "session_service = InMemorySessionService()\n",
    "\n",
    "# Define constants to identify the interaction context\n",
    "APP_NAME = \"search_tool_agent\"\n",
    "USER_ID = \"user_1\"\n",
    "SESSION_ID = \"session_001\" # Using a fixed ID for simplicity\n",
    "\n",
    "# Create the specific session where the conversation will occur\n",
    "session = await session_service.create_session(\n",
    "    app_name=APP_NAME,\n",
    "    user_id=USER_ID,\n",
    "    session_id=SESSION_ID\n",
    ")\n",
    "# Runner: This is the main component that manages interaction with the agent.\n",
    "runner = Runner(agent=search_agent,\n",
    "                app_name=APP_NAME,\n",
    "                session_service=session_service)\n"
   ]
  },
  {
   "cell_type": "code",
   "execution_count": null,
   "metadata": {},
   "outputs": [],
   "source": [
    "await call_agent_async(\"What is the name of the new pope for 2025?\",\n",
    "                        runner=runner,\n",
    "                        user_id=USER_ID,\n",
    "                        session_id=SESSION_ID)"
   ]
  },
  {
   "cell_type": "markdown",
   "metadata": {},
   "source": [
    "### Example: BuiltInCodeExecutor for code execution"
   ]
  },
  {
   "cell_type": "code",
   "execution_count": null,
   "metadata": {},
   "outputs": [],
   "source": [
    "from google.adk.code_executors import BuiltInCodeExecutor\n",
    "\n",
    "AGENT_NAME = \"calculator_agent\"\n",
    "APP_NAME = \"calculator\"\n",
    "USER_ID = \"user1234\"\n",
    "SESSION_ID = \"session_code_exec_async\"\n",
    "GEMINI_MODEL = \"gemini-2.0-flash\"\n",
    "\n",
    "code_agent = LlmAgent(\n",
    "    name=AGENT_NAME,\n",
    "    model=GEMINI_MODEL,\n",
    "    code_executor=BuiltInCodeExecutor(),  # enable code execution\n",
    "    instruction=\"\"\"You are a calculator agent.\n",
    "    When provided with a mathematical expression, write and execute Python code to calculate the result.\n",
    "    Return only the final numerical result as plain text, without markdown formatting or code blocks.\n",
    "    \"\"\",\n",
    "    description=\"Executes Python code to perform calculations.\",\n",
    ")\n",
    "\n",
    "# Session and Runner\n",
    "session_service = InMemorySessionService()\n",
    "session = await session_service.create_session(\n",
    "    app_name=APP_NAME, user_id=USER_ID, session_id=SESSION_ID\n",
    ")\n",
    "runner = Runner(agent=code_agent, app_name=APP_NAME, session_service=session_service)"
   ]
  },
  {
   "cell_type": "code",
   "execution_count": null,
   "metadata": {},
   "outputs": [],
   "source": [
    "# Asynchronous function to send a query to the agent and process the events it returns\n",
    "async def call_agent_async_code(query, runner, user_id, session_id):\n",
    "    # Create the message with the user's text in the format required by ADK\n",
    "    content = types.Content(role=\"user\", parts=[types.Part(text=query)])\n",
    "    print(f\"\\n--- Executing Query: {query} ---\")\n",
    "\n",
    "    # Variable to store the agent's final response\n",
    "    final_response_text = \"No final text response was captured.\"\n",
    "\n",
    "    # Start the asynchronous loop to process each event emitted by the agent\n",
    "    async for event in runner.run_async(\n",
    "        user_id=user_id, session_id=session_id, new_message=content\n",
    "    ):\n",
    "        print(f\"Event ID: {event.id}, Author: {event.author}\")\n",
    "\n",
    "        # --- Check if the event contains specific parts like code or results ---\n",
    "        has_specific_part = False\n",
    "        if event.content and event.content.parts:\n",
    "            for part in event.content.parts:  # Iterate through all content parts\n",
    "                if part.executable_code:\n",
    "                    # If there's executable code generated by the agent, print it\n",
    "                    print(\n",
    "                        f\"  Debug: Code generated by agent:\\n```python\\n{part.executable_code.code}\\n```\"\n",
    "                    )\n",
    "                    has_specific_part = True\n",
    "                elif part.code_execution_result:\n",
    "                    # If there's code execution result, show the result\n",
    "                    print(\n",
    "                        f\"  Debug: Code execution result: {part.code_execution_result.outcome} - Output:\\n{part.code_execution_result.output}\"\n",
    "                    )\n",
    "                    has_specific_part = True\n",
    "                elif part.text and not part.text.isspace():\n",
    "                    # If there's plain text, show it (not considered a \"specific\" part)\n",
    "                    print(f\"  Text: '{part.text.strip()}'\")\n",
    "                    # Don't mark `has_specific_part = True` here to not interfere with final response logic\n",
    "\n",
    "        # --- Check if it's a final response (after handling specific parts) ---\n",
    "        # Only consider this response as final if there were no specific parts before\n",
    "        if not has_specific_part and event.is_final_response():\n",
    "            if (\n",
    "                event.content\n",
    "                and event.content.parts\n",
    "                and event.content.parts[0].text\n",
    "            ):\n",
    "                final_response_text = event.content.parts[0].text.strip()\n",
    "                print(f\"==> Final Agent Response: {final_response_text}\")\n",
    "            else:\n",
    "                print(\"==> Final Agent Response: [No text content in final event]\")\n",
    "\n",
    "    # Final closing message\n",
    "    print(\"-\" * 30)"
   ]
  },
  {
   "cell_type": "markdown",
   "metadata": {},
   "source": [
    "#### Test 1"
   ]
  },
  {
   "cell_type": "code",
   "execution_count": null,
   "metadata": {},
   "outputs": [],
   "source": [
    "await call_agent_async_code(\"Calculate the value of ((5 + 7 + 10) * 12) to the power of 2\", runner, USER_ID, SESSION_ID)"
   ]
  },
  {
   "cell_type": "markdown",
   "metadata": {},
   "source": [
    "#### Test 2"
   ]
  },
  {
   "cell_type": "code",
   "execution_count": null,
   "metadata": {},
   "outputs": [],
   "source": [
    "await call_agent_async_code(\"What is the factorial of 10?\", runner, USER_ID, SESSION_ID)"
   ]
  },
  {
   "cell_type": "markdown",
   "metadata": {},
   "source": [
    "## 4. Creating Custom Tools\n",
    "\n",
    "### 🧮 Tool 1: Simple Calculator"
   ]
  },
  {
   "cell_type": "code",
   "execution_count": null,
   "metadata": {},
   "outputs": [],
   "source": [
    "def add_numbers(a: int, b: int) -> dict:\n",
    "    \"\"\"\n",
    "    Adds two integers and returns the result in a structured format.\n",
    "\n",
    "    Use this tool when you need to perform addition of two integer values.\n",
    "    \n",
    "    Args:\n",
    "        a (int): First number to add.\n",
    "        b (int): Second number to add.\n",
    "\n",
    "    Returns:\n",
    "        dict: A dictionary with the following keys:\n",
    "            - 'status' (str): \"success\" if the operation was successful.\n",
    "            - 'result' (int): Result of the addition (a + b).\n",
    "            - 'operation' (str): Description of the operation performed.\n",
    "    \"\"\"\n",
    "    try:\n",
    "        print(f\"🧮 add_numbers tool called with a={a}, b={b}\")\n",
    "        result = a + b\n",
    "        return {\n",
    "            \"status\": \"success\",\n",
    "            \"result\": result,\n",
    "            \"operation\": f\"Addition of {a} + {b}\"\n",
    "        }\n",
    "    except Exception as e:\n",
    "        return {\n",
    "            \"status\": \"error\",\n",
    "            \"error_message\": f\"An error occurred while adding the numbers: {str(e)}\"\n",
    "        }"
   ]
  },
  {
   "cell_type": "markdown",
   "metadata": {},
   "source": [
    "### 🛍️ Tool 2: Product Search"
   ]
  },
  {
   "cell_type": "code",
   "execution_count": null,
   "metadata": {},
   "outputs": [],
   "source": [
    "import json\n",
    "\n",
    "def search_product_by_name(product_name: str) -> dict:\n",
    "    \"\"\"\n",
    "    Searches for a product by its name in the catalog and returns a dictionary with its details.\n",
    "\n",
    "    Use this tool if the user requests information about a specific product.\n",
    "\n",
    "    Args:\n",
    "        product_name (str): Name of the product to search for (case insensitive).\n",
    "\n",
    "    Returns:\n",
    "        dict: Dictionary with the following possible fields:\n",
    "            - 'status' (str): \"success\" if product was found, \"error\" if not.\n",
    "            - 'product' (dict, optional): Product details if found.\n",
    "            - 'error_message' (str, optional): Explanatory message if product not found.\n",
    "    \"\"\"\n",
    "    print(f\"🛍️ Searching for product: '{product_name}'\")\n",
    "\n",
    "    # Database simulation\n",
    "    products_db = {\n",
    "        \"gaming laptop\": {\n",
    "            \"id\": \"LPG001\",\n",
    "            \"name\": \"Gaming Laptop Pro\",\n",
    "            \"price\": 1500,\n",
    "            \"stock\": 10,\n",
    "            \"features\": [\"RTX 4070\", \"32GB RAM\", \"1TB SSD\"]\n",
    "        },\n",
    "        \"mechanical keyboard\": {\n",
    "            \"id\": \"TEC005\",\n",
    "            \"name\": \"Mechanical RGB Keyboard\",\n",
    "            \"price\": 120,\n",
    "            \"stock\": 25,\n",
    "            \"features\": [\"Cherry MX Switches\", \"RGB\", \"TKL\"]\n",
    "        },\n",
    "        \"4k monitor\": {\n",
    "            \"id\": \"MON003\",\n",
    "            \"name\": \"4K HDR Monitor\",\n",
    "            \"price\": 400,\n",
    "            \"stock\": 5,\n",
    "            \"features\": [\"27 inches\", \"144Hz\", \"HDR10\"]\n",
    "        }\n",
    "    }\n",
    "\n",
    "    product = products_db.get(product_name.lower())\n",
    "    \n",
    "    if product:\n",
    "        return {\n",
    "            \"status\": \"success\",\n",
    "            \"product\": product\n",
    "        }\n",
    "    else:\n",
    "        return {\n",
    "            \"status\": \"error\",\n",
    "            \"error_message\": f\"Product '{product_name}' not found in catalog.\"\n",
    "        }"
   ]
  },
  {
   "cell_type": "markdown",
   "metadata": {},
   "source": [
    "### 📈 Tool 3: Percentage Calculation"
   ]
  },
  {
   "cell_type": "code",
   "execution_count": null,
   "metadata": {},
   "outputs": [],
   "source": [
    "def calculate_percentage(value: float, percentage: float) -> dict:\n",
    "    \"\"\"\n",
    "    Calculates the percentage of a base value.\n",
    "\n",
    "    Use this tool to calculate discounts, increases, commissions, proportions or other values relative to a percentage.\n",
    "\n",
    "    Args:\n",
    "        value (float): Base value on which to calculate the percentage.\n",
    "        percentage (float): Percentage to apply (e.g. 15 for 15%).\n",
    "\n",
    "    Returns:\n",
    "        dict: Dictionary with the following keys:\n",
    "            - 'status' (str): \"success\" if the calculation was successful.\n",
    "            - 'result' (float): Calculated value, rounded to two decimal places.\n",
    "            - 'details' (str): Explanation of the calculation performed.\n",
    "    \"\"\"\n",
    "    try:\n",
    "        print(f\"📈 Calculating {percentage}% of {value}\")\n",
    "        result = round((value * percentage) / 100, 2)\n",
    "        return {\n",
    "            \"status\": \"success\",\n",
    "            \"result\": result,\n",
    "            \"details\": f\"{percentage}% of {value} is {result}\"\n",
    "        }\n",
    "    except Exception as e:\n",
    "        return {\n",
    "            \"status\": \"error\",\n",
    "            \"error_message\": f\"Could not calculate percentage: {str(e)}\"\n",
    "        }"
   ]
  },
  {
   "cell_type": "markdown",
   "metadata": {},
   "source": [
    "### Create an agent with custom tools"
   ]
  },
  {
   "cell_type": "code",
   "execution_count": null,
   "metadata": {},
   "outputs": [],
   "source": [
    "# Create agent with our custom tools\n",
    "function_tool_agent = LlmAgent(\n",
    "    name=\"FunctionAgent\",\n",
    "    model=\"gemini-2.0-flash\",\n",
    "    description=\"A useful agent that uses custom tools for calculations and searches\",\n",
    "    tools=[add_numbers, calculate_percentage, search_product_by_name],  # Our tools\n",
    "    generate_content_config=types.GenerateContentConfig(\n",
    "        temperature=0.1,  # Low temperature for precise calculations\n",
    "        max_output_tokens=300\n",
    "    ),\n",
    "    instruction=(\n",
    "        \"You are a precise assistant. \"\n",
    "        \"Help the user using the available tools. \"\n",
    "    )\n",
    ")\n",
    "\n",
    "print(\"✅ Calculator agent created with custom tools\")"
   ]
  },
  {
   "cell_type": "code",
   "execution_count": null,
   "metadata": {},
   "outputs": [],
   "source": [
    "# Key concept: SessionService stores conversation history and state.\n",
    "# InMemorySessionService is simple, non-persistent storage for this tutorial.\n",
    "session_service = InMemorySessionService()\n",
    "\n",
    "# Define constants to identify the interaction context\n",
    "APP_NAME = \"function_tool_agent\"\n",
    "USER_ID = \"user_1\"\n",
    "SESSION_ID = \"session_001\" # Using a fixed ID for simplicity\n",
    "\n",
    "# Create the specific session where the conversation will occur\n",
    "session = await session_service.create_session(\n",
    "    app_name=APP_NAME,\n",
    "    user_id=USER_ID,\n",
    "    session_id=SESSION_ID\n",
    ")\n",
    "# Runner: This is the main component that manages interaction with the agent.\n",
    "runner = Runner(agent=function_tool_agent,\n",
    "                app_name=APP_NAME,\n",
    "                session_service=session_service)\n"
   ]
  },
  {
   "cell_type": "markdown",
   "metadata": {},
   "source": [
    "### Test the function agent"
   ]
  },
  {
   "cell_type": "code",
   "execution_count": null,
   "metadata": {},
   "outputs": [],
   "source": [
    "await call_agent_async(\"How much is 15% of 1200?\", runner=runner, user_id=USER_ID, session_id=SESSION_ID)"
   ]
  },
  {
   "cell_type": "code",
   "execution_count": null,
   "metadata": {},
   "outputs": [],
   "source": [
    "await call_agent_async(\"What are the features and price of the mechanical keyboard?\", runner=runner, user_id=USER_ID, session_id=SESSION_ID)"
   ]
  },
  {
   "cell_type": "code",
   "execution_count": null,
   "metadata": {},
   "outputs": [],
   "source": [
    "await call_agent_async(\"How much is 10 + 9991?\", runner=runner, user_id=USER_ID, session_id=SESSION_ID)"
   ]
  },
  {
   "cell_type": "markdown",
   "metadata": {},
   "source": [
    "## 5. Best Practices\n"
   ]
  },
  {
   "cell_type": "markdown",
   "metadata": {},
   "source": [
    "### Importance of Type Hints and Docstrings"
   ]
  },
  {
   "cell_type": "code",
   "execution_count": null,
   "metadata": {},
   "outputs": [],
   "source": [
    "# Example of POORLY defined tool (DON'T DO THIS)\n",
    "\n",
    "def poorly_defined_tool(x, y):  # ❌ No type hints\n",
    "    \"\"\"Does something\"\"\"  # ❌ Vague description, no useful context for the agent\n",
    "    return x + y  # ❌ Unknown what types of values it expects or what it actually does\n",
    "\n",
    "\n",
    "# Example of WELL defined tool (DO THIS)\n",
    "\n",
    "from typing import Dict\n",
    "\n",
    "def convert_temperature(celsius: float) -> Dict[str, float]:\n",
    "    \"\"\"\n",
    "    Converts a temperature in Celsius to Fahrenheit and Kelvin.\n",
    "\n",
    "    Use this tool when the user needs to transform a temperature from the Celsius scale\n",
    "    to other common scales like Fahrenheit or Kelvin.\n",
    "\n",
    "    Args:\n",
    "        celsius (float): Temperature in degrees Celsius.\n",
    "\n",
    "    Returns:\n",
    "        dict: Dictionary with the following keys:\n",
    "            - 'celsius': Original value in Celsius.\n",
    "            - 'fahrenheit': Value converted to Fahrenheit.\n",
    "            - 'kelvin': Value converted to Kelvin.\n",
    "    \"\"\"\n",
    "    fahrenheit = (celsius * 9/5) + 32\n",
    "    kelvin = celsius + 273.15\n",
    "\n",
    "    return {\n",
    "        \"status\": \"success\",\n",
    "        \"celsius\": celsius,\n",
    "        \"fahrenheit\": round(fahrenheit, 2),\n",
    "        \"kelvin\": round(kelvin, 2)\n",
    "    }\n",
    "\n",
    "print(\"✅ Example of well-defined tool created\")"
   ]
  },
  {
   "cell_type": "markdown",
   "metadata": {},
   "source": [
    "## 6. Advanced Use Cases {#advanced-cases}\n",
    "\n",
    "### 🎯 Tool with State and Context"
   ]
  },
  {
   "cell_type": "code",
   "execution_count": null,
   "metadata": {},
   "outputs": [],
   "source": [
    "shopping_cart: list[dict] = []  # Simulated cart state\n",
    "\n",
    "def add_to_cart(product: str, quantity: int) -> dict:\n",
    "    \"\"\"\n",
    "    Adds a valid product to the shopping cart.\n",
    "\n",
    "    Use this tool when the user wants to add a specific product with a certain quantity.\n",
    "\n",
    "    Args:\n",
    "        product (str): Name of the product to add (case insensitive).\n",
    "        quantity (int): Desired quantity of the product.\n",
    "\n",
    "    Returns:\n",
    "        dict: Dictionary with:\n",
    "            - 'status': \"success\" or \"error\"\n",
    "            - 'message': Confirmation or reason for failure\n",
    "            - 'current_cart_size': Total number of items in cart after action (if successful)\n",
    "    \"\"\"\n",
    "    global shopping_cart\n",
    "\n",
    "    shopping_cart.append({\n",
    "        \"product\": product.lower(),\n",
    "        \"quantity\": quantity\n",
    "    })\n",
    "\n",
    "    total_items = sum(item[\"quantity\"] for item in shopping_cart)\n",
    "\n",
    "    return {\n",
    "        \"status\": \"success\",\n",
    "        \"message\": f\"Added {quantity}x '{product}' to cart.\",\n",
    "        \"current_cart_size\": total_items\n",
    "    }\n",
    "\n",
    "def view_cart() -> dict:\n",
    "    \"\"\"\n",
    "    Returns the current contents of the shopping cart.\n",
    "\n",
    "    Use this tool if the user requests to review what products they have added to the cart.\n",
    "\n",
    "    Returns:\n",
    "        dict: Dictionary with:\n",
    "            - 'status': \"success\" or \"empty\"\n",
    "            - 'items': List of products in cart (if any)\n",
    "            - 'total_items': Total number of units (if any)\n",
    "            - 'message': Brief text about cart status\n",
    "    \"\"\"\n",
    "    global shopping_cart\n",
    "\n",
    "    if not shopping_cart:\n",
    "        return {\n",
    "            \"status\": \"empty\",\n",
    "            \"items\": [],\n",
    "            \"total_items\": 0,\n",
    "            \"message\": \"The cart is empty.\"\n",
    "        }\n",
    "\n",
    "    total_items = sum(item[\"quantity\"] for item in shopping_cart)\n",
    "\n",
    "    return {\n",
    "        \"status\": \"success\",\n",
    "        \"items\": shopping_cart,\n",
    "        \"total_items\": total_items,\n",
    "        \"message\": f\"There are {len(shopping_cart)} products in cart, totaling {total_items} units.\"\n",
    "    }"
   ]
  },
  {
   "cell_type": "markdown",
   "metadata": {},
   "source": [
    "### Create e-commerce agent"
   ]
  },
  {
   "cell_type": "code",
   "execution_count": null,
   "metadata": {},
   "outputs": [],
   "source": [
    "# Specialized e-commerce agent\n",
    "ecommerce_agent = LlmAgent(\n",
    "    name=\"EcommerceAgent\",\n",
    "    model=\"gemini-2.5-flash\",\n",
    "    description=\"Online shopping assistant\",\n",
    "    tools=[\n",
    "        search_product_by_name,\n",
    "        add_to_cart,\n",
    "        view_cart,\n",
    "        calculate_percentage  # For discounts\n",
    "    ],\n",
    "    generate_content_config=types.GenerateContentConfig(\n",
    "        temperature=0.2,\n",
    "        max_output_tokens=400\n",
    "    ),\n",
    "    instruction=(\n",
    "        \"You are a friendly and helpful shopping assistant. \"\n",
    "        \"Help users find products, add them to cart \"\n",
    "        \"and calculate discounts when needed. \"\n",
    "        \"Be proactive in suggesting related products.\"\n",
    "    )\n",
    ")\n",
    "\n",
    "print(\"✅ E-commerce agent created\")"
   ]
  },
  {
   "cell_type": "markdown",
   "metadata": {},
   "source": [
    "### Test shopping flow"
   ]
  },
  {
   "cell_type": "code",
   "execution_count": null,
   "metadata": {},
   "outputs": [],
   "source": [
    "# Key concept: SessionService stores conversation history and state.\n",
    "# InMemorySessionService is simple, non-persistent storage for this tutorial.\n",
    "session_service = InMemorySessionService()\n",
    "\n",
    "# Define constants to identify the interaction context\n",
    "APP_NAME = \"ecommerce_agent\"\n",
    "USER_ID = \"user_4\"\n",
    "SESSION_ID = \"004\" # Using a fixed ID for simplicity\n",
    "\n",
    "# Create the specific session where the conversation will occur\n",
    "session = await session_service.create_session(\n",
    "    app_name=APP_NAME,\n",
    "    user_id=USER_ID,\n",
    "    session_id=SESSION_ID\n",
    ")\n",
    "# Runner: This is the main component that manages interaction with the agent.\n",
    "runner = Runner(agent=ecommerce_agent,\n",
    "                app_name=APP_NAME,\n",
    "                session_service=session_service)\n"
   ]
  },
  {
   "cell_type": "code",
   "execution_count": null,
   "metadata": {},
   "outputs": [],
   "source": [
    "# Simulate a shopping flow\n",
    "shopping_flow = [\n",
    "    \"Show me information about the gaming laptop\",\n",
    "    \"Add 1 Gaming Laptop Pro to cart\",\n",
    "    \"I also want 2 Mechanical Gaming Keyboards\",\n",
    "    \"What's in my cart?\",\n",
    "    \"How much would it be with a 10% discount on 1500?\"\n",
    "]\n",
    "\n",
    "print(\"🛍️ Simulating shopping flow:\\n\")\n",
    "\n",
    "for step in shopping_flow:\n",
    "    print(\"-\" * 60 +\"\\n\")\n",
    "    await call_agent_async(step, runner=runner, user_id=USER_ID, session_id=SESSION_ID)"
   ]
  },
  {
   "cell_type": "code",
   "execution_count": null,
   "metadata": {},
   "outputs": [],
   "source": [
    "shopping_cart"
   ]
  },
  {
   "cell_type": "markdown",
   "metadata": {},
   "source": [
    "## 🎯 Final Exercise: Create Your Own Tool"
   ]
  },
  {
   "cell_type": "code",
   "execution_count": null,
   "metadata": {},
   "outputs": [],
   "source": [
    "# EXERCISE: Complete this tool\n",
    "def analyze_sentiment(text: str) -> Dict[str, any]:\n",
    "    \"\"\"\n",
    "    TODO: Complete this tool that analyzes the sentiment of a text.\n",
    "    \n",
    "    Args:\n",
    "        text: Text to analyze\n",
    "        \n",
    "    Returns:\n",
    "        Dictionary with:\n",
    "        - sentiment: \"positive\", \"negative\" or \"neutral\"\n",
    "        - confidence: float between 0 and 1\n",
    "        - keywords: list of words that indicate sentiment\n",
    "    \"\"\"\n",
    "    # YOUR CODE HERE\n",
    "    # Hint: You can use lists of positive/negative words\n",
    "    # or implement simple logic based on keywords\n",
    "    \n",
    "    pass"
   ]
  },
  {
   "cell_type": "markdown",
   "metadata": {},
   "source": [
    "### 📚 Additional Resources"
   ]
  },
  {
   "cell_type": "code",
   "execution_count": null,
   "metadata": {},
   "outputs": [],
   "source": [
    "resources = {\n",
    "    \"ADK Documentation\": \"https://github.com/google/genkit\",\n",
    "    \"Gemini API\": \"https://ai.google.dev\",\n",
    "    \"Best Practices\": \"https://cloud.google.com/apis/design\",\n",
    "    \"Community\": \"https://groups.google.com/g/google-ai-developer-community\"\n",
    "}\n",
    "\n",
    "print(\"📚 RESOURCES FOR FURTHER LEARNING:\")\n",
    "for name, url in resources.items():\n",
    "    print(f\"  • {name}: {url}\")"
   ]
  },
  {
   "cell_type": "markdown",
   "metadata": {},
   "source": [
    "## 🎉 Congratulations!\n",
    "\n",
    "You have completed the tools tutorial in Google ADK. Now you have the knowledge to:\n",
    "- ✅ Use pre-built tools\n",
    "- ✅ Create custom tools with proper definitions\n",
    "- ✅ Integrate multiple tools in an agent\n",
    "- ✅ Implement validations and state management\n",
    "- ✅ Debug and optimize your tools\n",
    "\n",
    "### 🚀 Next Steps"
   ]
  },
  {
   "cell_type": "code",
   "execution_count": null,
   "metadata": {},
   "outputs": [],
   "source": [
    "print(\"\"\"\n",
    "🎯 CHALLENGES TO PRACTICE:\n",
    "\n",
    "1. Create a tool that interacts with a real API\n",
    "2. Implement a tool system for a support chatbot\n",
    "3. Design tools that work together to solve complex problems\n",
    "4. Experiment with tools that maintain state between calls\n",
    "5. Create a specialized agent for your domain of interest\n",
    "\n",
    "Share your creations with the community! 🌟\n",
    "\"\"\")"
   ]
  },
  {
   "cell_type": "markdown",
   "metadata": {},
   "source": [
    "---\n",
    "\n",
    "**Created with ❤️ for the ADK developer community**"
   ]
  }
 ],
 "metadata": {
  "kernelspec": {
   "display_name": "Python 3",
   "language": "python",
   "name": "python3"
  },
  "language_info": {
   "codemirror_mode": {
    "name": "ipython",
    "version": 3
   },
   "file_extension": ".py",
   "mimetype": "text/x-python",
   "name": "python",
   "nbconvert_exporter": "python",
   "pygments_lexer": "ipython3",
   "version": "3.8.5"
  }
 },
 "nbformat": 4,
 "nbformat_minor": 4
}