{
 "cells": [
  {
   "cell_type": "markdown",
   "metadata": {},
   "source": [
    "# 🚀 Complete Tutorial: Google Agent Development Kit (ADK)\n",
    "\n",
    "## 🎯 Introduction to AI Agent Development with Google ADK\n",
    "\n",
    "[![Open In Colab](https://colab.research.google.com/assets/colab-badge.svg)](https://colab.research.google.com/github/)\n",
    "\n",
    "### 📋 What will you learn in this tutorial?\n",
    "\n",
    "1. **What is Google ADK?** - Fundamental concepts\n",
    "2. **Key advantages of ADK** - Why use it\n",
    "3. **Installation and setup** - Prepare your environment\n",
    "4. **Main components** - ADK architecture\n",
    "5. **Your first agent** - Create a functional agent\n",
    "6. **Let's create a deployable agent!** - Functional weather and time agent\n",
    "\n",
    "---\n",
    "\n",
    "### 👤 About this Tutorial\n",
    "\n",
    "This notebook is designed to be a practical and complete guide to Google's Agent Development Kit (ADK). You can run all the code directly in Google Colab.\n",
    "\n",
    "**Prerequisites:**\n",
    "- Basic Python knowledge\n",
    "- Google account (for Colab)\n",
    "- Google AI Studio API Key (we'll get it together)"
   ]
  },
  {
   "cell_type": "markdown",
   "metadata": {},
   "source": [
    "## 📚 Part 1: What is the Agent Development Kit (ADK)?\n",
    "\n",
    "### Definition\n",
    "\n",
    "The **Agent Development Kit (ADK)** is an open-source framework from Google designed to simplify the development of intelligent agents and multi-agent systems.\n",
    "\n",
    "### Main Features:\n",
    "\n",
    "- 🤖 **Multi-agent by design**: Build systems where multiple agents collaborate\n",
    "- 🔧 **Flexible and modular**: Use any AI model (Gemini, Claude, GPT, etc.)\n",
    "- 🛠️ **Integrated tools**: Search, code execution, and more\n",
    "- 🚀 **Production-ready**: Used internally by Google\n",
    "- 📊 **Advanced orchestration**: Precise control over workflows\n",
    "\n",
    "### Why is it important?\n",
    "\n",
    "ADK represents a paradigm shift: we move from single models to **specialized agent systems** that collaborate to solve complex problems."
   ]
  },
  {
   "cell_type": "code",
   "execution_count": null,
   "metadata": {},
   "outputs": [],
   "source": [
    "# Environment verification cell\n",
    "import sys\n",
    "import os\n",
    "from datetime import datetime\n",
    "\n",
    "print(\"🎉 Welcome to the Google ADK Tutorial!\")\n",
    "print(f\"\\n📅 Date: {datetime.now().strftime('%Y-%m-%d %H:%M')}\")\n",
    "print(f\"🐍 Python Version: {sys.version.split()[0]}\")\n",
    "print(f\"💻 Environment: Google Colab\" if 'google.colab' in sys.modules else \"💻 Environment: Local\")\n",
    "print(\"\\n✅ Environment ready to start!\")"
   ]
  },
  {
   "cell_type": "markdown",
   "metadata": {},
   "source": [
    "## 🎯 Part 2: Key Advantages of ADK\n",
    "\n",
    "### 1. 🤝 Multi-agent by Design\n",
    "- Create systems where specialized agents collaborate\n",
    "- Parallel, sequential, or hierarchical orchestration\n",
    "- Built-in modularity and scalability\n",
    "\n",
    "### 2. 🔄 Model Flexibility\n",
    "- Compatible with Gemini, Claude, GPT, Llama, and more\n",
    "- Integration with LiteLLM for maximum compatibility\n",
    "- Model switching without changing architecture\n",
    "\n",
    "### 3. 🛠️ Tool Ecosystem\n",
    "- Pre-built tools (search, code, etc.)\n",
    "- Easy-to-create custom functions\n",
    "- Integration with LangChain and LlamaIndex\n",
    "\n",
    "### 4. 🎼 Flexible Orchestration\n",
    "- Workflow agents\n",
    "- Dynamic routing with LLM\n",
    "- Precise behavior control\n",
    "\n",
    "### 5. 🚀 Developer Experience\n",
    "- Integrated CLI and web UI\n",
    "- Visual debugging\n",
    "- Built-in evaluation\n",
    "- Simplified deployment"
   ]
  },
  {
   "cell_type": "markdown",
   "metadata": {},
   "source": [
    "## ⚙️ Part 3: Installation and Setup\n",
    "\n",
    "### Step 1: Install Google ADK"
   ]
  },
  {
   "cell_type": "code",
   "execution_count": null,
   "metadata": {},
   "outputs": [],
   "source": [
    "# Install Google ADK\n",
    "print(\"📦 Installing Google ADK...\")\n",
    "!pip install -qU google-adk==1.4.2\n",
    "\n",
    "# Install additional useful dependencies\n",
    "!pip install -qU python-dotenv\n",
    "\n",
    "print(\"\\n✅ Installation completed!\")\n",
    "\n",
    "# Verify installation\n",
    "!pip show google-adk | grep -E \"Name:|Version:\""
   ]
  },
  {
   "cell_type": "markdown",
   "metadata": {},
   "source": [
    "_____"
   ]
  },
  {
   "cell_type": "markdown",
   "metadata": {},
   "source": [
    "### Step 2: Configure Credentials\n",
    "\n",
    "To use Google models (like Gemini), you need an API Key.\n",
    "\n",
    "#### 🔑 Get your API Key:\n",
    "1. Go to [Google AI Studio](https://aistudio.google.com/apikey)\n",
    "2. Create or select a project\n",
    "3. Generate a new API Key\n",
    "4. Copy and paste it in the next cell"
   ]
  },
  {
   "cell_type": "markdown",
   "metadata": {},
   "source": [
    "#### Option 1: Enter API manually"
   ]
  },
  {
   "cell_type": "code",
   "execution_count": null,
   "metadata": {},
   "outputs": [],
   "source": [
    "# Configure credentials securely\n",
    "import os\n",
    "from getpass import getpass\n",
    "\n",
    "# Request API Key securely\n",
    "if 'GOOGLE_API_KEY' not in os.environ:\n",
    "    print(\"🔑 Please enter your Google API Key:\")\n",
    "    api_key = getpass(\"API Key: \")\n",
    "    os.environ['GOOGLE_API_KEY'] = api_key\n",
    "    os.environ['GOOGLE_GENAI_USE_VERTEXAI'] = 'FALSE'\n",
    "    print(\"\\n✅ API Key configured correctly\")\n",
    "else:\n",
    "    print(\"✅ API Key already configured\")\n",
    "\n",
    "# Verify that variables are configured\n",
    "print(f\"\\n📋 Configured environment variables:\")\n",
    "print(f\"   - GOOGLE_API_KEY: {'✓' if os.environ.get('GOOGLE_API_KEY') else '✗'}\")\n",
    "print(f\"   - GOOGLE_GENAI_USE_VERTEXAI: {os.environ.get('GOOGLE_GENAI_USE_VERTEXAI', 'Not configured')}\")"
   ]
  },
  {
   "cell_type": "markdown",
   "metadata": {},
   "source": [
    "#### Option 2 - Dotenv"
   ]
  },
  {
   "cell_type": "code",
   "execution_count": null,
   "metadata": {},
   "outputs": [],
   "source": [
    "from dotenv import load_dotenv\n",
    "# Load environment variables from .env if it exists\n",
    "load_dotenv(override=True)"
   ]
  },
  {
   "cell_type": "markdown",
   "metadata": {},
   "source": [
    "_____"
   ]
  },
  {
   "cell_type": "markdown",
   "metadata": {},
   "source": [
    "## 🏗️ Part 4: Main ADK Components\n",
    "\n",
    "### ADK Architecture\n",
    "\n",
    "```\n",
    "┌─────────────────────────────────────────────┐\n",
    "│              Google ADK                     │\n",
    "├─────────────────────────────────────────────┤\n",
    "│                                             │\n",
    "│  ┌─────────┐  ┌─────────┐  ┌─────────┐      │\n",
    "│  │ Agents  │  │  Tools  │  │Sessions │      │\n",
    "│  └────┬────┘  └────┬────┘  └────┬────┘      │\n",
    "│       │            │             │          │\n",
    "│  ┌────┴────────────┴─────────────┴────┐     │\n",
    "│  │           Runners                  │     │\n",
    "│  └────────────────────────────────────┘     │\n",
    "│                                             │\n",
    "└─────────────────────────────────────────────┘\n",
    "```\n",
    "\n",
    "### Key Components:\n",
    "\n",
    "1. **🤖 Agents**\n",
    "   - `LlmAgent`: LLM-driven agent\n",
    "   - `WorkflowAgent`: Orchestrator of other agents\n",
    "   - Specialized types: Sequential, Parallel, Loop\n",
    "\n",
    "2. **🔧 Tools**\n",
    "   - Functions that agents can use\n",
    "   - Pre-built: search, code, etc.\n",
    "   - Customizable according to needs\n",
    "\n",
    "3. **▶️ Runners**\n",
    "   - Manage execution flow\n",
    "   - Handle messages and events\n",
    "   - Control state\n",
    "\n",
    "4. **💾 Sessions**\n",
    "   - Maintain context between interactions\n",
    "   - Persist important information\n",
    "   - Enable continuous conversations"
   ]
  },
  {
   "cell_type": "markdown",
   "metadata": {},
   "source": [
    "_____"
   ]
  },
  {
   "cell_type": "markdown",
   "metadata": {},
   "source": [
    "## 🎈 Part 5: Your First Agent with ADK!\n",
    "\n",
    "### Create a Simple Agent\n",
    "\n",
    "Let's create our first agent: an assistant that can search for information on Google."
   ]
  },
  {
   "cell_type": "code",
   "execution_count": null,
   "metadata": {},
   "outputs": [],
   "source": [
    "from google.adk.agents import Agent\n",
    "from google.adk.runners import Runner\n",
    "from google.adk.sessions import InMemorySessionService\n",
    "from google.adk.tools import google_search\n",
    "from google.genai import types"
   ]
  },
  {
   "cell_type": "code",
   "execution_count": null,
   "metadata": {},
   "outputs": [],
   "source": [
    "agent_search = Agent(\n",
    "    name=\"SimpleSearchAgent\",\n",
    "    model=\"gemini-2.5-flash\",  # Fast and efficient model\n",
    "    description=\"A friendly agent that can search for up-to-date information on Google.\",\n",
    "    tools=[google_search], # Search tool\n",
    "    instruction=(\n",
    "        \"You are a friendly and helpful assistant.\"\n",
    "        \"When asked a question, use the Google search tool if necessary.\"\n",
    "        \"Provide concise and clear answers.\"\n",
    "        \"If you're unsure, search for up-to-date information.\"\n",
    "        \"Always be polite and professional.\"\n",
    "    )\n",
    ")"
   ]
  },
  {
   "cell_type": "code",
   "execution_count": null,
   "metadata": {},
   "outputs": [],
   "source": [
    "# Key concept: SessionService stores conversation history and state.\n",
    "# InMemorySessionService is simple, non-persistent storage for this tutorial.\n",
    "session_service = InMemorySessionService()\n",
    "\n",
    "# Define constants to identify the interaction context\n",
    "APP_NAME = \"my_first_agent\"\n",
    "USER_ID = \"user_1\"\n",
    "SESSION_ID = \"session_001\" # Using a fixed ID for simplicity\n",
    "\n",
    "# Create the specific session where the conversation will occur\n",
    "session = await session_service.create_session(\n",
    "    app_name=APP_NAME,\n",
    "    user_id=USER_ID,\n",
    "    session_id=SESSION_ID\n",
    ")\n",
    "print(f\"Session created: App='{APP_NAME}', User='{USER_ID}', Session='{SESSION_ID}'\")\n"
   ]
  },
  {
   "cell_type": "code",
   "execution_count": null,
   "metadata": {},
   "outputs": [],
   "source": [
    "# Runner: This is the main component that manages interaction with the agent.\n",
    "runner = Runner(agent=agent_search,\n",
    "                app_name=APP_NAME,\n",
    "                session_service=session_service)\n",
    "\n",
    "print(f\"Runner created for agent '{runner.agent.name}'.\")\n"
   ]
  },
  {
   "cell_type": "code",
   "execution_count": null,
   "metadata": {},
   "outputs": [],
   "source": [
    "# Example: Sending messages to the agent\n",
    "events = runner.run(user_id=USER_ID,\n",
    "          session_id=SESSION_ID,\n",
    "          new_message=types.Content(role='user', parts=[types.Part(text=\"Who are you?\")]))\n",
    "\n",
    "for event in events:\n",
    "    if event.is_final_response():\n",
    "        if event.grounding_metadata.grounding_chunks:\n",
    "            for _ in event.grounding_metadata.grounding_chunks:\n",
    "                print(f\"Grounding Chunk: {_.web.title}\")\n",
    "        # Extract the agent's final response\n",
    "        else:\n",
    "            print(\"Grounding is not necessary.\")                 \n",
    "        final_response = event.content.parts[0].text\n",
    "        print(\"Agent Response: \", final_response)"
   ]
  },
  {
   "cell_type": "code",
   "execution_count": null,
   "metadata": {},
   "outputs": [],
   "source": [
    "# Example: Sending messages to the agent\n",
    "events = runner.run(user_id=USER_ID,\n",
    "          session_id=SESSION_ID,\n",
    "          new_message=types.Content(role='user', parts=[types.Part(text=\"What are the latest news about AI?\")]))\n",
    "\n",
    "for event in events:\n",
    "    if event.is_final_response():\n",
    "        if event.grounding_metadata.grounding_chunks:\n",
    "            for _ in event.grounding_metadata.grounding_chunks:\n",
    "                print(f\"Grounding Chunk: {_.web.title}\")\n",
    "        # Extract the agent's final response\n",
    "        else:\n",
    "            print(\"Grounding is not necessary.\")                 \n",
    "        final_response = event.content.parts[0].text\n",
    "        print(\"Agent Response: \", final_response)"
   ]
  },
  {
   "cell_type": "markdown",
   "metadata": {},
   "source": [
    "### Communicating with the agent using `async`\n",
    "\n",
    "We need a way to send messages to our agent and receive its responses. Since calls to language models (LLMs) and tool execution can take time, ADK's `Runner` works asynchronously.\n",
    "\n",
    "Let's define an asynchronous helper function (`call_agent_async`) that:\n",
    "\n",
    "* Receives a text string with the user's query.\n",
    "* Packages it in ADK's `Content` format.\n",
    "* Calls `runner.run_async`, providing the user/session context and the new message.\n",
    "* Iterates through the `Events` generated by the `runner`. Events represent steps in agent execution (e.g., tool request, result reception, LLM intermediate thinking, final response).\n",
    "* Identifies and prints the final response event using `event.is_final_response()`.\n",
    "\n",
    "#### Why use `async`?\n",
    "\n",
    "Interactions with LLMs and tools (like external APIs) are I/O-bound operations. Using `asyncio` allows handling these operations efficiently without blocking program execution.\n",
    "\n",
    "---\n"
   ]
  },
  {
   "cell_type": "code",
   "execution_count": null,
   "metadata": {},
   "outputs": [],
   "source": [
    "async def call_agent_async(query: str, runner, user_id, session_id):\n",
    "    \"\"\"Sends a query to the agent and prints the final response.\"\"\"\n",
    "    print(f\"\\n>>> User query: {query}\")\n",
    "\n",
    "    # Prepare the user message in ADK format\n",
    "    content = types.Content(role='user', parts=[types.Part(text=query)])\n",
    "\n",
    "    final_response_text = \"The agent did not produce a final response.\" # Default value\n",
    "\n",
    "    # Key concept: run_async executes the agent's logic and generates events.\n",
    "    # We iterate through events to find the final response.\n",
    "    async for event in runner.run_async(user_id=user_id, session_id=session_id, new_message=content):\n",
    "        # You can uncomment the line below to see *all* events during execution\n",
    "        # print(f\"  [Event] Author: {event.author}, Type: {type(event).__name__}, Final: {event.is_final_response()}, Content: {event.content}\")\n",
    "\n",
    "        # Key concept: is_final_response() marks the message that concludes the turn.\n",
    "        if event.is_final_response():\n",
    "            if event.content and event.content.parts:\n",
    "                # Assume the text response is in the first part\n",
    "                final_response_text = event.content.parts[0].text\n",
    "            elif event.actions and event.actions.escalate: # Handle possible errors/escalations\n",
    "                final_response_text = f\"The agent escalated: {event.error_message or 'No specific message.'}\"\n",
    "            # Add more validations here if needed (e.g., specific error codes)\n",
    "            break # Stop processing events once final response is found\n",
    "\n",
    "    print(f\"<<< Agent response: {final_response_text}\")"
   ]
  },
  {
   "cell_type": "code",
   "execution_count": null,
   "metadata": {},
   "outputs": [],
   "source": [
    "await call_agent_async(\"What are the latest news about AI?...search the internet if needed\",\n",
    "                        runner=runner,\n",
    "                        user_id=USER_ID,\n",
    "                        session_id=SESSION_ID)"
   ]
  },
  {
   "cell_type": "markdown",
   "metadata": {},
   "source": [
    "_____"
   ]
  },
  {
   "cell_type": "markdown",
   "metadata": {},
   "source": [
    "## 🎈 Part 6: Before we finish, let's create a deployable agent!\n",
    "\n",
    "### We'll create the hello world of agents in .py format\n",
    "\n",
    "Let's create our first agent capable of identifying whether to call a time or weather function as appropriate using ADK's interactive environments"
   ]
  },
  {
   "cell_type": "markdown",
   "metadata": {},
   "source": [
    "\n",
    "### 🧭 Navigate to the project structure and run the appropriate command\n",
    "\n",
    "Make sure to navigate to the correct directory within the course. Once there, you can run one of the following commands as appropriate:\n",
    "\n",
    "* To open the agent's web interface:\n",
    "\n",
    "  ```bash\n",
    "  adk web\n",
    "  ```\n",
    "\n",
    "* To run the agent directly from console:\n",
    "\n",
    "  ```bash\n",
    "  adk run \"My First Agent\"\n",
    "  ```\n",
    "\n",
    "### 📂 Expected project structure:\n",
    "\n",
    "```\n",
    "My First Agent\n",
    "├── __init__.py\n",
    "└── agent.py\n",
    "```"
   ]
  },
  {
   "cell_type": "markdown",
   "metadata": {},
   "source": [
    "_____"
   ]
  },
  {
   "cell_type": "markdown",
   "metadata": {},
   "source": [
    "## 🎓 Conclusion and Next Steps\n",
    "\n",
    "### 🎉 Congratulations!\n",
    "\n",
    "You have completed this comprehensive introduction to the Google Agent Development Kit. You have learned:\n",
    "\n",
    "✅ What ADK is and its key advantages\n",
    "\n",
    "✅ How to install and configure the environment\n",
    "\n",
    "✅ The main components of the architecture\n",
    "\n",
    "✅ How to create your first agent\n",
    "\n",
    "✅ ADK run and ADK web\n",
    "\n",
    "✅ Best practices for development"
   ]
  }
 ],
 "metadata": {
  "kernelspec": {
   "display_name": "Python 3",
   "language": "python",
   "name": "python3"
  },
  "language_info": {
   "codemirror_mode": {
    "name": "ipython",
    "version": 3
   },
   "file_extension": ".py",
   "mimetype": "text/x-python",
   "name": "python",
   "nbconvert_exporter": "python",
   "pygments_lexer": "ipython3",
   "version": "3.8.5"
  }
 },
 "nbformat": 4,
 "nbformat_minor": 4
}