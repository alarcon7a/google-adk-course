{
 "cells": [
  {
   "cell_type": "markdown",
   "metadata": {},
   "source": [
    "# 🌐 ADK + MCP: Connect your Agents to the Universe of Tools!\n",
    "## Model Context Protocol - Class 4\n",
    "\n",
    "---\n",
    "\n",
    "## 📋 Index\n",
    "1. [Initial Setup](#initial-setup)\n",
    "2. [What is the Model Context Protocol (MCP)?](#what-is-mcp)\n",
    "3. [ADK and MCP Integration Patterns](#integration-patterns)\n",
    "4. [Example 1: ADK with Filesystem MCP Server](#filesystem-example)\n",
    "5. [Example 2: ADK with Third-party MCP Server](#third-party-example)\n",
    "6. [Creating an MCP Server with ADK](#create-server)\n",
    "7. [Key Considerations](#considerations)\n",
    "8. [Exercises and Resources](#exercises)"
   ]
  },
  {
   "cell_type": "markdown",
   "metadata": {},
   "source": [
    "## 🎯 Introduction\n",
    "\n",
    "In this class we will learn to integrate the **Model Context Protocol (MCP)** with our ADK agents. MCP is an open standard that allows LLMs to communicate with external applications in a standardized way.\n",
    "\n",
    "### What you will learn:\n",
    "- 🔌 Connect ADK agents to existing MCP servers\n",
    "- 🛠️ Use MCP tools as if they were native ADK tools\n",
    "- 🌐 Expose ADK tools through MCP servers\n",
    "- 🚀 Exponentially expand your agents' capabilities"
   ]
  },
  {
   "cell_type": "markdown",
   "metadata": {},
   "source": [
    "## 1. Initial Setup {#initial-setup}\n",
    "\n",
    "### Installing dependencies"
   ]
  },
  {
   "cell_type": "code",
   "execution_count": null,
   "metadata": {},
   "outputs": [],
   "source": [
    "# Install Google ADK and MCP\n",
    "!pip install -qU google-adk==1.4.2 mcp==1.9.4 python-dotenv\n",
    "\n",
    "# Install Node.js on Colab (needed to run MCP servers)\n",
    "!apt-get update && apt-get install -y nodejs npm\n",
    "\n",
    "# Verify installations\n",
    "!node --version\n",
    "!npm --version\n",
    "!npx --version\n",
    "\n",
    "print(\"\\n✅ Dependencies installed correctly!\")"
   ]
  },
  {
   "cell_type": "code",
   "execution_count": null,
   "metadata": {},
   "outputs": [],
   "source": [
    "# Necessary imports\n",
    "import os\n",
    "import json\n",
    "from typing import List, Dict, Optional\n",
    "from google.adk.agents import LlmAgent\n",
    "from google.adk.tools.mcp_tool.mcp_toolset import MCPToolset, StdioServerParameters\n",
    "from google.adk.runners import Runner\n",
    "from google.adk.sessions import InMemorySessionService\n",
    "from google.genai import types\n",
    "from getpass import getpass"
   ]
  },
  {
   "cell_type": "code",
   "execution_count": null,
   "metadata": {},
   "outputs": [],
   "source": [
    "# Request API Key securely\n",
    "if 'GOOGLE_API_KEY' not in os.environ:\n",
    "    print(\"🔑 Please enter your Google API Key:\")\n",
    "    api_key = getpass(\"API Key: \")\n",
    "    os.environ['GOOGLE_API_KEY'] = api_key\n",
    "    os.environ['GOOGLE_GENAI_USE_VERTEXAI'] = 'FALSE'\n",
    "    print(\"\\n✅ API Key configured correctly\")\n",
    "else:\n",
    "    print(\"✅ API Key already configured\")\n",
    "\n",
    "# Verify that variables are configured\n",
    "print(f\"\\n📋 Configured environment variables:\")\n",
    "print(f\"   - GOOGLE_API_KEY: {'✓' if os.environ.get('GOOGLE_API_KEY') else '✗'}\")\n",
    "print(f\"   - GOOGLE_GENAI_USE_VERTEXAI: {os.environ.get('GOOGLE_GENAI_USE_VERTEXAI', 'Not configured')}\")\n",
    "\n",
    "print(\"✅ ADK installed and configured correctly!\")"
   ]
  },
  {
   "cell_type": "code",
   "execution_count": null,
   "metadata": {},
   "outputs": [],
   "source": [
    "from dotenv import load_dotenv\n",
    "# Load environment variables from .env if it exists\n",
    "load_dotenv(override=True)"
   ]
  },
  {
   "cell_type": "markdown",
   "metadata": {},
   "source": [
    "### Our inference function"
   ]
  },
  {
   "cell_type": "code",
   "execution_count": null,
   "metadata": {},
   "outputs": [],
   "source": [
    "async def call_agent_async(query: str, runner, user_id, session_id):\n",
    "    \"\"\"Sends a query to the agent and prints the final response.\"\"\"\n",
    "    print(f\"\\n>>> User query: {query}\")\n",
    "\n",
    "    # Prepare the user message in ADK format\n",
    "    content = types.Content(role='user', parts=[types.Part(text=query)])\n",
    "\n",
    "    final_response_text = \"The agent did not produce a final response.\" # Default value\n",
    "\n",
    "    # Key concept: run_async executes the agent's logic and generates events.\n",
    "    # We iterate through events to find the final response.\n",
    "    async for event in runner.run_async(user_id=user_id, session_id=session_id, new_message=content):\n",
    "        # You can uncomment the line below to see *all* events during execution\n",
    "        # print(f\"  [Event] Author: {event.author}, Type: {type(event).__name__}, Final: {event.is_final_response()}, Content: {event.content}\")\n",
    "\n",
    "        # Key concept: is_final_response() marks the message that concludes the turn.\n",
    "        if event.is_final_response():\n",
    "            if event.content and event.content.parts:\n",
    "                # Assume the text response is in the first part\n",
    "                final_response_text = event.content.parts[0].text\n",
    "            elif event.actions and event.actions.escalate: # Handle possible errors/escalations\n",
    "                final_response_text = f\"The agent escalated: {event.error_message or 'No specific message.'}\"\n",
    "            # Add more validations here if needed (e.g., specific error codes)\n",
    "            break # Stop processing events once final response is found\n",
    "\n",
    "    print(f\"<<< Agent response: {final_response_text}\")"
   ]
  },
  {
   "cell_type": "markdown",
   "metadata": {},
   "source": [
    "## 2. What is the Model Context Protocol (MCP)? {#what-is-mcp}\n",
    "\n",
    "The **Model Context Protocol (MCP)** is an open standard that standardizes how LLMs communicate with external applications.\n",
    "\n",
    "### Key Concepts:\n",
    "\n",
    "- **🔌 Universal Connection**: MCP acts as a \"common language\" between LLMs and external services\n",
    "- **📡 Client-Server Architecture**:\n",
    "  - **MCP Server**: Exposes resources, prompts and tools\n",
    "  - **MCP Client**: Consumes these capabilities (like our ADK agents)\n",
    "- **🛠️ Standardized Tools**: Tools are described with a common schema"
   ]
  },
  {
   "cell_type": "code",
   "execution_count": null,
   "metadata": {},
   "outputs": [],
   "source": [
    "# Conceptual visualization of MCP\n",
    "print(\"\"\"\n",
    "🤖 ADK AGENT (MCP Client)\n",
    "        ↕️ [MCP Protocol]\n",
    "📦 MCP SERVERS\n",
    "    ├── 📁 File System\n",
    "    ├── 🗺️ Google Maps\n",
    "    ├── 💾 Databases\n",
    "    ├── 🌐 Web APIs\n",
    "    └── 🔧 Custom Tools\n",
    "\n",
    "✨ One protocol, infinite possibilities!\n",
    "\"\"\")"
   ]
  },
  {
   "cell_type": "markdown",
   "metadata": {},
   "source": [
    "## 3. ADK and MCP Integration Patterns {#integration-patterns}\n",
    "\n",
    "### Two main patterns:\n",
    "\n",
    "#### 1️⃣ **ADK as MCP Client** (most common)\n",
    "- Your ADK agent uses tools from existing MCP servers\n",
    "- We use `MCPToolset` to connect\n",
    "\n",
    "#### 2️⃣ **ADK as MCP Provider**\n",
    "- We expose ADK tools through an MCP server\n",
    "- Other systems can use our tools"
   ]
  },
  {
   "cell_type": "markdown",
   "metadata": {},
   "source": [
    "## 4. Example 1: ADK with Filesystem MCP Server {#filesystem-example}\n",
    "\n",
    "### 📁 We will connect an ADK agent to an MCP server that provides file operations"
   ]
  },
  {
   "cell_type": "code",
   "execution_count": null,
   "metadata": {},
   "outputs": [],
   "source": [
    "# Create folder and test files\n",
    "import os\n",
    "\n",
    "# Create working directory\n",
    "WORK_DIR = \"/Users/alarcon7a/GIT/google-adk-course/sources_en/Class 4 - MCP/test_folder\"\n",
    "os.makedirs(WORK_DIR, exist_ok=True)\n",
    "\n",
    "# Create example files\n",
    "files_to_create = {\n",
    "    \"readme.txt\": \"Welcome to the MCP with ADK tutorial!\\nThis is an example file.\",\n",
    "    \"data.json\": json.dumps({\"name\": \"ADK\", \"version\": \"1.0\", \"features\": [\"agents\", \"tools\", \"mcp\"]}, indent=2),\n",
    "    \"shopping_list.txt\": \"- Milk\\n- Bread\\n- Eggs\\n- Coffee\\n- Fruits\",\n",
    "    \"notes.md\": \"# Course Notes\\n\\n## MCP\\n- Model Context Protocol\\n- ADK Integration\\n- Practical Examples\"\n",
    "}\n",
    "\n",
    "for filename, content in files_to_create.items():\n",
    "    with open(os.path.join(WORK_DIR, filename), \"w\") as f:\n",
    "        f.write(content)\n",
    "\n",
    "print(f\"✅ Working directory created: {WORK_DIR}\")\n",
    "print(\"\\n📁 Files created:\")\n",
    "for filename in os.listdir(WORK_DIR):\n",
    "    print(f\"  - {filename}\")"
   ]
  },
  {
   "cell_type": "code",
   "execution_count": null,
   "metadata": {},
   "outputs": [],
   "source": [
    "from google.adk.tools.mcp_tool.mcp_toolset import StdioConnectionParams"
   ]
  },
  {
   "cell_type": "code",
   "execution_count": null,
   "metadata": {},
   "outputs": [],
   "source": [
    "# Create agent with MCPToolset for filesystem\n",
    "filesystem_agent = LlmAgent(\n",
    "    model='gemini-2.5-flash',\n",
    "    name='filesystem_assistant',\n",
    "    description='Assistant for file management using MCP',\n",
    "    instruction=(\n",
    "        \"You are an expert file management assistant. \"\n",
    "        \"You can list files, read their content and help the user \"\n",
    "        \"organize their information. You work with the directory: \" + WORK_DIR\n",
    "    ),\n",
    "    tools=[\n",
    "        MCPToolset(\n",
    "            connection_params=StdioConnectionParams(\n",
    "            server_params=StdioServerParameters(\n",
    "                command='npx',\n",
    "                args=[\n",
    "                    \"-y\",  # Argument for npx to auto-confirm install\n",
    "                    \"@modelcontextprotocol/server-filesystem\",\n",
    "                    # IMPORTANT: This MUST be an ABSOLUTE path to a folder the\n",
    "                    # npx process can access.\n",
    "                    # Replace with a valid absolute path on your system.\n",
    "                    os.path.abspath(WORK_DIR),\n",
    "                ],\n",
    "            ),\n",
    "            timeout=60\n",
    "            ),\n",
    "        )\n",
    "    ],\n",
    "    generate_content_config=types.GenerateContentConfig(\n",
    "        temperature=0.1,\n",
    "        max_output_tokens=500\n",
    "    )\n",
    ")\n",
    "\n",
    "print(\"✅ Filesystem agent created with MCPToolset\")\n",
    "print(\"\\n🔧 The agent can:\")\n",
    "print(\"  - List files in the directory\")\n",
    "print(\"  - Read file contents\")\n",
    "print(\"  - Navigate folder structure\")"
   ]
  },
  {
   "cell_type": "markdown",
   "metadata": {},
   "source": [
    "### Test the filesystem agent"
   ]
  },
  {
   "cell_type": "code",
   "execution_count": null,
   "metadata": {},
   "outputs": [],
   "source": [
    "# Key concept: SessionService stores conversation history and state.\n",
    "# InMemorySessionService is simple, non-persistent storage for this tutorial.\n",
    "session_service = InMemorySessionService()\n",
    "\n",
    "# Define constants to identify the interaction context\n",
    "APP_NAME = \"mcp_filesystem_tutorial\"\n",
    "USER_ID = \"user_1\"\n",
    "SESSION_ID = \"session_001\" # Using a fixed ID for simplicity\n",
    "\n",
    "# Create the specific session where the conversation will occur\n",
    "session = await session_service.create_session(\n",
    "    app_name=APP_NAME,\n",
    "    user_id=USER_ID,\n",
    "    session_id=SESSION_ID\n",
    ")\n",
    "# Runner: This is the main component that manages interaction with the agent.\n",
    "runner = Runner(agent=filesystem_agent,\n",
    "                app_name=APP_NAME,\n",
    "                session_service=session_service)\n"
   ]
  },
  {
   "cell_type": "code",
   "execution_count": null,
   "metadata": {},
   "outputs": [],
   "source": [
    "await call_agent_async(\n",
    "    query=\"What files are in the test_folder directory?\",\n",
    "    runner=runner,\n",
    "    user_id=USER_ID,\n",
    "    session_id=SESSION_ID\n",
    ")"
   ]
  },
  {
   "cell_type": "code",
   "execution_count": null,
   "metadata": {},
   "outputs": [],
   "source": [
    "await call_agent_async(\n",
    "    query=\"Can you read the content of readme.txt?\",\n",
    "    runner=runner,\n",
    "    user_id=USER_ID,\n",
    "    session_id=SESSION_ID\n",
    ")"
   ]
  },
  {
   "cell_type": "code",
   "execution_count": null,
   "metadata": {},
   "outputs": [],
   "source": [
    "await call_agent_async(\n",
    "    query=\"Create a new file called 'translated_readme.txt' with the text from readme.txt but translate the content to Spanish.\",\n",
    "    runner=runner,\n",
    "    user_id=USER_ID,\n",
    "    session_id=SESSION_ID\n",
    ")"
   ]
  },
  {
   "cell_type": "markdown",
   "metadata": {},
   "source": [
    "## 5. Example 2: ADK with Third-party MCP Server {#third-party-example}\n",
    "\n",
    "🗺️ We will connect an agent to Google Maps through MCP (In the [MCP_Maps](MCP_Maps) folder)\n",
    "\n",
    "🐦 We will connect an agent to Twitter through MCP (In the [MCP_Twitter](MCP_Twitter) folder)"
   ]
  },
  {
   "cell_type": "markdown",
   "metadata": {},
   "source": [
    "---"
   ]
  },
  {
   "cell_type": "markdown",
   "metadata": {},
   "source": [
    "## 6. Creating an MCP Server with ADK {#create-server}\n",
    "\n",
    "### 🛠️ Now we will expose an ADK tool through MCP"
   ]
  },
  {
   "cell_type": "markdown",
   "metadata": {},
   "source": [
    "### 6.1 What is MCP?\n",
    "Model Context Protocol (MCP) is a standardized protocol for LLMs to communicate with external applications. It works with a client-server architecture where:\n",
    "\n",
    "- **MCP Server**: Exposes tools/functions (your e-commerce logic)\n",
    "- **MCP Client**: Consumes these tools (the ADK agent)"
   ]
  },
  {
   "cell_type": "markdown",
   "metadata": {},
   "source": [
    "### 6.2. Main Server Components"
   ]
  },
  {
   "cell_type": "markdown",
   "metadata": {},
   "source": [
    "#### These imports bring:\n",
    "\n",
    "- `mcp_types`: MCP protocol data types\n",
    "- `Server`: Base class for creating an MCP server\n",
    "- `InitializationOptions`: Initialization configuration\n",
    "- `stdio`: Standard input/output communication (stdin/stdout)\n",
    "\n",
    "---"
   ]
  },
  {
   "cell_type": "code",
   "execution_count": null,
   "metadata": {},
   "outputs": [],
   "source": [
    "from mcp import types as mcp_types\n",
    "from mcp.server.lowlevel import Server\n",
    "from mcp.server.models import InitializationOptions\n",
    "import mcp.server.stdio"
   ]
  },
  {
   "cell_type": "markdown",
   "metadata": {},
   "source": [
    "### 6.3. Communication Flow\n",
    "\n",
    "**ADK Client ←→ MCPToolset ←→ [stdin/stdout] ←→ MCP Server**\n",
    "\n",
    "The MCP server communicates through:\n",
    "\n",
    "- `stdin`: Receives commands from client\n",
    "- `stdout`: Sends responses to client\n",
    "- **JSON-RPC Protocol**: Structured messages\n",
    "\n",
    "---"
   ]
  },
  {
   "cell_type": "markdown",
   "metadata": {},
   "source": [
    "### 6.4 Main Handlers\n",
    "\n",
    "```python\n",
    "@app.list_tools()\n",
    "async def list_mcp_tools() -> list[mcp_types.Tool]:\n",
    "```\n",
    "\n",
    "**Purpose**: When a client connects, it first asks \"what tools do you have available?\"\n",
    "\n",
    "**Process**:\n",
    "\n",
    "- Client sends: `list_tools request`\n",
    "- Server responds with an array of `mcp_types.Tool`, including:\n",
    "  - `name`: Unique identifier\n",
    "  - `description`: What the tool does\n",
    "  - `inputSchema`: JSON schema of expected parameters\n",
    "\n",
    "```python\n",
    "@app.call_tool()\n",
    "async def call_mcp_tool(name: str, arguments: dict) -> list[mcp_types.Content]:\n",
    "```\n",
    "\n",
    "**Purpose**: Executes a specific tool when the client requests it.\n",
    "\n",
    "**Process**:\n",
    "\n",
    "- Client sends: `call_tool` with `name` and `arguments`\n",
    "- Server executes corresponding logic\n",
    "- Server responds with `mcp_types.Content` (result)\n",
    "\n",
    "---"
   ]
  },
  {
   "cell_type": "markdown",
   "metadata": {},
   "source": [
    "### 6.5 Complete Execution Flow\n",
    "\n",
    "```python\n",
    "async def run_mcp_stdio_server():\n",
    "    async with mcp.server.stdio.stdio_server() as (read_stream, write_stream):\n",
    "        await app.run(\n",
    "            read_stream,\n",
    "            write_stream,\n",
    "            InitializationOptions(...)\n",
    "        )\n",
    "```\n",
    "\n",
    "**Initialization**:\n",
    "\n",
    "- Server is created with `Server(\"ecommerce-mcp-server\")`\n",
    "- Handlers are configured (`list_tools`, `call_tool`)\n",
    "\n",
    "**Handshake**:\n",
    "\n",
    "- Client connects\n",
    "- Server sends its capabilities\n",
    "- Client requests tool list\n",
    "\n",
    "**Operation Cycle**:\n",
    "\n",
    "```\n",
    "Client: \"I want to search for laptop\"\n",
    "↓\n",
    "MCPToolset: call_tool(\"search_product\", {\"product_name\": \"laptop\"})\n",
    "↓\n",
    "MCP Server: Execute search\n",
    "↓\n",
    "MCP Server: Return result as JSON\n",
    "↓\n",
    "Client: Receive and display result\n",
    "```\n",
    "\n",
    "---"
   ]
  },
  {
   "cell_type": "markdown",
   "metadata": {},
   "source": [
    "### 6.6 Architecture Diagram\n",
    "\n",
    "```\n",
    "┌─────────────────┐\n",
    "│      User       │\n",
    "└────────┬────────┘\n",
    "         │\n",
    "┌────────▼────────┐\n",
    "│   ADK Agent     │\n",
    "│  (MCP Client)   │\n",
    "└────────┬────────┘\n",
    "         │\n",
    "┌────────▼────────┐\n",
    "│   MCPToolset    │ ← Manages connection\n",
    "└────────┬────────┘\n",
    "         │ JSON-RPC over stdio\n",
    "┌────────▼────────┐\n",
    "│   MCP Server    │\n",
    "│ ┌─────────────┐ │\n",
    "│ │ list_tools  │ │ ← Exposes tools\n",
    "│ └─────────────┘ │\n",
    "│ ┌─────────────┐ │\n",
    "│ │ call_tool   │ │ ← Executes logic\n",
    "│ └─────────────┘ │\n",
    "│ ┌─────────────┐ │\n",
    "│ │    State    │ │ ← Cart, products\n",
    "│ └─────────────┘ │\n",
    "└─────────────────┘\n",
    "```\n",
    "\n",
    "> This architecture allows your e-commerce logic to be completely independent of the ADK agent, making it more modular and reusable."
   ]
  },
  {
   "cell_type": "markdown",
   "metadata": {},
   "source": [
    "### 6.7 Hands On\n",
    "\n",
    "Let's go to the ecommerce_mcp folder in this class.\n",
    "\n",
    "There you will find [ecommerce_mcp_server.py](MCP_Ecommerce/ecommerce_mcp_server.py) script where we deploy our ecommerce from the previous class as an MCP server.\n",
    "\n",
    "And our agent that consumes this custom server as a client [agent.py](MCP_Ecommerce/agent.py)"
   ]
  },
  {
   "cell_type": "markdown",
   "metadata": {},
   "source": [
    "---"
   ]
  },
  {
   "cell_type": "markdown",
   "metadata": {},
   "source": [
    "## 7. Key Considerations {#considerations}\n",
    "\n",
    "### 🔑 Important points when working with ADK and MCP:"
   ]
  },
  {
   "cell_type": "markdown",
   "metadata": {},
   "source": [
    "### 1. Protocol vs Library\n",
    "\n",
    "* **MCP**: Is a protocol specification\n",
    "* **ADK**: Is a Python library\n",
    "* **MCPToolset**: Implements the MCP client in ADK\n",
    "\n",
    "### 2. ADK Tools vs MCP\n",
    "\n",
    "* **ADK Tools**: Python objects (Function calling, Built-in tools)\n",
    "* **MCP Tools**: Capabilities exposed according to MCP schema\n",
    "* **Conversion**: `MCPToolset` converts automatically\n",
    "\n",
    "### 3. Asynchronous Nature\n",
    "\n",
    "* **ADK**: Based on `asyncio`\n",
    "* **MCP**: Also asynchronous\n",
    "* **Implication**: Use `async/await` correctly\n",
    "\n",
    "### 4. Connection Management\n",
    "\n",
    "* **MCPToolset**: Manages lifecycle\n",
    "* **Sessions**: MCP maintains state\n",
    "* **Cleanup**: Important to close connections\n",
    "\n",
    "### 5. Paths and Permissions\n",
    "\n",
    "* **Absolute paths**: Always use complete paths\n",
    "* **Permissions**: MCP server needs access\n",
    "* **Security**: Limit tool scope"
   ]
  },
  {
   "cell_type": "markdown",
   "metadata": {},
   "source": [
    "---"
   ]
  },
  {
   "cell_type": "markdown",
   "metadata": {},
   "source": [
    "### 🌟 Best Practices"
   ]
  },
  {
   "cell_type": "markdown",
   "metadata": {},
   "source": [
    "\n",
    "### 1. 🔒 Security\n",
    "\n",
    "* ✅ Validate all inputs in MCP tools\n",
    "* ✅ Limit access to sensitive resources\n",
    "* ✅ Use environment variables for API keys\n",
    "\n",
    "### 2. 🚀 Performance\n",
    "\n",
    "* ✅ Reuse connections when possible\n",
    "* ✅ Implement appropriate timeouts\n",
    "* ✅ Cache results when it makes sense\n",
    "\n",
    "### 3. 🛠️ Development\n",
    "\n",
    "* ✅ Test tools individually first\n",
    "* ✅ Use detailed logs for debugging\n",
    "* ✅ Document tool schemas clearly\n",
    "\n",
    "### 4. 📦 Deployment\n",
    "\n",
    "* ✅ Containerize MCP servers\n",
    "* ✅ Monitor active connections\n",
    "* ✅ Implement health checks\n",
    "\n",
    "### 5. 🔄 Maintenance\n",
    "\n",
    "* ✅ Version protocols and tools\n",
    "* ✅ Document API changes\n",
    "* ✅ Maintain backward compatibility"
   ]
  },
  {
   "cell_type": "markdown",
   "metadata": {},
   "source": [
    "---"
   ]
  },
  {
   "cell_type": "markdown",
   "metadata": {},
   "source": [
    "## 8. Exercises and Resources {#exercises}\n",
    "\n",
    "### 🎯 Practical Exercises"
   ]
  },
  {
   "cell_type": "markdown",
   "metadata": {},
   "source": [
    "\n",
    "Create a tool that:\n",
    "\n",
    "1. Takes a **URL** as input\n",
    "2. Extracts the **title** and **meta description** from the page\n",
    "3. Returns a **structured summary** in `dict` format\n",
    "4. Expose it through an **MCP server**\n",
    "\n",
    "\n",
    "##### 🧰 Starter Template\n",
    "\n",
    "```python\n",
    "@tool\n",
    "def analyze_web_page(url: str) -> dict:\n",
    "    \"\"\"\n",
    "    TODO: Implement web page analysis\n",
    "    \"\"\"\n",
    "    # Your code here\n",
    "    pass\n",
    "```"
   ]
  },
  {
   "cell_type": "markdown",
   "metadata": {},
   "source": [
    "### 📚 Additional Resources"
   ]
  },
  {
   "cell_type": "markdown",
   "metadata": {},
   "source": [
    "\n",
    "#### Official Documentation\n",
    "\n",
    "* **[ADK Docs](https://github.com/google/adk-python)**\n",
    "* **[MCP Spec](https://modelcontextprotocol.io)**\n",
    "* **[MCP Python SDK](https://github.com/modelcontextprotocol/python-sdk)**\n",
    "* **[MCP Servers](https://github.com/modelcontextprotocol/servers)**\n",
    "\n",
    "#### Available MCP Servers\n",
    "\n",
    "* **Filesystem**: `@modelcontextprotocol/server-filesystem`\n",
    "* **Google Maps**: `@modelcontextprotocol/server-google-maps`\n",
    "* **GitHub**: `@modelcontextprotocol/server-github`\n",
    "* **Slack**: `@modelcontextprotocol/server-slack`\n",
    "\n",
    "#### Useful ADK Tools\n",
    "\n",
    "* **load_web_page**: Load web content\n",
    "* **google_search**: Google search\n",
    "* **code_execution**: Execute Python code"
   ]
  },
  {
   "cell_type": "markdown",
   "metadata": {},
   "source": [
    "## 🎉 Congratulations!\n",
    "\n",
    "You have learned to integrate the Model Context Protocol with your ADK agents. Now you can:\n",
    "\n",
    "- ✅ Connect ADK agents to existing MCP servers\n",
    "- ✅ Use `MCPToolset` to consume MCP tools\n",
    "- ✅ Create MCP servers to expose ADK tools\n",
    "- ✅ Build more flexible and powerful agent architectures\n",
    "\n",
    "### 🚀 Next Steps"
   ]
  },
  {
   "cell_type": "markdown",
   "metadata": {},
   "source": [
    "\n",
    "1. 🔧 Explore more community MCP servers\n",
    "2. 🛠️ Create your own specialized MCP servers\n",
    "3. 🌐 Integrate external services via MCP\n",
    "4. 🏗️ Build multi-agent architectures with MCP\n",
    "5. 📦 Deploy MCP servers in production\n",
    "\n",
    "> The MCP ecosystem is constantly growing!\n",
    "> Stay updated and share your creations with the community."
   ]
  },
  {
   "cell_type": "markdown",
   "metadata": {},
   "source": [
    "---\n",
    "\n",
    "**Created with ❤️ for the ADK developer community**\n",
    "\n",
    "📝 **Note**: This notebook is part of the Google ADK tutorial series. For more content, visit the official resources."
   ]
  }
 ],
 "metadata": {
  "kernelspec": {
   "display_name": "Python 3",
   "language": "python",
   "name": "python3"
  },
  "language_info": {
   "codemirror_mode": {
    "name": "ipython",
    "version": 3
   },
   "file_extension": ".py",
   "mimetype": "text/x-python",
   "name": "python",
   "nbconvert_exporter": "python",
   "pygments_lexer": "ipython3",
   "version": "3.8.5"
  }
 },
 "nbformat": 4,
 "nbformat_minor": 4
}